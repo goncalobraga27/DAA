{
 "cells": [
  {
   "cell_type": "code",
   "execution_count": 1,
   "metadata": {},
   "outputs": [],
   "source": [
    "! pip install pymc3"
   ]
  },
  {
   "cell_type": "code",
   "execution_count": null,
   "metadata": {},
   "outputs": [],
   "source": [
    "import pandas as pd\n",
    "import numpy as np\n",
    "import pymc3 as pm\n",
    "import matplotlib.pyplot as plt"
   ]
  },
  {
   "cell_type": "code",
   "execution_count": null,
   "metadata": {},
   "outputs": [],
   "source": [
    "df = pd.read_csv('../../../../datasets/parte1/dataset_cleaned.csv')"
   ]
  },
  {
   "cell_type": "code",
   "execution_count": null,
   "metadata": {},
   "outputs": [],
   "source": [
    "plt.scatter(df['Year'], df['MaxTemp'])\n",
    "plt.xlabel('X')\n",
    "plt.ylabel('Y')\n",
    "plt.title('Dados de Exemplo')\n",
    "plt.show()"
   ]
  },
  {
   "cell_type": "code",
   "execution_count": null,
   "metadata": {},
   "outputs": [],
   "source": [
    "with pm.Model() as model:\n",
    "    # Coeficientes e intercepto\n",
    "    alpha = pm.Normal('alpha', mu=0, sd=10)\n",
    "    beta = pm.Normal('beta', mu=0, sd=10)\n",
    "    sigma = pm.HalfNormal('sigma', sd=1)\n",
    "\n",
    "    # Modelo linear\n",
    "    mu = alpha + beta * df['Year']\n",
    "\n",
    "    # Likelihood\n",
    "    likelihood = pm.Normal('MaxTemp', mu=mu, sd=sigma, observed=df['MaxTemp'])\n",
    "\n",
    "    # Inferência\n",
    "    trace = pm.sample(1000, tune=1000)"
   ]
  },
  {
   "cell_type": "code",
   "execution_count": null,
   "metadata": {},
   "outputs": [],
   "source": [
    "pm.traceplot(trace)\n",
    "plt.show()\n",
    "\n",
    "# Sumário estatístico dos parâmetros\n",
    "print(pm.summary(trace))\n",
    "\n",
    "# Visualizar a regressão\n",
    "plt.scatter(df['Year'], df['MaxTemp'], label='Dados Observados')\n",
    "plt.xlabel('Year')\n",
    "plt.ylabel('MaxTemp')\n",
    "\n",
    "for alpha_, beta_ in zip(trace['alpha'][::50], trace['beta'][::50]):\n",
    "    plt.plot(df['MaxTemp'], alpha_ + beta_ * df['X'], color='gray', alpha=0.1)\n",
    "\n",
    "plt.title('Regressão Bayesiana')\n",
    "plt.legend()\n",
    "plt.show()"
   ]
  }
 ],
 "metadata": {
  "kernelspec": {
   "display_name": "daa310",
   "language": "python",
   "name": "python3"
  },
  "language_info": {
   "codemirror_mode": {
    "name": "ipython",
    "version": 3
   },
   "file_extension": ".py",
   "mimetype": "text/x-python",
   "name": "python",
   "nbconvert_exporter": "python",
   "pygments_lexer": "ipython3",
   "version": "3.10.13"
  }
 },
 "nbformat": 4,
 "nbformat_minor": 2
}
