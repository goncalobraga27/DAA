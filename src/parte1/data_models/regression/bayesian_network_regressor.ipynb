{
 "cells": [
  {
   "cell_type": "code",
   "execution_count": 1,
   "metadata": {},
   "outputs": [
    {
     "name": "stdout",
     "output_type": "stream",
     "text": [
      "Requirement already satisfied: pymc3 in /home/goncalo/miniconda3/envs/daa310/lib/python3.10/site-packages (3.11.5)\n",
      "Requirement already satisfied: arviz>=0.11.0 in /home/goncalo/miniconda3/envs/daa310/lib/python3.10/site-packages (from pymc3) (0.12.1)\n",
      "Requirement already satisfied: cachetools>=4.2.1 in /home/goncalo/miniconda3/envs/daa310/lib/python3.10/site-packages (from pymc3) (5.3.2)\n",
      "Requirement already satisfied: deprecat in /home/goncalo/miniconda3/envs/daa310/lib/python3.10/site-packages (from pymc3) (2.1.1)\n",
      "Requirement already satisfied: dill in /home/goncalo/miniconda3/envs/daa310/lib/python3.10/site-packages (from pymc3) (0.3.7)\n",
      "Requirement already satisfied: fastprogress>=0.2.0 in /home/goncalo/miniconda3/envs/daa310/lib/python3.10/site-packages (from pymc3) (1.0.3)\n",
      "Requirement already satisfied: numpy<1.22.2,>=1.15.0 in /home/goncalo/miniconda3/envs/daa310/lib/python3.10/site-packages (from pymc3) (1.22.1)\n",
      "Requirement already satisfied: pandas>=0.24.0 in /home/goncalo/miniconda3/envs/daa310/lib/python3.10/site-packages (from pymc3) (2.0.3)\n",
      "Requirement already satisfied: patsy>=0.5.1 in /home/goncalo/miniconda3/envs/daa310/lib/python3.10/site-packages (from pymc3) (0.5.3)\n",
      "Collecting scipy<1.8.0,>=1.7.3 (from pymc3)\n",
      "  Using cached scipy-1.7.3-cp310-cp310-manylinux_2_17_x86_64.manylinux2014_x86_64.whl (39.9 MB)\n",
      "Requirement already satisfied: semver>=2.13.0 in /home/goncalo/miniconda3/envs/daa310/lib/python3.10/site-packages (from pymc3) (3.0.2)\n",
      "Requirement already satisfied: theano-pymc==1.1.2 in /home/goncalo/miniconda3/envs/daa310/lib/python3.10/site-packages (from pymc3) (1.1.2)\n",
      "Requirement already satisfied: typing-extensions>=3.7.4 in /home/goncalo/miniconda3/envs/daa310/lib/python3.10/site-packages (from pymc3) (4.5.0)\n",
      "Requirement already satisfied: filelock in /home/goncalo/miniconda3/envs/daa310/lib/python3.10/site-packages (from theano-pymc==1.1.2->pymc3) (3.13.1)\n",
      "Requirement already satisfied: setuptools>=38.4 in /home/goncalo/miniconda3/envs/daa310/lib/python3.10/site-packages (from arviz>=0.11.0->pymc3) (68.0.0)\n",
      "Requirement already satisfied: matplotlib>=3.0 in /home/goncalo/miniconda3/envs/daa310/lib/python3.10/site-packages (from arviz>=0.11.0->pymc3) (3.7.2)\n",
      "Requirement already satisfied: packaging in /home/goncalo/miniconda3/envs/daa310/lib/python3.10/site-packages (from arviz>=0.11.0->pymc3) (23.1)\n",
      "Requirement already satisfied: xarray>=0.16.1 in /home/goncalo/miniconda3/envs/daa310/lib/python3.10/site-packages (from arviz>=0.11.0->pymc3) (2023.11.0)\n",
      "Requirement already satisfied: netcdf4 in /home/goncalo/miniconda3/envs/daa310/lib/python3.10/site-packages (from arviz>=0.11.0->pymc3) (1.6.5)\n",
      "Requirement already satisfied: xarray-einstats>=0.2 in /home/goncalo/miniconda3/envs/daa310/lib/python3.10/site-packages (from arviz>=0.11.0->pymc3) (0.6.0)\n",
      "Requirement already satisfied: python-dateutil>=2.8.2 in /home/goncalo/.local/lib/python3.10/site-packages (from pandas>=0.24.0->pymc3) (2.8.2)\n",
      "Requirement already satisfied: pytz>=2020.1 in /home/goncalo/miniconda3/envs/daa310/lib/python3.10/site-packages (from pandas>=0.24.0->pymc3) (2023.3.post1)\n",
      "Requirement already satisfied: tzdata>=2022.1 in /home/goncalo/miniconda3/envs/daa310/lib/python3.10/site-packages (from pandas>=0.24.0->pymc3) (2023.3)\n",
      "Requirement already satisfied: six in /home/goncalo/miniconda3/envs/daa310/lib/python3.10/site-packages (from patsy>=0.5.1->pymc3) (1.16.0)\n",
      "Requirement already satisfied: wrapt<2,>=1.10 in /home/goncalo/miniconda3/envs/daa310/lib/python3.10/site-packages (from deprecat->pymc3) (1.14.1)\n",
      "Requirement already satisfied: contourpy>=1.0.1 in /home/goncalo/miniconda3/envs/daa310/lib/python3.10/site-packages (from matplotlib>=3.0->arviz>=0.11.0->pymc3) (1.0.5)\n",
      "Requirement already satisfied: cycler>=0.10 in /home/goncalo/miniconda3/envs/daa310/lib/python3.10/site-packages (from matplotlib>=3.0->arviz>=0.11.0->pymc3) (0.11.0)\n",
      "Requirement already satisfied: fonttools>=4.22.0 in /home/goncalo/miniconda3/envs/daa310/lib/python3.10/site-packages (from matplotlib>=3.0->arviz>=0.11.0->pymc3) (4.25.0)\n",
      "Requirement already satisfied: kiwisolver>=1.0.1 in /home/goncalo/miniconda3/envs/daa310/lib/python3.10/site-packages (from matplotlib>=3.0->arviz>=0.11.0->pymc3) (1.4.4)\n",
      "Requirement already satisfied: pillow>=6.2.0 in /home/goncalo/miniconda3/envs/daa310/lib/python3.10/site-packages (from matplotlib>=3.0->arviz>=0.11.0->pymc3) (9.4.0)\n",
      "Requirement already satisfied: pyparsing<3.1,>=2.3.1 in /home/goncalo/miniconda3/envs/daa310/lib/python3.10/site-packages (from matplotlib>=3.0->arviz>=0.11.0->pymc3) (3.0.9)\n",
      "Requirement already satisfied: cftime in /home/goncalo/miniconda3/envs/daa310/lib/python3.10/site-packages (from netcdf4->arviz>=0.11.0->pymc3) (1.6.3)\n",
      "Requirement already satisfied: certifi in /home/goncalo/miniconda3/envs/daa310/lib/python3.10/site-packages (from netcdf4->arviz>=0.11.0->pymc3) (2023.7.22)\n",
      "Installing collected packages: scipy\n",
      "  Attempting uninstall: scipy\n",
      "    Found existing installation: scipy 1.11.1\n",
      "    Uninstalling scipy-1.11.1:\n",
      "      Successfully uninstalled scipy-1.11.1\n",
      "\u001b[31mERROR: pip's dependency resolver does not currently take into account all the packages that are installed. This behaviour is the source of the following dependency conflicts.\n",
      "jax 0.4.20 requires scipy>=1.9, but you have scipy 1.7.3 which is incompatible.\u001b[0m\u001b[31m\n",
      "\u001b[0mSuccessfully installed scipy-1.7.3\n"
     ]
    }
   ],
   "source": [
    "! pip install pymc3"
   ]
  },
  {
   "cell_type": "code",
   "execution_count": 2,
   "metadata": {},
   "outputs": [],
   "source": [
    "import pandas as pd\n",
    "import numpy as np\n",
    "import pymc3 as pm\n",
    "import matplotlib.pyplot as plt"
   ]
  },
  {
   "cell_type": "code",
   "execution_count": 3,
   "metadata": {},
   "outputs": [],
   "source": [
    "df = pd.read_csv('../../../../datasets/parte1/dataset_cleaned.csv')"
   ]
  },
  {
   "cell_type": "code",
   "execution_count": 4,
   "metadata": {},
   "outputs": [
    {
     "data": {
      "image/png": "[encoded data removed]",
      "text/plain": [
       "<Figure size 640x480 with 1 Axes>"
      ]
     },
     "metadata": {},
     "output_type": "display_data"
    }
   ],
   "source": [
    "plt.scatter(df['Year'], df['MaxTemp'])\n",
    "plt.xlabel('X')\n",
    "plt.ylabel('Y')\n",
    "plt.title('Dados de Exemplo')\n",
    "plt.show()"
   ]
  },
  {
   "cell_type": "code",
   "execution_count": 5,
   "metadata": {},
   "outputs": [
    {
     "name": "stderr",
     "output_type": "stream",
     "text": [
      "/home/goncalo/miniconda3/envs/daa310/lib/python3.10/site-packages/deprecat/classic.py:215: FutureWarning: In v4.0, pm.sample will return an `arviz.InferenceData` object instead of a `MultiTrace` by default. You can pass return_inferencedata=True or return_inferencedata=False to be safe and silence this warning.\n",
      "  return wrapped_(*args_, **kwargs_)\n",
      "Auto-assigning NUTS sampler...\n",
      "Initializing NUTS using jitter+adapt_diag...\n",
      "Multiprocess sampling (4 chains in 4 jobs)\n",
      "NUTS: [sigma, beta, alpha]\n"
     ]
    },
    {
     "data": {
      "text/html": [
       "\n",
       "<style>\n",
       "    /* Turns off some styling */\n",
       "    progress {\n",
       "        /* gets rid of default border in Firefox and Opera. */\n",
       "        border: none;\n",
       "        /* Needs to be in here for Safari polyfill so background images work as expected. */\n",
       "        background-size: auto;\n",
       "    }\n",
       "    progress:not([value]), progress:not([value])::-webkit-progress-bar {\n",
       "        background: repeating-linear-gradient(45deg, #7e7e7e, #7e7e7e 10px, #5c5c5c 10px, #5c5c5c 20px);\n",
       "    }\n",
       "    .progress-bar-interrupted, .progress-bar-interrupted::-webkit-progress-bar {\n",
       "        background: #F44336;\n",
       "    }\n",
       "</style>\n"
      ],
      "text/plain": [
       "<IPython.core.display.HTML object>"
      ]
     },
     "metadata": {},
     "output_type": "display_data"
    },
    {
     "data": {
      "text/html": [
       "\n",
       "    <div>\n",
       "      <progress value='1274' class='' max='8000' style='width:300px; height:20px; vertical-align: middle;'></progress>\n",
       "      15.93% [1274/8000 00:05&lt;00:28 Sampling 4 chains, 0 divergences]\n",
       "    </div>\n",
       "    "
      ],
      "text/plain": [
       "<IPython.core.display.HTML object>"
      ]
     },
     "metadata": {},
     "output_type": "display_data"
    },
    {
     "name": "stderr",
     "output_type": "stream",
     "text": [
      "/home/goncalo/miniconda3/envs/daa310/lib/python3.10/site-packages/pymc3/step_methods/hmc/quadpotential.py:220: RuntimeWarning: divide by zero encountered in true_divide\n",
      "  np.divide(1, self._stds, out=self._inv_stds)\n",
      "/home/goncalo/miniconda3/envs/daa310/lib/python3.10/site-packages/pymc3/step_methods/hmc/quadpotential.py:199: RuntimeWarning: invalid value encountered in multiply\n",
      "  return np.multiply(self._var, x, out=out)\n"
     ]
    },
    {
     "ename": "RuntimeError",
     "evalue": "Chain 2 failed.",
     "output_type": "error",
     "traceback": [
      "\u001b[0;31m---------------------------------------------------------------------------\u001b[0m",
      "\u001b[0;31mRemoteTraceback\u001b[0m                           Traceback (most recent call last)",
      "\u001b[0;31mRemoteTraceback\u001b[0m: \n\"\"\"\nTraceback (most recent call last):\n  File \"/home/goncalo/miniconda3/envs/daa310/lib/python3.10/site-packages/pymc3/parallel_sampling.py\", line 137, in run\n    self._start_loop()\n  File \"/home/goncalo/miniconda3/envs/daa310/lib/python3.10/site-packages/pymc3/parallel_sampling.py\", line 191, in _start_loop\n    point, stats = self._compute_point()\n  File \"/home/goncalo/miniconda3/envs/daa310/lib/python3.10/site-packages/pymc3/parallel_sampling.py\", line 216, in _compute_point\n    point, stats = self._step_method.step(self._point)\n  File \"/home/goncalo/miniconda3/envs/daa310/lib/python3.10/site-packages/pymc3/step_methods/arraystep.py\", line 276, in step\n    apoint, stats = self.astep(array)\n  File \"/home/goncalo/miniconda3/envs/daa310/lib/python3.10/site-packages/pymc3/step_methods/hmc/base_hmc.py\", line 147, in astep\n    self.potential.raise_ok(self._logp_dlogp_func._ordering.vmap)\n  File \"/home/goncalo/miniconda3/envs/daa310/lib/python3.10/site-packages/pymc3/step_methods/hmc/quadpotential.py\", line 268, in raise_ok\n    raise ValueError(\"\\n\".join(errmsg))\nValueError: Mass matrix contains zeros on the diagonal. \nThe derivative of RV `alpha`.ravel()[0] is zero.\n\"\"\"",
      "\nThe above exception was the direct cause of the following exception:\n",
      "\u001b[0;31mValueError\u001b[0m                                Traceback (most recent call last)",
      "\u001b[0;31mValueError\u001b[0m: Mass matrix contains zeros on the diagonal. \nThe derivative of RV `alpha`.ravel()[0] is zero.",
      "\nThe above exception was the direct cause of the following exception:\n",
      "\u001b[0;31mRuntimeError\u001b[0m                              Traceback (most recent call last)",
      "\u001b[1;32m/home/goncalo/Desktop/DAA/src/parte1/data_models/regression/bayesian_network_regressor.ipynb Cell 5\u001b[0m line \u001b[0;36m1\n\u001b[1;32m     <a href='vscode-notebook-cell:/home/goncalo/Desktop/DAA/src/parte1/data_models/regression/bayesian_network_regressor.ipynb#W5sZmlsZQ%3D%3D?line=10'>11</a>\u001b[0m likelihood \u001b[39m=\u001b[39m pm\u001b[39m.\u001b[39mNormal(\u001b[39m'\u001b[39m\u001b[39mMaxTemp\u001b[39m\u001b[39m'\u001b[39m, mu\u001b[39m=\u001b[39mmu, sd\u001b[39m=\u001b[39msigma, observed\u001b[39m=\u001b[39mdf[\u001b[39m'\u001b[39m\u001b[39mMaxTemp\u001b[39m\u001b[39m'\u001b[39m])\n\u001b[1;32m     <a href='vscode-notebook-cell:/home/goncalo/Desktop/DAA/src/parte1/data_models/regression/bayesian_network_regressor.ipynb#W5sZmlsZQ%3D%3D?line=12'>13</a>\u001b[0m \u001b[39m# Inferência\u001b[39;00m\n\u001b[0;32m---> <a href='vscode-notebook-cell:/home/goncalo/Desktop/DAA/src/parte1/data_models/regression/bayesian_network_regressor.ipynb#W5sZmlsZQ%3D%3D?line=13'>14</a>\u001b[0m trace \u001b[39m=\u001b[39m pm\u001b[39m.\u001b[39;49msample(\u001b[39m1000\u001b[39;49m, tune\u001b[39m=\u001b[39;49m\u001b[39m1000\u001b[39;49m)\n",
      "File \u001b[0;32m~/miniconda3/envs/daa310/lib/python3.10/site-packages/deprecat/classic.py:215\u001b[0m, in \u001b[0;36mdeprecat.<locals>.wrapper_function\u001b[0;34m(wrapped_, instance_, args_, kwargs_)\u001b[0m\n\u001b[1;32m    213\u001b[0m         \u001b[39melse\u001b[39;00m:\n\u001b[1;32m    214\u001b[0m             warnings\u001b[39m.\u001b[39mwarn(message, category\u001b[39m=\u001b[39mcategory, stacklevel\u001b[39m=\u001b[39m_routine_stacklevel)\n\u001b[0;32m--> 215\u001b[0m \u001b[39mreturn\u001b[39;00m wrapped_(\u001b[39m*\u001b[39;49margs_, \u001b[39m*\u001b[39;49m\u001b[39m*\u001b[39;49mkwargs_)\n",
      "File \u001b[0;32m~/miniconda3/envs/daa310/lib/python3.10/site-packages/pymc3/sampling.py:575\u001b[0m, in \u001b[0;36msample\u001b[0;34m(draws, step, init, n_init, initvals, trace, chain_idx, chains, cores, tune, progressbar, model, random_seed, discard_tuned_samples, compute_convergence_checks, callback, jitter_max_retries, start, return_inferencedata, idata_kwargs, mp_ctx, pickle_backend, **kwargs)\u001b[0m\n\u001b[1;32m    573\u001b[0m _print_step_hierarchy(step)\n\u001b[1;32m    574\u001b[0m \u001b[39mtry\u001b[39;00m:\n\u001b[0;32m--> 575\u001b[0m     trace \u001b[39m=\u001b[39m _mp_sample(\u001b[39m*\u001b[39;49m\u001b[39m*\u001b[39;49msample_args, \u001b[39m*\u001b[39;49m\u001b[39m*\u001b[39;49mparallel_args)\n\u001b[1;32m    576\u001b[0m \u001b[39mexcept\u001b[39;00m pickle\u001b[39m.\u001b[39mPickleError:\n\u001b[1;32m    577\u001b[0m     _log\u001b[39m.\u001b[39mwarning(\u001b[39m\"\u001b[39m\u001b[39mCould not pickle model, sampling singlethreaded.\u001b[39m\u001b[39m\"\u001b[39m)\n",
      "File \u001b[0;32m~/miniconda3/envs/daa310/lib/python3.10/site-packages/pymc3/sampling.py:1496\u001b[0m, in \u001b[0;36m_mp_sample\u001b[0;34m(draws, tune, step, chains, cores, chain, random_seed, start, progressbar, trace, model, callback, discard_tuned_samples, mp_ctx, pickle_backend, **kwargs)\u001b[0m\n\u001b[1;32m   1494\u001b[0m \u001b[39mtry\u001b[39;00m:\n\u001b[1;32m   1495\u001b[0m     \u001b[39mwith\u001b[39;00m sampler:\n\u001b[0;32m-> 1496\u001b[0m         \u001b[39mfor\u001b[39;00m draw \u001b[39min\u001b[39;00m sampler:\n\u001b[1;32m   1497\u001b[0m             trace \u001b[39m=\u001b[39m traces[draw\u001b[39m.\u001b[39mchain \u001b[39m-\u001b[39m chain]\n\u001b[1;32m   1498\u001b[0m             \u001b[39mif\u001b[39;00m trace\u001b[39m.\u001b[39msupports_sampler_stats \u001b[39mand\u001b[39;00m draw\u001b[39m.\u001b[39mstats \u001b[39mis\u001b[39;00m \u001b[39mnot\u001b[39;00m \u001b[39mNone\u001b[39;00m:\n",
      "File \u001b[0;32m~/miniconda3/envs/daa310/lib/python3.10/site-packages/pymc3/parallel_sampling.py:479\u001b[0m, in \u001b[0;36mParallelSampler.__iter__\u001b[0;34m(self)\u001b[0m\n\u001b[1;32m    476\u001b[0m     \u001b[39mself\u001b[39m\u001b[39m.\u001b[39m_progress\u001b[39m.\u001b[39mupdate(\u001b[39mself\u001b[39m\u001b[39m.\u001b[39m_total_draws)\n\u001b[1;32m    478\u001b[0m \u001b[39mwhile\u001b[39;00m \u001b[39mself\u001b[39m\u001b[39m.\u001b[39m_active:\n\u001b[0;32m--> 479\u001b[0m     draw \u001b[39m=\u001b[39m ProcessAdapter\u001b[39m.\u001b[39;49mrecv_draw(\u001b[39mself\u001b[39;49m\u001b[39m.\u001b[39;49m_active)\n\u001b[1;32m    480\u001b[0m     proc, is_last, draw, tuning, stats, warns \u001b[39m=\u001b[39m draw\n\u001b[1;32m    481\u001b[0m     \u001b[39mself\u001b[39m\u001b[39m.\u001b[39m_total_draws \u001b[39m+\u001b[39m\u001b[39m=\u001b[39m \u001b[39m1\u001b[39m\n",
      "File \u001b[0;32m~/miniconda3/envs/daa310/lib/python3.10/site-packages/pymc3/parallel_sampling.py:359\u001b[0m, in \u001b[0;36mProcessAdapter.recv_draw\u001b[0;34m(processes, timeout)\u001b[0m\n\u001b[1;32m    357\u001b[0m     \u001b[39melse\u001b[39;00m:\n\u001b[1;32m    358\u001b[0m         error \u001b[39m=\u001b[39m \u001b[39mRuntimeError\u001b[39;00m(\u001b[39m\"\u001b[39m\u001b[39mChain \u001b[39m\u001b[39m%s\u001b[39;00m\u001b[39m failed.\u001b[39m\u001b[39m\"\u001b[39m \u001b[39m%\u001b[39m proc\u001b[39m.\u001b[39mchain)\n\u001b[0;32m--> 359\u001b[0m     \u001b[39mraise\u001b[39;00m error \u001b[39mfrom\u001b[39;00m \u001b[39mold_error\u001b[39;00m\n\u001b[1;32m    360\u001b[0m \u001b[39melif\u001b[39;00m msg[\u001b[39m0\u001b[39m] \u001b[39m==\u001b[39m \u001b[39m\"\u001b[39m\u001b[39mwriting_done\u001b[39m\u001b[39m\"\u001b[39m:\n\u001b[1;32m    361\u001b[0m     proc\u001b[39m.\u001b[39m_readable \u001b[39m=\u001b[39m \u001b[39mTrue\u001b[39;00m\n",
      "\u001b[0;31mRuntimeError\u001b[0m: Chain 2 failed."
     ]
    }
   ],
   "source": [
    "with pm.Model() as model:\n",
    "    # Coeficientes e intercepto\n",
    "    alpha = pm.Normal('alpha', mu=0, sd=10)\n",
    "    beta = pm.Normal('beta', mu=0, sd=10)\n",
    "    sigma = pm.HalfNormal('sigma', sd=1)\n",
    "\n",
    "    # Modelo linear\n",
    "    mu = alpha + beta * df['Year']\n",
    "\n",
    "    # Likelihood\n",
    "    likelihood = pm.Normal('MaxTemp', mu=mu, sd=sigma, observed=df['MaxTemp'])\n",
    "\n",
    "    # Inferência\n",
    "    trace = pm.sample(1000, tune=1000)"
   ]
  },
  {
   "cell_type": "code",
   "execution_count": null,
   "metadata": {},
   "outputs": [],
   "source": [
    "pm.traceplot(trace)\n",
    "plt.show()\n",
    "\n",
    "# Sumário estatístico dos parâmetros\n",
    "print(pm.summary(trace))\n",
    "\n",
    "# Visualizar a regressão\n",
    "plt.scatter(df['Year'], df['MaxTemp'], label='Dados Observados')\n",
    "plt.xlabel('Year')\n",
    "plt.ylabel('MaxTemp')\n",
    "\n",
    "for alpha_, beta_ in zip(trace['alpha'][::50], trace['beta'][::50]):\n",
    "    plt.plot(df['MaxTemp'], alpha_ + beta_ * df['X'], color='gray', alpha=0.1)\n",
    "\n",
    "plt.title('Regressão Bayesiana')\n",
    "plt.legend()\n",
    "plt.show()"
   ]
  }
 ],
 "metadata": {
  "kernelspec": {
   "display_name": "daa310",
   "language": "python",
   "name": "python3"
  },
  "language_info": {
   "codemirror_mode": {
    "name": "ipython",
    "version": 3
   },
   "file_extension": ".py",
   "mimetype": "text/x-python",
   "name": "python",
   "nbconvert_exporter": "python",
   "pygments_lexer": "ipython3",
   "version": "3.10.13"
  }
 },
 "nbformat": 4,
 "nbformat_minor": 2
}
