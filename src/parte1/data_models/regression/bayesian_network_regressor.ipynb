{
 "cells": [
  {
   "cell_type": "code",
   "execution_count": 1,
   "metadata": {},
   "outputs": [
    {
     "name": "stdout",
     "output_type": "stream",
     "text": [
      "Collecting pymc3\n",
      "  Downloading pymc3-3.11.5-py3-none-any.whl (872 kB)\n",
      "\u001b[2K     \u001b[90m━━━━━━━━━━━━━━━━━━━━━━━━━━━━━━━━━━━━━\u001b[0m \u001b[32m872.2/872.2 kB\u001b[0m \u001b[31m118.0 kB/s\u001b[0m eta \u001b[36m0:00:00\u001b[0m00:01\u001b[0m00:01\u001b[0m\n",
      "\u001b[?25hCollecting arviz>=0.11.0 (from pymc3)\n",
      "  Obtaining dependency information for arviz>=0.11.0 from https://files.pythonhosted.org/packages/8c/43/b5be65de19e4ca0cfeb522addc3ac4abdafa9d29f3512dec05b8a672c615/arviz-0.16.1-py3-none-any.whl.metadata\n",
      "  Downloading arviz-0.16.1-py3-none-any.whl.metadata (8.7 kB)\n",
      "Requirement already satisfied: cachetools>=4.2.1 in /home/goncalo/miniconda3/envs/daa310/lib/python3.10/site-packages (from pymc3) (5.3.2)\n",
      "Collecting deprecat (from pymc3)\n",
      "  Downloading deprecat-2.1.1-py2.py3-none-any.whl (9.8 kB)\n",
      "Collecting dill (from pymc3)\n",
      "  Obtaining dependency information for dill from https://files.pythonhosted.org/packages/f5/3a/74a29b11cf2cdfcd6ba89c0cecd70b37cd1ba7b77978ce611eb7a146a832/dill-0.3.7-py3-none-any.whl.metadata\n",
      "  Downloading dill-0.3.7-py3-none-any.whl.metadata (9.9 kB)\n",
      "Collecting fastprogress>=0.2.0 (from pymc3)\n",
      "  Downloading fastprogress-1.0.3-py3-none-any.whl (12 kB)\n",
      "Collecting numpy<1.22.2,>=1.15.0 (from pymc3)\n",
      "  Downloading numpy-1.22.1-cp310-cp310-manylinux_2_17_x86_64.manylinux2014_x86_64.whl (16.8 MB)\n",
      "\u001b[2K     \u001b[91m━━━━━━━━━━━━━━━\u001b[0m\u001b[91m╸\u001b[0m\u001b[90m━━━━━━━━━━━━━━━━━━━━━━━━\u001b[0m \u001b[32m6.6/16.8 MB\u001b[0m \u001b[31m16.4 kB/s\u001b[0m eta \u001b[36m0:10:26\u001b[0mm\n",
      "\u001b[?25h\u001b[31mERROR: Exception:\n",
      "Traceback (most recent call last):\n",
      "  File \"/home/goncalo/miniconda3/envs/daa310/lib/python3.10/site-packages/pip/_vendor/urllib3/response.py\", line 438, in _error_catcher\n",
      "    yield\n",
      "  File \"/home/goncalo/miniconda3/envs/daa310/lib/python3.10/site-packages/pip/_vendor/urllib3/response.py\", line 561, in read\n",
      "    data = self._fp_read(amt) if not fp_closed else b\"\"\n",
      "  File \"/home/goncalo/miniconda3/envs/daa310/lib/python3.10/site-packages/pip/_vendor/urllib3/response.py\", line 527, in _fp_read\n",
      "    return self._fp.read(amt) if amt is not None else self._fp.read()\n",
      "  File \"/home/goncalo/miniconda3/envs/daa310/lib/python3.10/site-packages/pip/_vendor/cachecontrol/filewrapper.py\", line 90, in read\n",
      "    data = self.__fp.read(amt)\n",
      "  File \"/home/goncalo/miniconda3/envs/daa310/lib/python3.10/http/client.py\", line 466, in read\n",
      "    s = self.fp.read(amt)\n",
      "  File \"/home/goncalo/miniconda3/envs/daa310/lib/python3.10/socket.py\", line 705, in readinto\n",
      "    return self._sock.recv_into(b)\n",
      "  File \"/home/goncalo/miniconda3/envs/daa310/lib/python3.10/ssl.py\", line 1307, in recv_into\n",
      "    return self.read(nbytes, buffer)\n",
      "  File \"/home/goncalo/miniconda3/envs/daa310/lib/python3.10/ssl.py\", line 1163, in read\n",
      "    return self._sslobj.read(len, buffer)\n",
      "TimeoutError: The read operation timed out\n",
      "\n",
      "During handling of the above exception, another exception occurred:\n",
      "\n",
      "Traceback (most recent call last):\n",
      "  File \"/home/goncalo/miniconda3/envs/daa310/lib/python3.10/site-packages/pip/_internal/cli/base_command.py\", line 180, in exc_logging_wrapper\n",
      "    status = run_func(*args)\n",
      "  File \"/home/goncalo/miniconda3/envs/daa310/lib/python3.10/site-packages/pip/_internal/cli/req_command.py\", line 248, in wrapper\n",
      "    return func(self, options, args)\n",
      "  File \"/home/goncalo/miniconda3/envs/daa310/lib/python3.10/site-packages/pip/_internal/commands/install.py\", line 377, in run\n",
      "    requirement_set = resolver.resolve(\n",
      "  File \"/home/goncalo/miniconda3/envs/daa310/lib/python3.10/site-packages/pip/_internal/resolution/resolvelib/resolver.py\", line 92, in resolve\n",
      "    result = self._result = resolver.resolve(\n",
      "  File \"/home/goncalo/miniconda3/envs/daa310/lib/python3.10/site-packages/pip/_vendor/resolvelib/resolvers.py\", line 546, in resolve\n",
      "    state = resolution.resolve(requirements, max_rounds=max_rounds)\n",
      "  File \"/home/goncalo/miniconda3/envs/daa310/lib/python3.10/site-packages/pip/_vendor/resolvelib/resolvers.py\", line 427, in resolve\n",
      "    failure_causes = self._attempt_to_pin_criterion(name)\n",
      "  File \"/home/goncalo/miniconda3/envs/daa310/lib/python3.10/site-packages/pip/_vendor/resolvelib/resolvers.py\", line 239, in _attempt_to_pin_criterion\n",
      "    criteria = self._get_updated_criteria(candidate)\n",
      "  File \"/home/goncalo/miniconda3/envs/daa310/lib/python3.10/site-packages/pip/_vendor/resolvelib/resolvers.py\", line 230, in _get_updated_criteria\n",
      "    self._add_to_criteria(criteria, requirement, parent=candidate)\n",
      "  File \"/home/goncalo/miniconda3/envs/daa310/lib/python3.10/site-packages/pip/_vendor/resolvelib/resolvers.py\", line 173, in _add_to_criteria\n",
      "    if not criterion.candidates:\n",
      "  File \"/home/goncalo/miniconda3/envs/daa310/lib/python3.10/site-packages/pip/_vendor/resolvelib/structs.py\", line 156, in __bool__\n",
      "    return bool(self._sequence)\n",
      "  File \"/home/goncalo/miniconda3/envs/daa310/lib/python3.10/site-packages/pip/_internal/resolution/resolvelib/found_candidates.py\", line 155, in __bool__\n",
      "    return any(self)\n",
      "  File \"/home/goncalo/miniconda3/envs/daa310/lib/python3.10/site-packages/pip/_internal/resolution/resolvelib/found_candidates.py\", line 143, in <genexpr>\n",
      "    return (c for c in iterator if id(c) not in self._incompatible_ids)\n",
      "  File \"/home/goncalo/miniconda3/envs/daa310/lib/python3.10/site-packages/pip/_internal/resolution/resolvelib/found_candidates.py\", line 47, in _iter_built\n",
      "    candidate = func()\n",
      "  File \"/home/goncalo/miniconda3/envs/daa310/lib/python3.10/site-packages/pip/_internal/resolution/resolvelib/factory.py\", line 206, in _make_candidate_from_link\n",
      "    self._link_candidate_cache[link] = LinkCandidate(\n",
      "  File \"/home/goncalo/miniconda3/envs/daa310/lib/python3.10/site-packages/pip/_internal/resolution/resolvelib/candidates.py\", line 293, in __init__\n",
      "    super().__init__(\n",
      "  File \"/home/goncalo/miniconda3/envs/daa310/lib/python3.10/site-packages/pip/_internal/resolution/resolvelib/candidates.py\", line 156, in __init__\n",
      "    self.dist = self._prepare()\n",
      "  File \"/home/goncalo/miniconda3/envs/daa310/lib/python3.10/site-packages/pip/_internal/resolution/resolvelib/candidates.py\", line 225, in _prepare\n",
      "    dist = self._prepare_distribution()\n",
      "  File \"/home/goncalo/miniconda3/envs/daa310/lib/python3.10/site-packages/pip/_internal/resolution/resolvelib/candidates.py\", line 304, in _prepare_distribution\n",
      "    return preparer.prepare_linked_requirement(self._ireq, parallel_builds=True)\n",
      "  File \"/home/goncalo/miniconda3/envs/daa310/lib/python3.10/site-packages/pip/_internal/operations/prepare.py\", line 538, in prepare_linked_requirement\n",
      "    return self._prepare_linked_requirement(req, parallel_builds)\n",
      "  File \"/home/goncalo/miniconda3/envs/daa310/lib/python3.10/site-packages/pip/_internal/operations/prepare.py\", line 609, in _prepare_linked_requirement\n",
      "    local_file = unpack_url(\n",
      "  File \"/home/goncalo/miniconda3/envs/daa310/lib/python3.10/site-packages/pip/_internal/operations/prepare.py\", line 166, in unpack_url\n",
      "    file = get_http_url(\n",
      "  File \"/home/goncalo/miniconda3/envs/daa310/lib/python3.10/site-packages/pip/_internal/operations/prepare.py\", line 107, in get_http_url\n",
      "    from_path, content_type = download(link, temp_dir.path)\n",
      "  File \"/home/goncalo/miniconda3/envs/daa310/lib/python3.10/site-packages/pip/_internal/network/download.py\", line 147, in __call__\n",
      "    for chunk in chunks:\n",
      "  File \"/home/goncalo/miniconda3/envs/daa310/lib/python3.10/site-packages/pip/_internal/cli/progress_bars.py\", line 53, in _rich_progress_bar\n",
      "    for chunk in iterable:\n",
      "  File \"/home/goncalo/miniconda3/envs/daa310/lib/python3.10/site-packages/pip/_internal/network/utils.py\", line 63, in response_chunks\n",
      "    for chunk in response.raw.stream(\n",
      "  File \"/home/goncalo/miniconda3/envs/daa310/lib/python3.10/site-packages/pip/_vendor/urllib3/response.py\", line 622, in stream\n",
      "    data = self.read(amt=amt, decode_content=decode_content)\n",
      "  File \"/home/goncalo/miniconda3/envs/daa310/lib/python3.10/site-packages/pip/_vendor/urllib3/response.py\", line 560, in read\n",
      "    with self._error_catcher():\n",
      "  File \"/home/goncalo/miniconda3/envs/daa310/lib/python3.10/contextlib.py\", line 153, in __exit__\n",
      "    self.gen.throw(typ, value, traceback)\n",
      "  File \"/home/goncalo/miniconda3/envs/daa310/lib/python3.10/site-packages/pip/_vendor/urllib3/response.py\", line 443, in _error_catcher\n",
      "    raise ReadTimeoutError(self._pool, None, \"Read timed out.\")\n",
      "pip._vendor.urllib3.exceptions.ReadTimeoutError: HTTPSConnectionPool(host='files.pythonhosted.org', port=443): Read timed out.\u001b[0m\u001b[31m\n",
      "\u001b[0m"
     ]
    }
   ],
   "source": [
    "! pip install pymc3"
   ]
  },
  {
   "cell_type": "code",
   "execution_count": 2,
   "metadata": {},
   "outputs": [
    {
     "ename": "ModuleNotFoundError",
     "evalue": "No module named 'pymc3'",
     "output_type": "error",
     "traceback": [
      "\u001b[0;31m---------------------------------------------------------------------------\u001b[0m",
      "\u001b[0;31mModuleNotFoundError\u001b[0m                       Traceback (most recent call last)",
      "\u001b[1;32m/home/goncalo/Desktop/DAA/src/parte1/data_models/regression/bayesian_network_regressor.ipynb Cell 2\u001b[0m line \u001b[0;36m3\n\u001b[1;32m      <a href='vscode-notebook-cell:/home/goncalo/Desktop/DAA/src/parte1/data_models/regression/bayesian_network_regressor.ipynb#W1sZmlsZQ%3D%3D?line=0'>1</a>\u001b[0m \u001b[39mimport\u001b[39;00m \u001b[39mpandas\u001b[39;00m \u001b[39mas\u001b[39;00m \u001b[39mpd\u001b[39;00m\n\u001b[1;32m      <a href='vscode-notebook-cell:/home/goncalo/Desktop/DAA/src/parte1/data_models/regression/bayesian_network_regressor.ipynb#W1sZmlsZQ%3D%3D?line=1'>2</a>\u001b[0m \u001b[39mimport\u001b[39;00m \u001b[39mnumpy\u001b[39;00m \u001b[39mas\u001b[39;00m \u001b[39mnp\u001b[39;00m\n\u001b[0;32m----> <a href='vscode-notebook-cell:/home/goncalo/Desktop/DAA/src/parte1/data_models/regression/bayesian_network_regressor.ipynb#W1sZmlsZQ%3D%3D?line=2'>3</a>\u001b[0m \u001b[39mimport\u001b[39;00m \u001b[39mpymc3\u001b[39;00m \u001b[39mas\u001b[39;00m \u001b[39mpm\u001b[39;00m\n\u001b[1;32m      <a href='vscode-notebook-cell:/home/goncalo/Desktop/DAA/src/parte1/data_models/regression/bayesian_network_regressor.ipynb#W1sZmlsZQ%3D%3D?line=3'>4</a>\u001b[0m \u001b[39mimport\u001b[39;00m \u001b[39mmatplotlib\u001b[39;00m\u001b[39m.\u001b[39;00m\u001b[39mpyplot\u001b[39;00m \u001b[39mas\u001b[39;00m \u001b[39mplt\u001b[39;00m\n",
      "\u001b[0;31mModuleNotFoundError\u001b[0m: No module named 'pymc3'"
     ]
    }
   ],
   "source": [
    "import pandas as pd\n",
    "import numpy as np\n",
    "import pymc3 as pm\n",
    "import matplotlib.pyplot as plt"
   ]
  },
  {
   "cell_type": "code",
   "execution_count": null,
   "metadata": {},
   "outputs": [],
   "source": [
    "df = pd.read_csv('../../../../datasets/parte1/dataset_cleaned.csv')"
   ]
  },
  {
   "cell_type": "code",
   "execution_count": null,
   "metadata": {},
   "outputs": [],
   "source": [
    "plt.scatter(df['Year'], df['MaxTemp'])\n",
    "plt.xlabel('X')\n",
    "plt.ylabel('Y')\n",
    "plt.title('Dados de Exemplo')\n",
    "plt.show()"
   ]
  },
  {
   "cell_type": "code",
   "execution_count": null,
   "metadata": {},
   "outputs": [],
   "source": [
    "with pm.Model() as model:\n",
    "    # Coeficientes e intercepto\n",
    "    alpha = pm.Normal('alpha', mu=0, sd=10)\n",
    "    beta = pm.Normal('beta', mu=0, sd=10)\n",
    "    sigma = pm.HalfNormal('sigma', sd=1)\n",
    "\n",
    "    # Modelo linear\n",
    "    mu = alpha + beta * df['Year']\n",
    "\n",
    "    # Likelihood\n",
    "    likelihood = pm.Normal('MaxTemp', mu=mu, sd=sigma, observed=df['MaxTemp'])\n",
    "\n",
    "    # Inferência\n",
    "    trace = pm.sample(1000, tune=1000)"
   ]
  },
  {
   "cell_type": "code",
   "execution_count": null,
   "metadata": {},
   "outputs": [],
   "source": [
    "pm.traceplot(trace)\n",
    "plt.show()\n",
    "\n",
    "# Sumário estatístico dos parâmetros\n",
    "print(pm.summary(trace))\n",
    "\n",
    "# Visualizar a regressão\n",
    "plt.scatter(df['Year'], df['MaxTemp'], label='Dados Observados')\n",
    "plt.xlabel('Year')\n",
    "plt.ylabel('MaxTemp')\n",
    "\n",
    "for alpha_, beta_ in zip(trace['alpha'][::50], trace['beta'][::50]):\n",
    "    plt.plot(df['MaxTemp'], alpha_ + beta_ * df['X'], color='gray', alpha=0.1)\n",
    "\n",
    "plt.title('Regressão Bayesiana')\n",
    "plt.legend()\n",
    "plt.show()"
   ]
  }
 ],
 "metadata": {
  "kernelspec": {
   "display_name": "daa310",
   "language": "python",
   "name": "python3"
  },
  "language_info": {
   "codemirror_mode": {
    "name": "ipython",
    "version": 3
   },
   "file_extension": ".py",
   "mimetype": "text/x-python",
   "name": "python",
   "nbconvert_exporter": "python",
   "pygments_lexer": "ipython3",
   "version": "3.10.13"
  }
 },
 "nbformat": 4,
 "nbformat_minor": 2
}
