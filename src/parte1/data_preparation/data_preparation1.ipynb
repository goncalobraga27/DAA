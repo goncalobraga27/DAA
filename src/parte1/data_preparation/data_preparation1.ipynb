{
 "cells": [
  {
   "cell_type": "code",
   "execution_count": null,
   "metadata": {},
   "outputs": [],
   "source": [
    "import matplotlib.pyplot as plt\n",
    "import pandas as pd\n",
    "import numpy as np\n",
    "import seaborn as sns\n",
    "from sklearn.preprocessing import LabelEncoder\n",
    "%matplotlib inline"
   ]
  },
  {
   "cell_type": "code",
   "execution_count": null,
   "metadata": {},
   "outputs": [],
   "source": [
    "df = pd.read_csv('../../../datasets/parte1/weatherAUS.csv')"
   ]
  },
  {
   "cell_type": "markdown",
   "metadata": {},
   "source": [
    "#### Split Data"
   ]
  },
  {
   "cell_type": "code",
   "execution_count": null,
   "metadata": {},
   "outputs": [],
   "source": [
    "#df['Date'] = pd.to_datetime(df['Date'], format=\"%Y-%m-%d\", utc=True)\n",
    "#df['Year'] = df['Date'].dt.year\n",
    "#df['Month'] = df['Date'].dt.month\n",
    "#df['Day'] = df['Date'].dt.day\n",
    "df.drop(['Date'], inplace=True, axis=1)\n",
    "\n",
    "df.head()"
   ]
  },
  {
   "cell_type": "markdown",
   "metadata": {},
   "source": [
    "### Drop columns which do not improve the model"
   ]
  },
  {
   "cell_type": "code",
   "execution_count": null,
   "metadata": {},
   "outputs": [],
   "source": [
    "#df.drop(['Location'], axis=1, inplace=True)"
   ]
  },
  {
   "cell_type": "markdown",
   "metadata": {},
   "source": [
    "# Missing Values"
   ]
  },
  {
   "cell_type": "markdown",
   "metadata": {},
   "source": [
    "\n",
    "#### Mean imputation in NA values"
   ]
  },
  {
   "cell_type": "code",
   "execution_count": null,
   "metadata": {},
   "outputs": [],
   "source": [
    "#df.drop(['Evaporation'], axis=1, inplace=True)\n",
    "#df.drop(['Sunshine'], axis=1, inplace=True)\n",
    "#df.drop(['Cloud9am'], axis=1, inplace=True)\n",
    "#df.drop(['Cloud3pm'], axis=1, inplace=True)"
   ]
  },
  {
   "cell_type": "code",
   "execution_count": null,
   "metadata": {},
   "outputs": [],
   "source": [
    "mintemp_mean=df['MinTemp'].mean() \n",
    "df['MinTemp'].fillna(mintemp_mean, inplace=True)\n",
    "\n",
    "mintemp_mean=df['MinTemp'].mean() \n",
    "df['MinTemp'].fillna(mintemp_mean, inplace=True)\n",
    "\n",
    "maxtemp_mean=df['MaxTemp'].mean() \n",
    "df['MaxTemp'].fillna(maxtemp_mean, inplace=True)\n",
    "\n",
    "rainfall_mean=df['Rainfall'].mean() \n",
    "df['Rainfall'].fillna(rainfall_mean, inplace=True)\n",
    "\n",
    "windgustspeed_mean=df['WindGustSpeed'].mean() \n",
    "df['WindGustSpeed'].fillna(windgustspeed_mean, inplace=True)\n",
    "\n",
    "windspeed9am_mean=df['WindSpeed9am'].mean() \n",
    "df['WindSpeed9am'].fillna(windspeed9am_mean, inplace=True)\n",
    "\n",
    "windspeed3pm_mean=df['WindSpeed3pm'].mean() \n",
    "df['WindSpeed3pm'].fillna(windspeed3pm_mean, inplace=True)\n",
    "\n",
    "humidity9am_mean=df['Humidity9am'].mean() \n",
    "df['Humidity9am'].fillna(humidity9am_mean, inplace=True)\n",
    "\n",
    "humidity3pm_mean=df['Humidity3pm'].mean() \n",
    "df['Humidity3pm'].fillna(humidity3pm_mean, inplace=True)\n",
    "\n",
    "pressure9am_mean=df['Pressure9am'].mean() \n",
    "df['Pressure9am'].fillna(pressure9am_mean, inplace=True)\n",
    "\n",
    "pressure3pm_mean=df['Pressure3pm'].mean() \n",
    "df['Pressure3pm'].fillna(pressure3pm_mean, inplace=True)\n",
    "\n",
    "temp9am_mean=df['Temp9am'].mean() \n",
    "df['Temp9am'].fillna(temp9am_mean, inplace=True)\n",
    "\n",
    "temp3pm_mean=df['Temp3pm'].mean() \n",
    "df['Temp3pm'].fillna(temp3pm_mean, inplace=True)\n",
    "\n",
    "\n",
    "evaporation_mean=df['Evaporation'].mean() \n",
    "df['Evaporation'].fillna(evaporation_mean, inplace=True)\n",
    "\n",
    "sunshine=df['Sunshine'].mean() \n",
    "df['Sunshine'].fillna(sunshine, inplace=True)\n",
    "\n",
    "cloud9am=df['Cloud9am'].mean() \n",
    "df['Cloud9am'].fillna(cloud9am, inplace=True)\n",
    "\n",
    "cloud3pm=df['Cloud3pm'].mean() \n",
    "df['Cloud3pm'].fillna(cloud3pm, inplace=True)\n",
    " "
   ]
  },
  {
   "cell_type": "code",
   "execution_count": null,
   "metadata": {},
   "outputs": [],
   "source": [
    "df.dropna(inplace=True)\n",
    "\n",
    "print(df.isna().sum())\n",
    "\n",
    "df.shape"
   ]
  },
  {
   "cell_type": "markdown",
   "metadata": {},
   "source": [
    "## Label encoding"
   ]
  },
  {
   "cell_type": "code",
   "execution_count": null,
   "metadata": {},
   "outputs": [],
   "source": [
    "label_encoder = LabelEncoder()\n",
    "\n",
    "df['EncodedLocation'] = label_encoder.fit_transform(df['Location'])\n",
    "df.drop('Location', axis = 1, inplace=True)\n",
    "\n",
    "df['EncodedWindGustDir'] = label_encoder.fit_transform(df['WindGustDir'])\n",
    "df.drop('WindGustDir', axis = 1, inplace=True)\n",
    "\n",
    "df['EncodedWindDir9am'] = label_encoder.fit_transform(df['WindDir9am'])\n",
    "df.drop('WindDir9am', axis = 1, inplace=True)\n",
    "\n",
    "df['EncodedWindDir3pm'] = label_encoder.fit_transform(df['WindDir3pm'])\n",
    "df.drop('WindDir3pm', axis = 1, inplace=True)\n",
    "\n",
    "df['EncodedRainToday'] = label_encoder.fit_transform(df['RainToday'])\n",
    "df.drop('RainToday', axis = 1, inplace=True)\n",
    "\n",
    "df['EncodedRainTomorrow'] = label_encoder.fit_transform(df['RainTomorrow'])\n",
    "df.drop('RainTomorrow', axis = 1, inplace=True)\n"
   ]
  },
  {
   "cell_type": "code",
   "execution_count": null,
   "metadata": {},
   "outputs": [],
   "source": [
    "df.head()"
   ]
  },
  {
   "cell_type": "code",
   "execution_count": null,
   "metadata": {},
   "outputs": [],
   "source": [
    "df.to_csv('../../../datasets/parte1/dataset_cleaned.csv', index=False)"
   ]
  },
  {
   "cell_type": "code",
   "execution_count": null,
   "metadata": {},
   "outputs": [],
   "source": [
    "fig = plt.figure(figsize=(15, 15))\n",
    "satisfaction_corr = df.corr(method='pearson', numeric_only=True)\n",
    "sns.heatmap(satisfaction_corr, linecolor='black', linewidths=0.5, annot=True)"
   ]
  },
  {
   "cell_type": "code",
   "execution_count": null,
   "metadata": {},
   "outputs": [],
   "source": [
    "fig = plt.figure(figsize=(15, 15))\n",
    "satisfaction_corr = df.corr(method='spearman', numeric_only=True)\n",
    "sns.heatmap(satisfaction_corr, linecolor='black', linewidths=0.5, annot=True)"
   ]
  }
 ],
 "metadata": {
  "kernelspec": {
   "display_name": "Python 3.10.12 ('DAA')",
   "language": "python",
   "name": "python3"
  },
  "language_info": {
   "codemirror_mode": {
    "name": "ipython",
    "version": 3
   },
   "file_extension": ".py",
   "mimetype": "text/x-python",
   "name": "python",
   "nbconvert_exporter": "python",
   "pygments_lexer": "ipython3",
   "version": "3.10.12"
  },
  "orig_nbformat": 4,
  "vscode": {
   "interpreter": {
    "hash": "2881258984ef4296f480ce95a73330c4b38b111f7430204a8daff0049aee1dfe"
   }
  }
 },
 "nbformat": 4,
 "nbformat_minor": 2
}
