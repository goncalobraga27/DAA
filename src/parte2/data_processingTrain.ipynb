{
 "cells": [
  {
   "cell_type": "markdown",
   "metadata": {},
   "source": [
    "# Processamento dos dados existentes no dataset global "
   ]
  },
  {
   "cell_type": "markdown",
   "metadata": {},
   "source": [
    "### Imports das bibliotecas necessárias para o processamento de dados  "
   ]
  },
  {
   "cell_type": "code",
   "execution_count": 8,
   "metadata": {},
   "outputs": [],
   "source": [
    "import matplotlib.pyplot as plt\n",
    "import pandas as pd\n",
    "import numpy as np\n",
    "from sklearn.preprocessing import LabelEncoder"
   ]
  },
  {
   "cell_type": "markdown",
   "metadata": {},
   "source": [
    "### Leitura dos dados existentes no dataset global "
   ]
  },
  {
   "cell_type": "code",
   "execution_count": 9,
   "metadata": {},
   "outputs": [],
   "source": [
    "df = pd.read_csv(\"../../datasets/parte2/treino/datasetGlobal.csv\",na_filter=False)"
   ]
  },
  {
   "cell_type": "markdown",
   "metadata": {},
   "source": [
    "### Visualização dos valores da coluna city_name "
   ]
  },
  {
   "cell_type": "code",
   "execution_count": 10,
   "metadata": {},
   "outputs": [
    {
     "name": "stdout",
     "output_type": "stream",
     "text": [
      "['local']\n"
     ]
    }
   ],
   "source": [
    "valoresDiferentes = df['city_name'].unique()\n",
    "print(valoresDiferentes)"
   ]
  },
  {
   "cell_type": "markdown",
   "metadata": {},
   "source": [
    "### Como os valores da coluna city_name são sempre os mesmos, podem ser eliminados "
   ]
  },
  {
   "cell_type": "code",
   "execution_count": 11,
   "metadata": {},
   "outputs": [],
   "source": [
    "df = df.drop('city_name',axis= 1)"
   ]
  },
  {
   "cell_type": "markdown",
   "metadata": {},
   "source": [
    "### Criação do label encoding para codificarmos a coluna weather_description"
   ]
  },
  {
   "cell_type": "code",
   "execution_count": 12,
   "metadata": {},
   "outputs": [],
   "source": [
    "label_encoder = LabelEncoder()\n",
    "df['weather_description_encoded'] = label_encoder.fit_transform(df['weather_description'])\n",
    "df = df.drop('weather_description', axis = 1)\n",
    "df = df.drop('Data', axis = 1)"
   ]
  },
  {
   "cell_type": "markdown",
   "metadata": {},
   "source": [
    "### Tratamento dos missing values"
   ]
  },
  {
   "cell_type": "code",
   "execution_count": 13,
   "metadata": {},
   "outputs": [
    {
     "name": "stdout",
     "output_type": "stream",
     "text": [
      "temp                           0\n",
      "feels_like                     0\n",
      "temp_min                       0\n",
      "temp_max                       0\n",
      "pressure                       0\n",
      "humidity                       0\n",
      "Hora                           0\n",
      "Normal (kWh)                   0\n",
      "Horário Económico (kWh)        0\n",
      "Autoconsumo (kWh)              0\n",
      "Injeção na rede (kWh)          0\n",
      "weather_description_encoded    0\n",
      "dtype: int64\n"
     ]
    }
   ],
   "source": [
    "\n",
    "df = df.drop('sea_level', axis = 1)\n",
    "df = df.drop('grnd_level', axis = 1)\n",
    "df = df.drop('dt', axis=1)\n",
    "df = df.drop('wind_speed', axis = 1)\n",
    "df = df.drop('rain_1h', axis = 1)\n",
    "df = df.drop('clouds_all', axis = 1)\n",
    "\n",
    "print(df.isna().sum()) "
   ]
  },
  {
   "cell_type": "markdown",
   "metadata": {},
   "source": [
    "### Escrita do dataset processado num ficheiro csv "
   ]
  },
  {
   "cell_type": "code",
   "execution_count": 14,
   "metadata": {},
   "outputs": [],
   "source": [
    "df.to_csv('../../datasets/parte2/treino/datasetGlobal.csv', index=False)"
   ]
  }
 ],
 "metadata": {
  "kernelspec": {
   "display_name": "daa310",
   "language": "python",
   "name": "python3"
  },
  "language_info": {
   "codemirror_mode": {
    "name": "ipython",
    "version": 3
   },
   "file_extension": ".py",
   "mimetype": "text/x-python",
   "name": "python",
   "nbconvert_exporter": "python",
   "pygments_lexer": "ipython3",
   "version": "3.10.13"
  }
 },
 "nbformat": 4,
 "nbformat_minor": 2
}
