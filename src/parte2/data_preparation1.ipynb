{
 "cells": [
  {
   "cell_type": "markdown",
   "metadata": {},
   "source": [
    "# Preparação dos dados dos datasets de 09/2021-12/2021 e 01/2022-12/2022"
   ]
  },
  {
   "cell_type": "markdown",
   "metadata": {},
   "source": [
    "### Imports de bicilotecas necessárias para desenvolver o modelo "
   ]
  },
  {
   "cell_type": "code",
   "execution_count": 1,
   "metadata": {},
   "outputs": [],
   "source": [
    "import matplotlib.pyplot as plt\n",
    "import pandas as pd\n",
    "import numpy as np\n",
    "from sklearn.preprocessing import LabelEncoder"
   ]
  },
  {
   "cell_type": "markdown",
   "metadata": {},
   "source": [
    "### Leitura dos dados relativos a 09/21-12/21"
   ]
  },
  {
   "cell_type": "code",
   "execution_count": 2,
   "metadata": {},
   "outputs": [],
   "source": [
    "df_meteo = pd.read_csv(\"../../datasets/parte2/treino/meteo_202109-202112.csv\")\n",
    "df_energia = pd.read_csv(\"../../datasets/parte2/treino/energia_202109-202112.csv\",na_filter=False)"
   ]
  },
  {
   "cell_type": "markdown",
   "metadata": {},
   "source": [
    "### Passagem da coluna dt_iso para as duas colunas Data e Hora para depois podermos dar merge dos dois datasets"
   ]
  },
  {
   "cell_type": "code",
   "execution_count": 3,
   "metadata": {},
   "outputs": [],
   "source": [
    "df_meteo['dt_iso'] = pd.to_datetime(df_meteo['dt_iso'].str.replace(' UTC', ''), format='%Y-%m-%d %H:%M:%S %z')\n",
    "df_meteo['Data'] = df_meteo['dt_iso'].dt.strftime('%Y-%m-%d')\n",
    "df_meteo['Hora'] = df_meteo['dt_iso'].dt.strftime('%H')\n",
    "df_meteo['Hora'] = df_meteo['Hora'].astype(int)"
   ]
  },
  {
   "cell_type": "markdown",
   "metadata": {},
   "source": [
    "### Eliminar a coluna 'dt_iso' do dataset df_meteo pois os dados relevantes dessa coluna estão na nova coluna 'Data' e 'Hora' "
   ]
  },
  {
   "cell_type": "code",
   "execution_count": 4,
   "metadata": {},
   "outputs": [],
   "source": [
    "df_meteo = df_meteo.drop('dt_iso',axis = 1)"
   ]
  },
  {
   "cell_type": "markdown",
   "metadata": {},
   "source": [
    "### Alteração da coluna 'Hora' do dataset df_energia para o tipo int"
   ]
  },
  {
   "cell_type": "code",
   "execution_count": 5,
   "metadata": {},
   "outputs": [],
   "source": [
    "df_energia['Hora'] = df_energia['Hora'].astype(int)"
   ]
  },
  {
   "cell_type": "markdown",
   "metadata": {},
   "source": [
    "### Podemos agora juntar os dois datasets pelas colunas 'Data' e 'Hora' presentes em ambos os datasets"
   ]
  },
  {
   "cell_type": "code",
   "execution_count": 6,
   "metadata": {},
   "outputs": [],
   "source": [
    "df_2021= pd.merge(df_meteo, df_energia, on=['Data','Hora'], how='inner')"
   ]
  },
  {
   "cell_type": "markdown",
   "metadata": {},
   "source": [
    "### Leitura dos dados relativos a 01/2022 - 12/2022"
   ]
  },
  {
   "cell_type": "code",
   "execution_count": 10,
   "metadata": {},
   "outputs": [],
   "source": [
    "df_meteo = pd.read_csv(\"../../datasets/parte2/treino/meteo_202201-202212.csv\")\n",
    "df_energia = pd.read_csv(\"../../datasets/parte2/treino/energia_202201-202212.csv\",na_filter=False)"
   ]
  },
  {
   "cell_type": "markdown",
   "metadata": {},
   "source": [
    "### Passagem da coluna dt_iso para as duas colunas Data e Hora para depois podermos dar merge dos dois datasets"
   ]
  },
  {
   "cell_type": "code",
   "execution_count": 11,
   "metadata": {},
   "outputs": [],
   "source": [
    "df_meteo['dt_iso'] = pd.to_datetime(df_meteo['dt_iso'].str.replace(' UTC', ''), format='%Y-%m-%d %H:%M:%S %z')\n",
    "df_meteo['Data'] = df_meteo['dt_iso'].dt.strftime('%Y-%m-%d')\n",
    "df_meteo['Hora'] = df_meteo['dt_iso'].dt.strftime('%H')\n",
    "df_meteo['Hora'] = df_meteo['Hora'].astype(int)"
   ]
  },
  {
   "cell_type": "markdown",
   "metadata": {},
   "source": [
    "### Eliminar a coluna 'dt_iso' do dataset df_meteo pois os dados relevantes dessa coluna estão na nova coluna 'Data' e 'Hora' "
   ]
  },
  {
   "cell_type": "code",
   "execution_count": 12,
   "metadata": {},
   "outputs": [],
   "source": [
    "df_meteo = df_meteo.drop('dt_iso',axis = 1)"
   ]
  },
  {
   "cell_type": "markdown",
   "metadata": {},
   "source": [
    "### Alteração da coluna 'Hora' do dataset df_energia para o tipo int"
   ]
  },
  {
   "cell_type": "code",
   "execution_count": null,
   "metadata": {},
   "outputs": [],
   "source": [
    "df_energia['Hora'] = df_energia['Hora'].astype(int)"
   ]
  },
  {
   "cell_type": "markdown",
   "metadata": {},
   "source": [
    "### Junção dos datasets df_meteo e df_energia de 01/2022 - 12/2022 "
   ]
  },
  {
   "cell_type": "code",
   "execution_count": 13,
   "metadata": {},
   "outputs": [],
   "source": [
    "df_2022= pd.merge(df_meteo, df_energia, on=['Data','Hora'], how='inner')"
   ]
  },
  {
   "cell_type": "markdown",
   "metadata": {},
   "source": [
    "### Junção dos datasets com informação de 2021 e 2022"
   ]
  },
  {
   "cell_type": "code",
   "execution_count": 14,
   "metadata": {},
   "outputs": [],
   "source": [
    "df = pd.concat([df_2021,df_2022],ignore_index = True)"
   ]
  },
  {
   "cell_type": "markdown",
   "metadata": {},
   "source": [
    "### Passagem do dataset global da competição para um csv\n"
   ]
  },
  {
   "cell_type": "code",
   "execution_count": null,
   "metadata": {},
   "outputs": [],
   "source": [
    "df.to_csv('../../datasets/parte2/treino/datasetGlobal.csv', index=False)"
   ]
  }
 ],
 "metadata": {
  "kernelspec": {
   "display_name": "daa310",
   "language": "python",
   "name": "python3"
  },
  "language_info": {
   "codemirror_mode": {
    "name": "ipython",
    "version": 3
   },
   "file_extension": ".py",
   "mimetype": "text/x-python",
   "name": "python",
   "nbconvert_exporter": "python",
   "pygments_lexer": "ipython3",
   "version": "3.10.13"
  }
 },
 "nbformat": 4,
 "nbformat_minor": 2
}
