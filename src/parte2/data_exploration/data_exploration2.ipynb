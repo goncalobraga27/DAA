{
 "cells": [
  {
   "cell_type": "markdown",
   "metadata": {},
   "source": [
    "## Import Libraries"
   ]
  },
  {
   "cell_type": "code",
   "execution_count": null,
   "metadata": {},
   "outputs": [],
   "source": [
    "import matplotlib.pyplot as plt\n",
    "import pandas as pd\n",
    "import numpy as np\n",
    "import seaborn as sns\n",
    "from scipy.stats import spearmanr\n",
    "from sklearn.preprocessing import LabelEncoder\n",
    "%matplotlib inline"
   ]
  },
  {
   "cell_type": "markdown",
   "metadata": {},
   "source": [
    "## Get the data"
   ]
  },
  {
   "cell_type": "code",
   "execution_count": null,
   "metadata": {},
   "outputs": [],
   "source": [
    "df = pd.read_csv('../../../datasets/parte2/train.csv')"
   ]
  },
  {
   "cell_type": "markdown",
   "metadata": {},
   "source": [
    "#### Columns"
   ]
  },
  {
   "cell_type": "code",
   "execution_count": null,
   "metadata": {},
   "outputs": [],
   "source": [
    "df.columns"
   ]
  },
  {
   "cell_type": "markdown",
   "metadata": {},
   "source": [
    "#### Shape"
   ]
  },
  {
   "cell_type": "code",
   "execution_count": null,
   "metadata": {},
   "outputs": [],
   "source": [
    "if 'Injeção na rede (kWh)' in df:\n",
    "    df['Injeção na rede (kWh)'].value_counts()"
   ]
  },
  {
   "cell_type": "code",
   "execution_count": null,
   "metadata": {},
   "outputs": [],
   "source": [
    "df.shape"
   ]
  },
  {
   "cell_type": "code",
   "execution_count": null,
   "metadata": {},
   "outputs": [],
   "source": [
    "df.head()"
   ]
  },
  {
   "cell_type": "markdown",
   "metadata": {},
   "source": [
    "#### Dataset info"
   ]
  },
  {
   "cell_type": "code",
   "execution_count": null,
   "metadata": {},
   "outputs": [],
   "source": [
    "print(df.info())"
   ]
  },
  {
   "cell_type": "markdown",
   "metadata": {},
   "source": [
    "#### Unique values"
   ]
  },
  {
   "cell_type": "code",
   "execution_count": null,
   "metadata": {},
   "outputs": [],
   "source": [
    "print(df[\"dt\"].unique())\n",
    "print(len(df[\"dt\"].unique()))\n",
    "\n",
    "print(df[\"city_name\"].unique())\n",
    "print(df[\"weather_description\"].unique())\n",
    "\n",
    "print(df[\"rain_1h\"].unique())\n",
    "print(len(df[\"rain_1h\"].unique()))"
   ]
  },
  {
   "cell_type": "markdown",
   "metadata": {},
   "source": [
    "#### Statistical dispersion"
   ]
  },
  {
   "cell_type": "code",
   "execution_count": null,
   "metadata": {},
   "outputs": [],
   "source": [
    "print(df.describe())\n"
   ]
  },
  {
   "cell_type": "markdown",
   "metadata": {},
   "source": [
    "#### Missing values"
   ]
  },
  {
   "cell_type": "code",
   "execution_count": null,
   "metadata": {},
   "outputs": [],
   "source": [
    "print(df.isna().sum())"
   ]
  },
  {
   "cell_type": "markdown",
   "metadata": {},
   "source": [
    "#### Filling missing value with 'None' in 'Injeção na rede (kWh)' column"
   ]
  },
  {
   "cell_type": "code",
   "execution_count": null,
   "metadata": {},
   "outputs": [],
   "source": [
    "df['Injeção na rede (kWh)'] = df['Injeção na rede (kWh)'].fillna(\"None\")"
   ]
  },
  {
   "cell_type": "code",
   "execution_count": null,
   "metadata": {},
   "outputs": [],
   "source": [
    "print(df[\"Injeção na rede (kWh)\"].unique())"
   ]
  },
  {
   "cell_type": "code",
   "execution_count": null,
   "metadata": {},
   "outputs": [],
   "source": [
    "print(df.isna().sum())"
   ]
  },
  {
   "cell_type": "markdown",
   "metadata": {},
   "source": [
    "## Univariate Analysis"
   ]
  },
  {
   "cell_type": "markdown",
   "metadata": {},
   "source": [
    "#### dt variable"
   ]
  },
  {
   "cell_type": "code",
   "execution_count": null,
   "metadata": {},
   "outputs": [],
   "source": [
    "df['dt'].value_counts()"
   ]
  },
  {
   "cell_type": "markdown",
   "metadata": {},
   "source": [
    "## Multivariate Analysis"
   ]
  },
  {
   "cell_type": "markdown",
   "metadata": {},
   "source": [
    "#### Relation between all variables"
   ]
  },
  {
   "cell_type": "code",
   "execution_count": null,
   "metadata": {},
   "outputs": [],
   "source": [
    "#sns.pairplot(df, hue='injection ')"
   ]
  },
  {
   "cell_type": "markdown",
   "metadata": {},
   "source": [
    "#### Features mean by class"
   ]
  },
  {
   "cell_type": "code",
   "execution_count": null,
   "metadata": {},
   "outputs": [],
   "source": [
    "#df.groupby(by=['Injeção na rede (kWh)']).mean(numeric_only=True)"
   ]
  },
  {
   "cell_type": "markdown",
   "metadata": {},
   "source": [
    "#### Outliers"
   ]
  },
  {
   "cell_type": "code",
   "execution_count": null,
   "metadata": {},
   "outputs": [],
   "source": [
    "fig, axs = plt.subplots(4, 4, figsize=(15, 15))\n",
    "fig.suptitle(\"Boxplots\")\n",
    "\n",
    "sns.boxplot(y=df[\"pressure\"], ax=axs[0,0])\n",
    "sns.boxplot(y=df[\"humidity\"], ax=axs[0,1])\n",
    "sns.boxplot(y=df[\"clouds_all\"], ax=axs[0,2])\n",
    "sns.boxplot(y=df[\"hour\"], ax=axs[0,3])\n",
    "sns.boxplot(y=df[\"temp\"], ax=axs[1,0])\n",
    "sns.boxplot(y=df[\"feels_like\"], ax=axs[1,1])\n",
    "sns.boxplot(y=df[\"temp_min\"], ax=axs[1,2])\n",
    "sns.boxplot(y=df[\"temp_max\"], ax=axs[1,3])\n",
    "sns.boxplot(y=df[\"wind_speed\"], ax=axs[2,0])\n",
    "sns.boxplot(y=df[\"rain_1h\"], ax=axs[2,1])\n",
    "sns.boxplot(y=df[\"normal\"], ax=axs[2,2])\n",
    "sns.boxplot(y=df[\"economic_schedule\"], ax=axs[2,3])\n",
    "sns.boxplot(y=df[\"self-consumption\"], ax=axs[3,0])"
   ]
  },
  {
   "cell_type": "markdown",
   "metadata": {},
   "source": [
    "#### Statistical dispersion"
   ]
  },
  {
   "cell_type": "code",
   "execution_count": null,
   "metadata": {},
   "outputs": [],
   "source": [
    "fig, axs = plt.subplots(4, 4, figsize=(12, 15))\n",
    "fig.suptitle(\"Histograms\")\n",
    "\n",
    "sns.histplot(df[\"dt\"], ax=axs[0,0], kde=True)\n",
    "sns.histplot(df[\"pressure\"], ax=axs[0,1], kde=True)\n",
    "sns.histplot(df[\"humidity\"], ax=axs[0,2], kde=True)\n",
    "sns.histplot(df[\"clouds_all\"], ax=axs[0,3], kde=True)\n",
    "sns.histplot(df[\"hour\"], ax=axs[1,0], kde=True)\n",
    "sns.histplot(df[\"temp\"], ax=axs[1,1], kde=True)\n",
    "sns.histplot(df[\"feels_like\"], ax=axs[1,2], kde=True)\n",
    "sns.histplot(df[\"temp_min\"], ax=axs[1,3], kde=True)\n",
    "sns.histplot(df[\"temp_max\"], ax=axs[2,0], kde=True)\n",
    "sns.histplot(df[\"wind_speed\"], ax=axs[2,1], kde=True)\n",
    "sns.histplot(df[\"rain_1h\"], ax=axs[2,2], kde=True)\n",
    "sns.histplot(df[\"normal\"], ax=axs[2,3], kde=True)\n",
    "sns.histplot(df[\"economic_schedule\"], ax=axs[3,0], kde=True)\n",
    "sns.histplot(df[\"self-consumption\"], ax=axs[3,1], kde=True)"
   ]
  },
  {
   "cell_type": "code",
   "execution_count": null,
   "metadata": {},
   "outputs": [],
   "source": [
    "injection_count = df['Injeção na rede (kWh)'].value_counts()\n",
    "sns.set_style('darkgrid')\n",
    "sns.barplot(x=injection_count.index, y=injection_count.values, palette='BrBG')\n",
    "plt.title('Frequency Distribution of Injection')\n",
    "plt.ylabel('Number of Occurrences', fontsize=12)\n",
    "plt.xlabel('RainToday', fontsize=12)\n",
    "plt.show()"
   ]
  },
  {
   "cell_type": "code",
   "execution_count": null,
   "metadata": {},
   "outputs": [],
   "source": [
    "label_encoder = LabelEncoder()\n",
    "\n",
    "df['Injeção na rede (kWh)'] = label_encoder.fit_transform(df['Injeção na rede (kWh)'])\n",
    "\n",
    "df['Data'] = pd.to_datetime(df['Data'], format=\"%Y-%m-%d\", utc=True)\n",
    "df['year'] = df['Data'].dt.year\n",
    "df['month'] = df['Data'].dt.month\n",
    "df['day'] = df['Data'].dt.day\n",
    "df.drop(['Data'], inplace=True, axis=1)"
   ]
  },
  {
   "cell_type": "code",
   "execution_count": null,
   "metadata": {},
   "outputs": [],
   "source": [
    "corr_matrix = df.corr(numeric_only=True)\n",
    "f, ax = plt.subplots(figsize=(20, 16))\n",
    "sns.heatmap(corr_matrix, vmin=-1, vmax=1, square=True, annot=True)"
   ]
  },
  {
   "cell_type": "code",
   "execution_count": null,
   "metadata": {},
   "outputs": [],
   "source": [
    "print(corr_matrix[\"Injeção na rede (kWh)\"])"
   ]
  }
 ],
 "metadata": {
  "kernelspec": {
   "display_name": "Python 3.10.12 ('DAA')",
   "language": "python",
   "name": "python3"
  },
  "language_info": {
   "codemirror_mode": {
    "name": "ipython",
    "version": 3
   },
   "file_extension": ".py",
   "mimetype": "text/x-python",
   "name": "python",
   "nbconvert_exporter": "python",
   "pygments_lexer": "ipython3",
   "version": "3.10.12"
  },
  "orig_nbformat": 4,
  "vscode": {
   "interpreter": {
    "hash": "2881258984ef4296f480ce95a73330c4b38b111f7430204a8daff0049aee1dfe"
   }
  }
 },
 "nbformat": 4,
 "nbformat_minor": 2
}
