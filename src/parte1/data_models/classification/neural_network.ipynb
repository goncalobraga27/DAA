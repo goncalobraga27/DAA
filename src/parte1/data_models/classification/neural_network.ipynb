{
 "cells": [
  {
   "cell_type": "markdown",
   "metadata": {},
   "source": [
    "## Neural Network"
   ]
  },
  {
   "cell_type": "code",
   "execution_count": 159,
   "metadata": {},
   "outputs": [],
   "source": [
    "import pandas as pd \n",
    "import numpy as np \n",
    "import matplotlib.pyplot as plt \n",
    "import seaborn as sns \n",
    "import tensorflow as tf \n",
    "from tensorflow import keras \n",
    "from tensorflow.keras.models import Sequential \n",
    "from tensorflow.keras.layers import Dense, Dropout\n",
    "from scikeras.wrappers import KerasClassifier\n",
    "from sklearn import metrics\n",
    "from sklearn.model_selection import GridSearchCV, KFold, train_test_split\n",
    "from sklearn.metrics import classification_report, ConfusionMatrixDisplay\n",
    "from sklearn.preprocessing import MinMaxScaler\n",
    "%matplotlib inline "
   ]
  },
  {
   "cell_type": "markdown",
   "metadata": {},
   "source": [
    "### Read Data"
   ]
  },
  {
   "cell_type": "code",
   "execution_count": 160,
   "metadata": {},
   "outputs": [],
   "source": [
    "df = pd.read_csv('../../../../datasets/parte1/dataset_cleaned.csv')"
   ]
  },
  {
   "cell_type": "markdown",
   "metadata": {},
   "source": [
    "#### X and y arrays"
   ]
  },
  {
   "cell_type": "code",
   "execution_count": 161,
   "metadata": {},
   "outputs": [],
   "source": [
    "X = df.drop(['RainTomorrow'], axis=1)\n",
    "y = df[['RainTomorrow']]"
   ]
  },
  {
   "cell_type": "markdown",
   "metadata": {},
   "source": [
    "### Normalization"
   ]
  },
  {
   "cell_type": "code",
   "execution_count": 162,
   "metadata": {},
   "outputs": [],
   "source": [
    "scaler_X = MinMaxScaler(feature_range=(0, 1)).fit(X)\n",
    "scaler_y = MinMaxScaler(feature_range=(0, 1)).fit(y)\n",
    "X = pd.DataFrame(scaler_X.transform(X[X.columns]), columns=X.columns)\n",
    "y = pd.DataFrame(scaler_y.transform(y[y.columns]), columns=y.columns)"
   ]
  },
  {
   "cell_type": "markdown",
   "metadata": {},
   "source": [
    "#### Train Test Split\n",
    "\n",
    "Now let's split the data into a training set and a testing set. We will train out model on the training set and then use the test set to evaluate the model."
   ]
  },
  {
   "cell_type": "code",
   "execution_count": 163,
   "metadata": {},
   "outputs": [],
   "source": [
    "X_train, X_test, y_train, y_test = train_test_split(X, y, test_size=0.3, random_state=2023)"
   ]
  },
  {
   "cell_type": "markdown",
   "metadata": {},
   "source": [
    "### Build Model"
   ]
  },
  {
   "cell_type": "code",
   "execution_count": 164,
   "metadata": {},
   "outputs": [],
   "source": [
    "def build_model(activation = 'relu', learning_rate = 0.001):\n",
    "    model = Sequential()\n",
    "    model.add(Dense(16, input_dim = X.shape[1], activation = activation))\n",
    "    model.add(Dense(8, activation = activation))\n",
    "    model.add(Dense(1, activation = 'sigmoid')) # output \n",
    "\n",
    "    #Compile the model \n",
    "    model.compile(\n",
    "        loss = 'binary_crossentropy', # Rever este loss\n",
    "        optimizer  = tf.optimizers.Adam(learning_rate),\n",
    "        metrics = ['accuracy']) # 'f1score'\n",
    "    return model \n",
    "    "
   ]
  },
  {
   "cell_type": "code",
   "execution_count": 165,
   "metadata": {},
   "outputs": [
    {
     "name": "stdout",
     "output_type": "stream",
     "text": [
      "Model: \"sequential_24\"\n",
      "_________________________________________________________________\n",
      " Layer (type)                Output Shape              Param #   \n",
      "=================================================================\n",
      " dense_72 (Dense)            (None, 16)                368       \n",
      "                                                                 \n",
      " dropout_12 (Dropout)        (None, 16)                0         \n",
      "                                                                 \n",
      " dense_73 (Dense)            (None, 8)                 136       \n",
      "                                                                 \n",
      " dropout_13 (Dropout)        (None, 8)                 0         \n",
      "                                                                 \n",
      " dense_74 (Dense)            (None, 1)                 9         \n",
      "                                                                 \n",
      "=================================================================\n",
      "Total params: 513\n",
      "Trainable params: 513\n",
      "Non-trainable params: 0\n",
      "_________________________________________________________________\n"
     ]
    }
   ],
   "source": [
    "model = build_model()\n",
    "model.summary()"
   ]
  },
  {
   "cell_type": "markdown",
   "metadata": {},
   "source": [
    "#### Training \n",
    "\n",
    "Using GridSearchCV to find the best hyperparameters"
   ]
  },
  {
   "cell_type": "code",
   "execution_count": 166,
   "metadata": {},
   "outputs": [],
   "source": [
    "\n",
    "param_grid = {\n",
    "    'optimizer': ['SGD', 'RMSprop', 'Adagrad'] \n",
    "} "
   ]
  },
  {
   "cell_type": "code",
   "execution_count": 167,
   "metadata": {},
   "outputs": [],
   "source": [
    "kf = KFold(n_splits = 10, shuffle= True, random_state=2023)"
   ]
  },
  {
   "cell_type": "code",
   "execution_count": 168,
   "metadata": {},
   "outputs": [],
   "source": [
    "model = KerasClassifier(model=build_model, batch_size=32, validation_split=0.2, epochs = 20)"
   ]
  },
  {
   "cell_type": "code",
   "execution_count": 169,
   "metadata": {},
   "outputs": [],
   "source": [
    "grid_search = GridSearchCV(estimator=model, param_grid=param_grid, cv=kf, scoring='accuracy', refit=True, verbose=2, n_jobs=-1)"
   ]
  },
  {
   "cell_type": "markdown",
   "metadata": {},
   "source": [
    "#### Fit Model"
   ]
  },
  {
   "cell_type": "code",
   "execution_count": 170,
   "metadata": {},
   "outputs": [
    {
     "name": "stdout",
     "output_type": "stream",
     "text": [
      "Fitting 5 folds for each of 3 candidates, totalling 15 fits\n"
     ]
    },
    {
     "name": "stdout",
     "output_type": "stream",
     "text": [
      "Epoch 1/20\n",
      "1092/1092 [==============================] - 2s 1ms/step - loss: 0.5017 - accuracy: 0.7592 - val_loss: 0.4771 - val_accuracy: 0.7727\n",
      "Epoch 2/20\n",
      "1092/1092 [==============================] - 1s 1ms/step - loss: 0.4721 - accuracy: 0.7788 - val_loss: 0.4469 - val_accuracy: 0.7903\n",
      "Epoch 3/20\n",
      "1092/1092 [==============================] - 2s 1ms/step - loss: 0.4641 - accuracy: 0.7844 - val_loss: 0.4495 - val_accuracy: 0.7869\n",
      "Epoch 4/20\n",
      "1092/1092 [==============================] - 1s 1ms/step - loss: 0.4635 - accuracy: 0.7844 - val_loss: 0.4669 - val_accuracy: 0.7775\n",
      "Epoch 5/20\n",
      "1092/1092 [==============================] - 1s 1ms/step - loss: 0.4622 - accuracy: 0.7846 - val_loss: 0.4437 - val_accuracy: 0.7942\n",
      "Epoch 6/20\n",
      "1092/1092 [==============================] - 1s 1ms/step - loss: 0.4615 - accuracy: 0.7834 - val_loss: 0.4411 - val_accuracy: 0.7928\n",
      "Epoch 7/20\n",
      "1092/1092 [==============================] - 1s 1ms/step - loss: 0.4601 - accuracy: 0.7853 - val_loss: 0.4395 - val_accuracy: 0.7920\n",
      "Epoch 8/20\n",
      "1092/1092 [==============================] - 1s 1ms/step - loss: 0.4597 - accuracy: 0.7853 - val_loss: 0.4381 - val_accuracy: 0.7983\n",
      "Epoch 9/20\n",
      "1092/1092 [==============================] - 1s 1ms/step - loss: 0.4598 - accuracy: 0.7857 - val_loss: 0.4467 - val_accuracy: 0.7932\n",
      "Epoch 10/20\n",
      "1092/1092 [==============================] - 1s 1ms/step - loss: 0.4577 - accuracy: 0.7875 - val_loss: 0.4362 - val_accuracy: 0.7954\n",
      "Epoch 11/20\n",
      "1092/1092 [==============================] - 1s 1ms/step - loss: 0.4576 - accuracy: 0.7887 - val_loss: 0.4345 - val_accuracy: 0.7979\n",
      "Epoch 12/20\n",
      "1092/1092 [==============================] - 1s 1ms/step - loss: 0.4555 - accuracy: 0.7888 - val_loss: 0.4561 - val_accuracy: 0.7919\n",
      "Epoch 13/20\n",
      "1092/1092 [==============================] - 2s 2ms/step - loss: 0.4543 - accuracy: 0.7890 - val_loss: 0.4373 - val_accuracy: 0.7960\n",
      "Epoch 14/20\n",
      "1092/1092 [==============================] - 1s 1ms/step - loss: 0.4547 - accuracy: 0.7882 - val_loss: 0.4477 - val_accuracy: 0.7905\n",
      "Epoch 15/20\n",
      "1092/1092 [==============================] - 2s 2ms/step - loss: 0.4554 - accuracy: 0.7884 - val_loss: 0.4375 - val_accuracy: 0.7972\n",
      "Epoch 16/20\n",
      "1092/1092 [==============================] - 2s 1ms/step - loss: 0.4534 - accuracy: 0.7878 - val_loss: 0.4475 - val_accuracy: 0.7978\n",
      "Epoch 17/20\n",
      "1092/1092 [==============================] - 1s 1ms/step - loss: 0.4540 - accuracy: 0.7895 - val_loss: 0.4405 - val_accuracy: 0.7929\n",
      "Epoch 18/20\n",
      "1092/1092 [==============================] - 1s 1ms/step - loss: 0.4537 - accuracy: 0.7906 - val_loss: 0.4366 - val_accuracy: 0.7998\n",
      "Epoch 19/20\n",
      "1092/1092 [==============================] - 1s 1ms/step - loss: 0.4555 - accuracy: 0.7884 - val_loss: 0.4438 - val_accuracy: 0.7925\n",
      "Epoch 20/20\n",
      "1092/1092 [==============================] - 1s 1ms/step - loss: 0.4540 - accuracy: 0.7890 - val_loss: 0.4508 - val_accuracy: 0.7831\n"
     ]
    },
    {
     "data": {
      "text/html": [
       "<style>#sk-container-id-17 {color: black;}#sk-container-id-17 pre{padding: 0;}#sk-container-id-17 div.sk-toggleable {background-color: white;}#sk-container-id-17 label.sk-toggleable__label {cursor: pointer;display: block;width: 100%;margin-bottom: 0;padding: 0.3em;box-sizing: border-box;text-align: center;}#sk-container-id-17 label.sk-toggleable__label-arrow:before {content: \"▸\";float: left;margin-right: 0.25em;color: #696969;}#sk-container-id-17 label.sk-toggleable__label-arrow:hover:before {color: black;}#sk-container-id-17 div.sk-estimator:hover label.sk-toggleable__label-arrow:before {color: black;}#sk-container-id-17 div.sk-toggleable__content {max-height: 0;max-width: 0;overflow: hidden;text-align: left;background-color: #f0f8ff;}#sk-container-id-17 div.sk-toggleable__content pre {margin: 0.2em;color: black;border-radius: 0.25em;background-color: #f0f8ff;}#sk-container-id-17 input.sk-toggleable__control:checked~div.sk-toggleable__content {max-height: 200px;max-width: 100%;overflow: auto;}#sk-container-id-17 input.sk-toggleable__control:checked~label.sk-toggleable__label-arrow:before {content: \"▾\";}#sk-container-id-17 div.sk-estimator input.sk-toggleable__control:checked~label.sk-toggleable__label {background-color: #d4ebff;}#sk-container-id-17 div.sk-label input.sk-toggleable__control:checked~label.sk-toggleable__label {background-color: #d4ebff;}#sk-container-id-17 input.sk-hidden--visually {border: 0;clip: rect(1px 1px 1px 1px);clip: rect(1px, 1px, 1px, 1px);height: 1px;margin: -1px;overflow: hidden;padding: 0;position: absolute;width: 1px;}#sk-container-id-17 div.sk-estimator {font-family: monospace;background-color: #f0f8ff;border: 1px dotted black;border-radius: 0.25em;box-sizing: border-box;margin-bottom: 0.5em;}#sk-container-id-17 div.sk-estimator:hover {background-color: #d4ebff;}#sk-container-id-17 div.sk-parallel-item::after {content: \"\";width: 100%;border-bottom: 1px solid gray;flex-grow: 1;}#sk-container-id-17 div.sk-label:hover label.sk-toggleable__label {background-color: #d4ebff;}#sk-container-id-17 div.sk-serial::before {content: \"\";position: absolute;border-left: 1px solid gray;box-sizing: border-box;top: 0;bottom: 0;left: 50%;z-index: 0;}#sk-container-id-17 div.sk-serial {display: flex;flex-direction: column;align-items: center;background-color: white;padding-right: 0.2em;padding-left: 0.2em;position: relative;}#sk-container-id-17 div.sk-item {position: relative;z-index: 1;}#sk-container-id-17 div.sk-parallel {display: flex;align-items: stretch;justify-content: center;background-color: white;position: relative;}#sk-container-id-17 div.sk-item::before, #sk-container-id-17 div.sk-parallel-item::before {content: \"\";position: absolute;border-left: 1px solid gray;box-sizing: border-box;top: 0;bottom: 0;left: 50%;z-index: -1;}#sk-container-id-17 div.sk-parallel-item {display: flex;flex-direction: column;z-index: 1;position: relative;background-color: white;}#sk-container-id-17 div.sk-parallel-item:first-child::after {align-self: flex-end;width: 50%;}#sk-container-id-17 div.sk-parallel-item:last-child::after {align-self: flex-start;width: 50%;}#sk-container-id-17 div.sk-parallel-item:only-child::after {width: 0;}#sk-container-id-17 div.sk-dashed-wrapped {border: 1px dashed gray;margin: 0 0.4em 0.5em 0.4em;box-sizing: border-box;padding-bottom: 0.4em;background-color: white;}#sk-container-id-17 div.sk-label label {font-family: monospace;font-weight: bold;display: inline-block;line-height: 1.2em;}#sk-container-id-17 div.sk-label-container {text-align: center;}#sk-container-id-17 div.sk-container {/* jupyter's `normalize.less` sets `[hidden] { display: none; }` but bootstrap.min.css set `[hidden] { display: none !important; }` so we also need the `!important` here to be able to override the default hidden behavior on the sphinx rendered scikit-learn.org. See: https://github.com/scikit-learn/scikit-learn/issues/21755 */display: inline-block !important;position: relative;}#sk-container-id-17 div.sk-text-repr-fallback {display: none;}</style><div id=\"sk-container-id-17\" class=\"sk-top-container\"><div class=\"sk-text-repr-fallback\"><pre>GridSearchCV(cv=KFold(n_splits=5, random_state=2023, shuffle=True),\n",
       "             estimator=KerasClassifier(batch_size=32, epochs=20, model=&lt;function build_model at 0x0000018E863FEB90&gt;, validation_split=0.2),\n",
       "             n_jobs=-1, param_grid={&#x27;optimizer&#x27;: [&#x27;SGD&#x27;, &#x27;RMSprop&#x27;, &#x27;Adagrad&#x27;]},\n",
       "             scoring=&#x27;accuracy&#x27;, verbose=2)</pre><b>In a Jupyter environment, please rerun this cell to show the HTML representation or trust the notebook. <br />On GitHub, the HTML representation is unable to render, please try loading this page with nbviewer.org.</b></div><div class=\"sk-container\" hidden><div class=\"sk-item sk-dashed-wrapped\"><div class=\"sk-label-container\"><div class=\"sk-label sk-toggleable\"><input class=\"sk-toggleable__control sk-hidden--visually\" id=\"sk-estimator-id-33\" type=\"checkbox\" ><label for=\"sk-estimator-id-33\" class=\"sk-toggleable__label sk-toggleable__label-arrow\">GridSearchCV</label><div class=\"sk-toggleable__content\"><pre>GridSearchCV(cv=KFold(n_splits=5, random_state=2023, shuffle=True),\n",
       "             estimator=KerasClassifier(batch_size=32, epochs=20, model=&lt;function build_model at 0x0000018E863FEB90&gt;, validation_split=0.2),\n",
       "             n_jobs=-1, param_grid={&#x27;optimizer&#x27;: [&#x27;SGD&#x27;, &#x27;RMSprop&#x27;, &#x27;Adagrad&#x27;]},\n",
       "             scoring=&#x27;accuracy&#x27;, verbose=2)</pre></div></div></div><div class=\"sk-parallel\"><div class=\"sk-parallel-item\"><div class=\"sk-item\"><div class=\"sk-label-container\"><div class=\"sk-label sk-toggleable\"><input class=\"sk-toggleable__control sk-hidden--visually\" id=\"sk-estimator-id-34\" type=\"checkbox\" ><label for=\"sk-estimator-id-34\" class=\"sk-toggleable__label sk-toggleable__label-arrow\">estimator: KerasClassifier</label><div class=\"sk-toggleable__content\"><pre>KerasClassifier(\n",
       "\tmodel=&lt;function build_model at 0x0000018E863FEB90&gt;\n",
       "\tbuild_fn=None\n",
       "\twarm_start=False\n",
       "\trandom_state=None\n",
       "\toptimizer=rmsprop\n",
       "\tloss=None\n",
       "\tmetrics=None\n",
       "\tbatch_size=32\n",
       "\tvalidation_batch_size=None\n",
       "\tverbose=1\n",
       "\tcallbacks=None\n",
       "\tvalidation_split=0.2\n",
       "\tshuffle=True\n",
       "\trun_eagerly=False\n",
       "\tepochs=20\n",
       "\tclass_weight=None\n",
       ")</pre></div></div></div><div class=\"sk-serial\"><div class=\"sk-item\"><div class=\"sk-estimator sk-toggleable\"><input class=\"sk-toggleable__control sk-hidden--visually\" id=\"sk-estimator-id-35\" type=\"checkbox\" ><label for=\"sk-estimator-id-35\" class=\"sk-toggleable__label sk-toggleable__label-arrow\">KerasClassifier</label><div class=\"sk-toggleable__content\"><pre>KerasClassifier(\n",
       "\tmodel=&lt;function build_model at 0x0000018E863FEB90&gt;\n",
       "\tbuild_fn=None\n",
       "\twarm_start=False\n",
       "\trandom_state=None\n",
       "\toptimizer=rmsprop\n",
       "\tloss=None\n",
       "\tmetrics=None\n",
       "\tbatch_size=32\n",
       "\tvalidation_batch_size=None\n",
       "\tverbose=1\n",
       "\tcallbacks=None\n",
       "\tvalidation_split=0.2\n",
       "\tshuffle=True\n",
       "\trun_eagerly=False\n",
       "\tepochs=20\n",
       "\tclass_weight=None\n",
       ")</pre></div></div></div></div></div></div></div></div></div></div>"
      ],
      "text/plain": [
       "GridSearchCV(cv=KFold(n_splits=5, random_state=2023, shuffle=True),\n",
       "             estimator=KerasClassifier(batch_size=32, epochs=20, model=<function build_model at 0x0000018E863FEB90>, validation_split=0.2),\n",
       "             n_jobs=-1, param_grid={'optimizer': ['SGD', 'RMSprop', 'Adagrad']},\n",
       "             scoring='accuracy', verbose=2)"
      ]
     },
     "execution_count": 170,
     "metadata": {},
     "output_type": "execute_result"
    }
   ],
   "source": [
    "grid_search.fit(X_train, y_train)"
   ]
  },
  {
   "cell_type": "code",
   "execution_count": 171,
   "metadata": {},
   "outputs": [],
   "source": [
    "#print(\"Best: %f using %s\" % (grid_search.best_score_, grid_search.best_params_))"
   ]
  },
  {
   "cell_type": "markdown",
   "metadata": {},
   "source": [
    "Inspect the best parameters"
   ]
  },
  {
   "cell_type": "code",
   "execution_count": 172,
   "metadata": {},
   "outputs": [
    {
     "name": "stdout",
     "output_type": "stream",
     "text": [
      "KerasClassifier(\n",
      "\tmodel=<function build_model at 0x0000018E863FEB90>\n",
      "\tbuild_fn=None\n",
      "\twarm_start=False\n",
      "\trandom_state=None\n",
      "\toptimizer=Adagrad\n",
      "\tloss=None\n",
      "\tmetrics=None\n",
      "\tbatch_size=32\n",
      "\tvalidation_batch_size=None\n",
      "\tverbose=1\n",
      "\tcallbacks=None\n",
      "\tvalidation_split=0.2\n",
      "\tshuffle=True\n",
      "\trun_eagerly=False\n",
      "\tepochs=20\n",
      "\tclass_weight=None\n",
      ")\n"
     ]
    }
   ],
   "source": [
    "best_mlp_model = grid_search.best_estimator_\n",
    "print(best_mlp_model)"
   ]
  },
  {
   "cell_type": "markdown",
   "metadata": {},
   "source": [
    "#### Fit Model"
   ]
  },
  {
   "cell_type": "code",
   "execution_count": 173,
   "metadata": {},
   "outputs": [
    {
     "name": "stdout",
     "output_type": "stream",
     "text": [
      "Epoch 1/20\n",
      "1366/1366 [==============================] - 3s 2ms/step - loss: 0.4891 - accuracy: 0.7677 - val_loss: 0.4722 - val_accuracy: 0.7802\n",
      "Epoch 2/20\n",
      "1366/1366 [==============================] - 2s 1ms/step - loss: 0.4673 - accuracy: 0.7807 - val_loss: 0.4471 - val_accuracy: 0.7886\n",
      "Epoch 3/20\n",
      "1366/1366 [==============================] - 2s 1ms/step - loss: 0.4647 - accuracy: 0.7843 - val_loss: 0.4528 - val_accuracy: 0.7872\n",
      "Epoch 4/20\n",
      "1366/1366 [==============================] - 2s 1ms/step - loss: 0.4624 - accuracy: 0.7825 - val_loss: 0.4433 - val_accuracy: 0.7902\n",
      "Epoch 5/20\n",
      "1366/1366 [==============================] - 2s 1ms/step - loss: 0.4597 - accuracy: 0.7866 - val_loss: 0.4464 - val_accuracy: 0.7861\n",
      "Epoch 6/20\n",
      "1366/1366 [==============================] - 2s 1ms/step - loss: 0.4598 - accuracy: 0.7852 - val_loss: 0.4529 - val_accuracy: 0.7940\n",
      "Epoch 7/20\n",
      "1366/1366 [==============================] - 2s 2ms/step - loss: 0.4571 - accuracy: 0.7867 - val_loss: 0.4441 - val_accuracy: 0.7886\n",
      "Epoch 8/20\n",
      "1366/1366 [==============================] - 2s 2ms/step - loss: 0.4557 - accuracy: 0.7874 - val_loss: 0.4514 - val_accuracy: 0.7894\n",
      "Epoch 9/20\n",
      "1366/1366 [==============================] - 2s 1ms/step - loss: 0.4577 - accuracy: 0.7876 - val_loss: 0.4469 - val_accuracy: 0.7938\n",
      "Epoch 10/20\n",
      "1366/1366 [==============================] - 2s 1ms/step - loss: 0.4556 - accuracy: 0.7869 - val_loss: 0.4558 - val_accuracy: 0.7840\n",
      "Epoch 11/20\n",
      "1366/1366 [==============================] - 2s 1ms/step - loss: 0.4556 - accuracy: 0.7873 - val_loss: 0.4640 - val_accuracy: 0.7925\n",
      "Epoch 12/20\n",
      "1366/1366 [==============================] - 2s 1ms/step - loss: 0.4554 - accuracy: 0.7873 - val_loss: 0.4427 - val_accuracy: 0.7907\n",
      "Epoch 13/20\n",
      "1366/1366 [==============================] - 2s 1ms/step - loss: 0.4561 - accuracy: 0.7886 - val_loss: 0.4448 - val_accuracy: 0.7868\n",
      "Epoch 14/20\n",
      "1366/1366 [==============================] - 2s 1ms/step - loss: 0.4547 - accuracy: 0.7883 - val_loss: 0.4416 - val_accuracy: 0.7903\n",
      "Epoch 15/20\n",
      "1366/1366 [==============================] - 2s 1ms/step - loss: 0.4528 - accuracy: 0.7888 - val_loss: 0.4373 - val_accuracy: 0.7935\n",
      "Epoch 16/20\n",
      "1366/1366 [==============================] - 2s 1ms/step - loss: 0.4529 - accuracy: 0.7886 - val_loss: 0.4412 - val_accuracy: 0.7951\n",
      "Epoch 17/20\n",
      "1366/1366 [==============================] - 2s 1ms/step - loss: 0.4514 - accuracy: 0.7892 - val_loss: 0.4405 - val_accuracy: 0.7941\n",
      "Epoch 18/20\n",
      "1366/1366 [==============================] - 2s 1ms/step - loss: 0.4534 - accuracy: 0.7874 - val_loss: 0.4408 - val_accuracy: 0.7925\n",
      "Epoch 19/20\n",
      "1366/1366 [==============================] - 2s 1ms/step - loss: 0.4517 - accuracy: 0.7890 - val_loss: 0.4371 - val_accuracy: 0.7953\n",
      "Epoch 20/20\n",
      "1366/1366 [==============================] - 2s 1ms/step - loss: 0.4517 - accuracy: 0.7893 - val_loss: 0.4439 - val_accuracy: 0.7942\n"
     ]
    },
    {
     "data": {
      "text/html": [
       "<style>#sk-container-id-18 {color: black;}#sk-container-id-18 pre{padding: 0;}#sk-container-id-18 div.sk-toggleable {background-color: white;}#sk-container-id-18 label.sk-toggleable__label {cursor: pointer;display: block;width: 100%;margin-bottom: 0;padding: 0.3em;box-sizing: border-box;text-align: center;}#sk-container-id-18 label.sk-toggleable__label-arrow:before {content: \"▸\";float: left;margin-right: 0.25em;color: #696969;}#sk-container-id-18 label.sk-toggleable__label-arrow:hover:before {color: black;}#sk-container-id-18 div.sk-estimator:hover label.sk-toggleable__label-arrow:before {color: black;}#sk-container-id-18 div.sk-toggleable__content {max-height: 0;max-width: 0;overflow: hidden;text-align: left;background-color: #f0f8ff;}#sk-container-id-18 div.sk-toggleable__content pre {margin: 0.2em;color: black;border-radius: 0.25em;background-color: #f0f8ff;}#sk-container-id-18 input.sk-toggleable__control:checked~div.sk-toggleable__content {max-height: 200px;max-width: 100%;overflow: auto;}#sk-container-id-18 input.sk-toggleable__control:checked~label.sk-toggleable__label-arrow:before {content: \"▾\";}#sk-container-id-18 div.sk-estimator input.sk-toggleable__control:checked~label.sk-toggleable__label {background-color: #d4ebff;}#sk-container-id-18 div.sk-label input.sk-toggleable__control:checked~label.sk-toggleable__label {background-color: #d4ebff;}#sk-container-id-18 input.sk-hidden--visually {border: 0;clip: rect(1px 1px 1px 1px);clip: rect(1px, 1px, 1px, 1px);height: 1px;margin: -1px;overflow: hidden;padding: 0;position: absolute;width: 1px;}#sk-container-id-18 div.sk-estimator {font-family: monospace;background-color: #f0f8ff;border: 1px dotted black;border-radius: 0.25em;box-sizing: border-box;margin-bottom: 0.5em;}#sk-container-id-18 div.sk-estimator:hover {background-color: #d4ebff;}#sk-container-id-18 div.sk-parallel-item::after {content: \"\";width: 100%;border-bottom: 1px solid gray;flex-grow: 1;}#sk-container-id-18 div.sk-label:hover label.sk-toggleable__label {background-color: #d4ebff;}#sk-container-id-18 div.sk-serial::before {content: \"\";position: absolute;border-left: 1px solid gray;box-sizing: border-box;top: 0;bottom: 0;left: 50%;z-index: 0;}#sk-container-id-18 div.sk-serial {display: flex;flex-direction: column;align-items: center;background-color: white;padding-right: 0.2em;padding-left: 0.2em;position: relative;}#sk-container-id-18 div.sk-item {position: relative;z-index: 1;}#sk-container-id-18 div.sk-parallel {display: flex;align-items: stretch;justify-content: center;background-color: white;position: relative;}#sk-container-id-18 div.sk-item::before, #sk-container-id-18 div.sk-parallel-item::before {content: \"\";position: absolute;border-left: 1px solid gray;box-sizing: border-box;top: 0;bottom: 0;left: 50%;z-index: -1;}#sk-container-id-18 div.sk-parallel-item {display: flex;flex-direction: column;z-index: 1;position: relative;background-color: white;}#sk-container-id-18 div.sk-parallel-item:first-child::after {align-self: flex-end;width: 50%;}#sk-container-id-18 div.sk-parallel-item:last-child::after {align-self: flex-start;width: 50%;}#sk-container-id-18 div.sk-parallel-item:only-child::after {width: 0;}#sk-container-id-18 div.sk-dashed-wrapped {border: 1px dashed gray;margin: 0 0.4em 0.5em 0.4em;box-sizing: border-box;padding-bottom: 0.4em;background-color: white;}#sk-container-id-18 div.sk-label label {font-family: monospace;font-weight: bold;display: inline-block;line-height: 1.2em;}#sk-container-id-18 div.sk-label-container {text-align: center;}#sk-container-id-18 div.sk-container {/* jupyter's `normalize.less` sets `[hidden] { display: none; }` but bootstrap.min.css set `[hidden] { display: none !important; }` so we also need the `!important` here to be able to override the default hidden behavior on the sphinx rendered scikit-learn.org. See: https://github.com/scikit-learn/scikit-learn/issues/21755 */display: inline-block !important;position: relative;}#sk-container-id-18 div.sk-text-repr-fallback {display: none;}</style><div id=\"sk-container-id-18\" class=\"sk-top-container\"><div class=\"sk-text-repr-fallback\"><pre>KerasClassifier(\n",
       "\tmodel=&lt;function build_model at 0x0000018E863FEB90&gt;\n",
       "\tbuild_fn=None\n",
       "\twarm_start=False\n",
       "\trandom_state=None\n",
       "\toptimizer=Adagrad\n",
       "\tloss=None\n",
       "\tmetrics=None\n",
       "\tbatch_size=32\n",
       "\tvalidation_batch_size=None\n",
       "\tverbose=1\n",
       "\tcallbacks=None\n",
       "\tvalidation_split=0.2\n",
       "\tshuffle=True\n",
       "\trun_eagerly=False\n",
       "\tepochs=20\n",
       "\tclass_weight=None\n",
       ")</pre><b>In a Jupyter environment, please rerun this cell to show the HTML representation or trust the notebook. <br />On GitHub, the HTML representation is unable to render, please try loading this page with nbviewer.org.</b></div><div class=\"sk-container\" hidden><div class=\"sk-item\"><div class=\"sk-estimator sk-toggleable\"><input class=\"sk-toggleable__control sk-hidden--visually\" id=\"sk-estimator-id-36\" type=\"checkbox\" checked><label for=\"sk-estimator-id-36\" class=\"sk-toggleable__label sk-toggleable__label-arrow\">KerasClassifier</label><div class=\"sk-toggleable__content\"><pre>KerasClassifier(\n",
       "\tmodel=&lt;function build_model at 0x0000018E863FEB90&gt;\n",
       "\tbuild_fn=None\n",
       "\twarm_start=False\n",
       "\trandom_state=None\n",
       "\toptimizer=Adagrad\n",
       "\tloss=None\n",
       "\tmetrics=None\n",
       "\tbatch_size=32\n",
       "\tvalidation_batch_size=None\n",
       "\tverbose=1\n",
       "\tcallbacks=None\n",
       "\tvalidation_split=0.2\n",
       "\tshuffle=True\n",
       "\trun_eagerly=False\n",
       "\tepochs=20\n",
       "\tclass_weight=None\n",
       ")</pre></div></div></div></div></div>"
      ],
      "text/plain": [
       "KerasClassifier(\n",
       "\tmodel=<function build_model at 0x0000018E863FEB90>\n",
       "\tbuild_fn=None\n",
       "\twarm_start=False\n",
       "\trandom_state=None\n",
       "\toptimizer=Adagrad\n",
       "\tloss=None\n",
       "\tmetrics=None\n",
       "\tbatch_size=32\n",
       "\tvalidation_batch_size=None\n",
       "\tverbose=1\n",
       "\tcallbacks=None\n",
       "\tvalidation_split=0.2\n",
       "\tshuffle=True\n",
       "\trun_eagerly=False\n",
       "\tepochs=20\n",
       "\tclass_weight=None\n",
       ")"
      ]
     },
     "execution_count": 173,
     "metadata": {},
     "output_type": "execute_result"
    }
   ],
   "source": [
    "best_mlp_model.fit(X_train, y_train, epochs = 20, validation_data = (X_test, y_test), verbose = 1)"
   ]
  },
  {
   "cell_type": "markdown",
   "metadata": {},
   "source": [
    "#### Learning Curves"
   ]
  },
  {
   "cell_type": "code",
   "execution_count": 174,
   "metadata": {},
   "outputs": [
    {
     "data": {
      "image/png": "[encoded data removed]",
      "text/plain": [
       "<Figure size 640x480 with 1 Axes>"
      ]
     },
     "metadata": {},
     "output_type": "display_data"
    }
   ],
   "source": [
    "plt.plot(best_mlp_model.history_['loss'])\n",
    "plt.plot(best_mlp_model.history_['val_loss'])\n",
    "plt.title('Model Performance')\n",
    "plt.ylabel('Loss values')\n",
    "plt.xlabel('Epochs')\n",
    "plt.legend(['train', 'val'], loc='upper left')\n",
    "plt.show()"
   ]
  },
  {
   "cell_type": "code",
   "execution_count": 175,
   "metadata": {},
   "outputs": [
    {
     "name": "stdout",
     "output_type": "stream",
     "text": [
      "586/586 [==============================] - 0s 744us/step\n"
     ]
    }
   ],
   "source": [
    "predictions = best_mlp_model.predict(X_test)"
   ]
  },
  {
   "cell_type": "markdown",
   "metadata": {},
   "source": [
    "#### Classification Report"
   ]
  },
  {
   "cell_type": "code",
   "execution_count": 176,
   "metadata": {},
   "outputs": [
    {
     "name": "stdout",
     "output_type": "stream",
     "text": [
      "              precision    recall  f1-score   support\n",
      "\n",
      "         0.0       0.78      0.82      0.80      9311\n",
      "         1.0       0.81      0.77      0.79      9410\n",
      "\n",
      "    accuracy                           0.79     18721\n",
      "   macro avg       0.79      0.79      0.79     18721\n",
      "weighted avg       0.79      0.79      0.79     18721\n",
      "\n"
     ]
    }
   ],
   "source": [
    "print(classification_report(y_test,predictions))"
   ]
  },
  {
   "cell_type": "markdown",
   "metadata": {},
   "source": [
    "#### Confusion matrix"
   ]
  },
  {
   "cell_type": "code",
   "execution_count": 177,
   "metadata": {},
   "outputs": [
    {
     "data": {
      "image/png": "[encoded data removed]",
      "text/plain": [
       "<Figure size 640x480 with 2 Axes>"
      ]
     },
     "metadata": {},
     "output_type": "display_data"
    }
   ],
   "source": [
    "ConfusionMatrixDisplay.from_predictions(y_test, predictions)\n",
    "plt.show()"
   ]
  }
 ],
 "metadata": {
  "kernelspec": {
   "display_name": "daa310",
   "language": "python",
   "name": "python3"
  },
  "language_info": {
   "codemirror_mode": {
    "name": "ipython",
    "version": 3
   },
   "file_extension": ".py",
   "mimetype": "text/x-python",
   "name": "python",
   "nbconvert_exporter": "python",
   "pygments_lexer": "ipython3",
   "version": "3.10.13"
  }
 },
 "nbformat": 4,
 "nbformat_minor": 2
}
