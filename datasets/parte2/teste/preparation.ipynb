{
 "cells": [
  {
   "cell_type": "markdown",
   "metadata": {},
   "source": [
    "#### Import libraries"
   ]
  },
  {
   "cell_type": "code",
   "execution_count": 61,
   "metadata": {},
   "outputs": [],
   "source": [
    "import matplotlib.pyplot as plt\n",
    "import pandas as pd\n",
    "import numpy as np"
   ]
  },
  {
   "cell_type": "markdown",
   "metadata": {},
   "source": [
    "## Energy datasets"
   ]
  },
  {
   "cell_type": "markdown",
   "metadata": {},
   "source": [
    "#### Read data"
   ]
  },
  {
   "cell_type": "code",
   "execution_count": 62,
   "metadata": {},
   "outputs": [],
   "source": [
    "df_energy = pd.read_csv(\"energia_202301-202304.csv\", na_filter=False)"
   ]
  },
  {
   "cell_type": "markdown",
   "metadata": {},
   "source": [
    "#### 'Hora' column to int"
   ]
  },
  {
   "cell_type": "code",
   "execution_count": 63,
   "metadata": {},
   "outputs": [],
   "source": [
    "df_energy['Hora'] = df_energy['Hora'].astype(int)"
   ]
  },
  {
   "cell_type": "markdown",
   "metadata": {},
   "source": [
    "## Meteo datasets"
   ]
  },
  {
   "cell_type": "markdown",
   "metadata": {},
   "source": [
    "#### Read data"
   ]
  },
  {
   "cell_type": "code",
   "execution_count": 64,
   "metadata": {},
   "outputs": [],
   "source": [
    "df_meteo = pd.read_csv(\"meteo_202301-202304.csv\", na_filter=False)"
   ]
  },
  {
   "cell_type": "markdown",
   "metadata": {},
   "source": [
    "#### Transforming 'dt_iso' column to 'Date' and 'Hora' columns"
   ]
  },
  {
   "cell_type": "code",
   "execution_count": 65,
   "metadata": {},
   "outputs": [],
   "source": [
    "df_meteo['dt_iso'] = pd.to_datetime(df_meteo['dt_iso'].str.replace(' UTC', ''), format='%Y-%m-%d %H:%M:%S %z')\n",
    "df_meteo['Data'] = df_meteo['dt_iso'].dt.strftime('%Y-%m-%d')\n",
    "df_meteo['Hora'] = df_meteo['dt_iso'].dt.strftime('%H')\n",
    "df_meteo['Hora'] = df_meteo['Hora'].astype(int)"
   ]
  },
  {
   "cell_type": "markdown",
   "metadata": {},
   "source": [
    "#### Drop 'dt_iso' column"
   ]
  },
  {
   "cell_type": "code",
   "execution_count": 66,
   "metadata": {},
   "outputs": [],
   "source": [
    "df_meteo = df_meteo.drop('dt_iso',axis = 1)"
   ]
  },
  {
   "cell_type": "markdown",
   "metadata": {},
   "source": [
    "## API dataset"
   ]
  },
  {
   "cell_type": "markdown",
   "metadata": {},
   "source": [
    "#### Read data"
   ]
  },
  {
   "cell_type": "code",
   "execution_count": 67,
   "metadata": {},
   "outputs": [],
   "source": [
    "df_api = pd.read_csv(\"api.csv\", na_filter=False)\n",
    "df_weather = pd.read_csv(\"new_weather.csv\", na_filter=False)"
   ]
  },
  {
   "cell_type": "code",
   "execution_count": 68,
   "metadata": {},
   "outputs": [],
   "source": [
    "df_weather.drop(columns=['dew_point_2m (°C)'], inplace=True)\n",
    "df_weather.drop(columns=['rain (mm)'], inplace=True)\n",
    "df_weather.drop(columns=['et0_fao_evapotranspiration (mm)'], inplace=True)\n",
    "df_weather.drop(columns=['vapour_pressure_deficit (kPa)'], inplace=True)\n",
    "df_weather.drop(columns=['soil_temperature_7_to_28cm (°C)'], inplace=True)\n",
    "df_weather.drop(columns=['soil_temperature_28_to_100cm (°C)'], inplace=True)\n",
    "df_weather.drop(columns=['soil_temperature_100_to_255cm (°C)'], inplace=True)"
   ]
  },
  {
   "cell_type": "markdown",
   "metadata": {},
   "source": [
    "#### 'time' column into 'Data' and 'Hora' columns"
   ]
  },
  {
   "cell_type": "code",
   "execution_count": 69,
   "metadata": {},
   "outputs": [],
   "source": [
    "df_api['time'] = pd.to_datetime(df_api['time'])\n",
    "\n",
    "df_api['Data'] = df_api['time'].dt.strftime('%Y-%m-%d')\n",
    "df_api['Hora'] = df_api['time'].dt.strftime('%H')\n",
    "df_api['Hora'] = df_api['Hora'].astype(int)\n",
    "\n",
    "df_api.drop(columns=['time'], inplace=True)\n",
    "\n",
    "#-----------------------------------------\n",
    "\n",
    "df_weather['time'] = pd.to_datetime(df_weather['time'])\n",
    "\n",
    "df_weather['Data'] = df_weather['time'].dt.strftime('%Y-%m-%d')\n",
    "df_weather['Hora'] = df_weather['time'].dt.strftime('%H')\n",
    "df_weather['Hora'] = df_weather['Hora'].astype(int)\n",
    "\n",
    "df_weather.drop(columns=['time'], inplace=True)"
   ]
  },
  {
   "cell_type": "markdown",
   "metadata": {},
   "source": [
    "#### Columns renaming"
   ]
  },
  {
   "cell_type": "code",
   "execution_count": 70,
   "metadata": {},
   "outputs": [],
   "source": [
    "df_api.columns = [col[:col.rfind(' ')] if col.endswith(')') else col for col in df_api.columns]\n",
    "\n",
    "df_api.rename(columns={\n",
    "    \"pressure_msl\": \"sealevel_pressure\"\n",
    "}, inplace=True)\n",
    "\n",
    "df_weather.columns = [col[:col.rfind(' ')] if col.endswith(')') else col for col in df_weather.columns]"
   ]
  },
  {
   "cell_type": "markdown",
   "metadata": {},
   "source": [
    "## Merge datasets by 'Data' and 'Hora' columns"
   ]
  },
  {
   "cell_type": "code",
   "execution_count": 71,
   "metadata": {},
   "outputs": [],
   "source": [
    "merged_df1 = pd.merge(df_energy, df_meteo, on=['Data','Hora'], how='inner')\n",
    "merged_df2 = pd.merge(merged_df1, df_api, on=['Data','Hora'], how='inner')\n",
    "df = pd.merge(merged_df2, df_weather, on=['Data','Hora'], how='inner')"
   ]
  },
  {
   "cell_type": "markdown",
   "metadata": {},
   "source": [
    "## Columns renaming"
   ]
  },
  {
   "cell_type": "code",
   "execution_count": 72,
   "metadata": {},
   "outputs": [],
   "source": [
    "df.rename(columns={\n",
    "    'Data':'date',\n",
    "    'Hora':'hour',\n",
    "    'Normal (kWh)':'normal',\n",
    "    'Horário Económico (kWh)':'economic_schedule',\n",
    "    'Autoconsumo (kWh)':'self-consumption',\n",
    "    'Injeção na rede (kWh)':'injection'\n",
    "}, inplace=True)"
   ]
  },
  {
   "cell_type": "markdown",
   "metadata": {},
   "source": [
    "## Write new csv\n"
   ]
  },
  {
   "cell_type": "code",
   "execution_count": 73,
   "metadata": {},
   "outputs": [],
   "source": [
    "df.to_csv('../test.csv', index=False)"
   ]
  }
 ],
 "metadata": {
  "kernelspec": {
   "display_name": "Python 3.10.13 ('daa1')",
   "language": "python",
   "name": "python3"
  },
  "language_info": {
   "codemirror_mode": {
    "name": "ipython",
    "version": 3
   },
   "file_extension": ".py",
   "mimetype": "text/x-python",
   "name": "python",
   "nbconvert_exporter": "python",
   "pygments_lexer": "ipython3",
   "version": "3.10.13"
  },
  "vscode": {
   "interpreter": {
    "hash": "b591d187f37fd73410aa6677fb7622cf9fb1a6dcb0be9eb075fceec3f912c4c8"
   }
  }
 },
 "nbformat": 4,
 "nbformat_minor": 2
}
