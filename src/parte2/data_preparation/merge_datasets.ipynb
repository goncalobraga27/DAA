{
 "cells": [
  {
   "cell_type": "markdown",
   "metadata": {},
   "source": [
    "## Dataset treino"
   ]
  },
  {
   "cell_type": "markdown",
   "metadata": {},
   "source": [
    "##### Concat e merge dos datasets iniciais"
   ]
  },
  {
   "cell_type": "code",
   "execution_count": 8,
   "metadata": {},
   "outputs": [],
   "source": [
    "import pandas as pd\n",
    "\n",
    "energia2021 = pd.read_csv(\"../../../datasets/parte2/energia_202109-202112.csv\", na_filter=False)\n",
    "energia2022 = pd.read_csv(\"../../../datasets/parte2/energia_202201-202212.csv\", na_filter=False)\n",
    "\n",
    "meteo2021 = pd.read_csv(\"../../../datasets/parte2/meteo_202109-202112.csv\", na_filter=False)\n",
    "meteo2022 = pd.read_csv(\"../../../datasets/parte2/meteo_202201-202212.csv\", na_filter=False)\n",
    "\n",
    "energia = pd.concat([energia2021, energia2022])\n",
    "meteo = pd.concat([meteo2021, meteo2022])\n",
    "\n",
    "energia['Hora'] = energia['Hora'].astype(int)\n",
    "\n",
    "meteo['dt_iso'] = pd.to_datetime(meteo['dt_iso'].str.replace(' UTC', ''), format='%Y-%m-%d %H:%M:%S %z')\n",
    "meteo['Data'] = meteo['dt_iso'].dt.strftime('%Y-%m-%d')\n",
    "meteo['Hora'] = meteo['dt_iso'].dt.strftime('%H')\n",
    "meteo['Hora'] = meteo['Hora'].astype(int)\n",
    "\n",
    "df = pd.merge(energia, meteo, on=['Data','Hora'], how='inner')\n",
    "\n",
    "df.to_csv('../../../datasets/parte2/train.csv', index=False)"
   ]
  },
  {
   "cell_type": "markdown",
   "metadata": {},
   "source": [
    "##### Dados API - Radiações"
   ]
  },
  {
   "cell_type": "code",
   "execution_count": 9,
   "metadata": {},
   "outputs": [],
   "source": [
    "dataset = pd.read_csv(\"../../../datasets/parte2/train.csv\", na_filter=False)\n",
    "radiations = pd.read_csv(\"../../../datasets/parte2/radiations.csv\", na_filter=False)\n",
    "\n",
    "radiations['time'] = pd.to_datetime(radiations['time'])\n",
    "\n",
    "radiations['Data'] = radiations['time'].dt.strftime('%Y-%m-%d')\n",
    "radiations['Hora'] = radiations['time'].dt.strftime('%H')\n",
    "radiations['Hora'] = radiations['Hora'].astype(int)\n",
    "\n",
    "radiations.drop(columns=['time'], inplace=True)\n",
    "\n",
    "df = pd.merge(dataset, radiations, on=['Data','Hora'], how='inner')\n",
    "\n",
    "df.to_csv('../../../datasets/parte2/train.csv', index=False)"
   ]
  },
  {
   "cell_type": "markdown",
   "metadata": {},
   "source": [
    "## Dataset teste"
   ]
  },
  {
   "cell_type": "markdown",
   "metadata": {},
   "source": [
    "##### Concat e merge dos datasets iniciais"
   ]
  },
  {
   "cell_type": "code",
   "execution_count": 10,
   "metadata": {},
   "outputs": [],
   "source": [
    "import pandas as pd\n",
    "\n",
    "energia = pd.read_csv(\"../../../datasets/parte2/energia_202301-202304.csv\", na_filter=False)\n",
    "\n",
    "meteo = pd.read_csv(\"../../../datasets/parte2/meteo_202301-202304.csv\", na_filter=False)\n",
    "\n",
    "energia['Hora'] = energia['Hora'].astype(int)\n",
    "\n",
    "meteo['dt_iso'] = pd.to_datetime(meteo['dt_iso'].str.replace(' UTC', ''), format='%Y-%m-%d %H:%M:%S %z')\n",
    "meteo['Data'] = meteo['dt_iso'].dt.strftime('%Y-%m-%d')\n",
    "meteo['Hora'] = meteo['dt_iso'].dt.strftime('%H')\n",
    "meteo['Hora'] = meteo['Hora'].astype(int)\n",
    "\n",
    "df = pd.merge(energia, meteo, on=['Data','Hora'], how='inner')\n",
    "\n",
    "df.to_csv('../../../datasets/parte2/test.csv', index=False)"
   ]
  },
  {
   "cell_type": "markdown",
   "metadata": {},
   "source": [
    "##### Dados API - Radiações"
   ]
  },
  {
   "cell_type": "code",
   "execution_count": 11,
   "metadata": {},
   "outputs": [],
   "source": [
    "dataset = pd.read_csv(\"../../../datasets/parte2/test.csv\", na_filter=False)\n",
    "radiations = pd.read_csv(\"../../../datasets/parte2/radiations.csv\", na_filter=False)\n",
    "\n",
    "radiations['time'] = pd.to_datetime(radiations['time'])\n",
    "\n",
    "radiations['Data'] = radiations['time'].dt.strftime('%Y-%m-%d')\n",
    "radiations['Hora'] = radiations['time'].dt.strftime('%H')\n",
    "radiations['Hora'] = radiations['Hora'].astype(int)\n",
    "\n",
    "radiations.drop(columns=['time'], inplace=True)\n",
    "\n",
    "df = pd.merge(dataset, radiations, on=['Data','Hora'], how='inner')\n",
    "\n",
    "df.to_csv('../../../datasets/parte2/test.csv', index=False)"
   ]
  }
 ],
 "metadata": {
  "kernelspec": {
   "display_name": "DAA",
   "language": "python",
   "name": "python3"
  },
  "language_info": {
   "codemirror_mode": {
    "name": "ipython",
    "version": 3
   },
   "file_extension": ".py",
   "mimetype": "text/x-python",
   "name": "python",
   "nbconvert_exporter": "python",
   "pygments_lexer": "ipython3",
   "version": "3.10.13"
  }
 },
 "nbformat": 4,
 "nbformat_minor": 2
}
