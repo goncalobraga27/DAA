{
 "cells": [
  {
   "cell_type": "markdown",
   "metadata": {},
   "source": [
    "## Import libraries"
   ]
  },
  {
   "cell_type": "code",
   "execution_count": null,
   "metadata": {},
   "outputs": [],
   "source": [
    "import matplotlib.pyplot as plt\n",
    "import pandas as pd\n",
    "import seaborn as sns\n",
    "from sklearn.preprocessing import LabelBinarizer\n",
    "import category_encoders as ce"
   ]
  },
  {
   "cell_type": "markdown",
   "metadata": {},
   "source": [
    "## Get the data"
   ]
  },
  {
   "cell_type": "code",
   "execution_count": null,
   "metadata": {},
   "outputs": [],
   "source": [
    "df = pd.read_csv(\"../../../datasets/parte2/test.csv\")"
   ]
  },
  {
   "cell_type": "markdown",
   "metadata": {},
   "source": [
    "## Feature engineering"
   ]
  },
  {
   "cell_type": "markdown",
   "metadata": {},
   "source": [
    "#### Split date"
   ]
  },
  {
   "cell_type": "code",
   "execution_count": null,
   "metadata": {},
   "outputs": [],
   "source": [
    "df['date'] = pd.to_datetime(df['date'], format=\"%Y-%m-%d\", utc=True)\n",
    "df['year'] = df['date'].dt.year\n",
    "df['month'] = df['date'].dt.month\n",
    "df['day'] = df['date'].dt.day\n",
    "df.drop(['date'], inplace=True, axis=1)\n",
    "\n",
    "\n",
    "df.head()"
   ]
  },
  {
   "cell_type": "markdown",
   "metadata": {},
   "source": [
    "#### Remove city_name"
   ]
  },
  {
   "cell_type": "code",
   "execution_count": null,
   "metadata": {},
   "outputs": [],
   "source": [
    "df.drop('city_name', axis=1, inplace=True)\n",
    "\n",
    "df.head()"
   ]
  },
  {
   "cell_type": "markdown",
   "metadata": {},
   "source": [
    "#### Remove day, month, year and hour"
   ]
  },
  {
   "cell_type": "code",
   "execution_count": null,
   "metadata": {},
   "outputs": [],
   "source": [
    "df.drop('day', axis=1, inplace=True)\n",
    "df.drop('month', axis=1, inplace=True)\n",
    "df.drop('year', axis=1, inplace=True)\n",
    "\n",
    "df.head()"
   ]
  },
  {
   "cell_type": "markdown",
   "metadata": {},
   "source": [
    "#### Remove dt"
   ]
  },
  {
   "cell_type": "code",
   "execution_count": null,
   "metadata": {},
   "outputs": [],
   "source": [
    "df.drop('dt', axis=1, inplace=True)\n",
    "\n",
    "df.head()"
   ]
  },
  {
   "cell_type": "markdown",
   "metadata": {},
   "source": [
    "#### Remove direct_radiation"
   ]
  },
  {
   "cell_type": "code",
   "execution_count": null,
   "metadata": {},
   "outputs": [],
   "source": [
    "#df.drop('direct_radiation', axis=1, inplace=True)\n",
    "#df.drop('direct_radiation_instant', axis=1, inplace=True)\n",
    "#df.drop('shortwave_radiation', axis=1, inplace=True)\n",
    "#df.drop('shortwave_radiation_instant', axis=1, inplace=True)\n",
    "#df.drop('diffuse_radiation', axis=1, inplace=True)\n",
    "#df.drop('diffuse_radiation_instant', axis=1, inplace=True)\n",
    "#df.drop('direct_normal_irradiance', axis=1, inplace=True)\n",
    "#df.drop('direct_normal_irradiance_instant', axis=1, inplace=True)\n",
    "#df.drop('terrestrial_radiation', axis=1, inplace=True)\n",
    "#df.drop('terrestrial_radiation_instant', axis=1, inplace=True)\n",
    "\n",
    "df.drop('sunshine_duration', axis=1, inplace=True)\n",
    "df.drop('sealevel_pressure', axis=1, inplace=True)\n",
    "df.drop('surface_pressure', axis=1, inplace=True)\n",
    "df.drop('rain', axis=1, inplace=True)\n",
    "#df.drop('weather_description', axis=1, inplace=True)\n",
    "\n",
    "df.drop('wind_speed', axis=1, inplace=True)"
   ]
  },
  {
   "cell_type": "markdown",
   "metadata": {},
   "source": [
    "#### Remove feels_like, temp_min, temp_max"
   ]
  },
  {
   "cell_type": "code",
   "execution_count": null,
   "metadata": {},
   "outputs": [],
   "source": [
    "#df.drop(['feels_like', 'temp_min', 'temp_max'], axis=1, inplace=True)"
   ]
  },
  {
   "cell_type": "markdown",
   "metadata": {},
   "source": [
    "## One Hot Encoding"
   ]
  },
  {
   "cell_type": "code",
   "execution_count": null,
   "metadata": {},
   "outputs": [],
   "source": [
    "df['weather_description'] = df['weather_description'].replace('clear sky', 'sky is clear')"
   ]
  },
  {
   "cell_type": "code",
   "execution_count": null,
   "metadata": {},
   "outputs": [],
   "source": [
    "#LABEL ENCODING\n",
    "#replace_map = {'overcast clouds':5, 'broken clouds':0, 'few clouds':1, 'scattered clouds':6, 'sky is clear':7, 'light rain':3, 'moderate rain':4, 'heavy intensity rain':2, }\n",
    "#\n",
    "#df['weather_description'] = df['weather_description'].replace(replace_map).astype(int)\n",
    "\n",
    "# ONEHOT\n",
    "lb = LabelBinarizer()\n",
    "\n",
    "lb_results = lb.fit_transform(df['weather_description'])\n",
    "\n",
    "lb_results_df = pd.DataFrame(lb_results, columns=lb.classes_)\n",
    "\n",
    "df = pd.concat([df, lb_results_df], axis=1)\n",
    "\n",
    "df.drop('weather_description', axis=1, inplace=True)\n",
    "\n",
    "# BINARY ENCODING\n",
    "#encoder = ce.BinaryEncoder(cols=['weather_description'])\n",
    "#\n",
    "#df = encoder.fit_transform(df)"
   ]
  },
  {
   "cell_type": "markdown",
   "metadata": {},
   "source": [
    "## Missing Values"
   ]
  },
  {
   "cell_type": "markdown",
   "metadata": {},
   "source": [
    "#### Remove sea_level, grnd_level and rain_1h"
   ]
  },
  {
   "cell_type": "code",
   "execution_count": null,
   "metadata": {},
   "outputs": [],
   "source": [
    "df.drop('sea_level', axis=1, inplace=True)\n",
    "df.drop('grnd_level', axis=1, inplace=True)\n",
    "df.drop('rain_1h', axis=1, inplace=True) # experimentar a media"
   ]
  },
  {
   "cell_type": "code",
   "execution_count": null,
   "metadata": {},
   "outputs": [],
   "source": [
    "print(df.isna().sum())"
   ]
  },
  {
   "cell_type": "markdown",
   "metadata": {},
   "source": [
    "## Write new csv"
   ]
  },
  {
   "cell_type": "code",
   "execution_count": null,
   "metadata": {},
   "outputs": [],
   "source": [
    "if 'injection' in df:\n",
    "    df['injection'] = df['injection'].fillna(\"None\")"
   ]
  },
  {
   "cell_type": "code",
   "execution_count": null,
   "metadata": {},
   "outputs": [],
   "source": [
    "df.head()"
   ]
  },
  {
   "cell_type": "code",
   "execution_count": null,
   "metadata": {},
   "outputs": [],
   "source": [
    "df.to_csv('../../../datasets/parte2/test_prepared.csv', index=False)"
   ]
  }
 ],
 "metadata": {
  "kernelspec": {
   "display_name": "Python 3.10.13 ('daa1')",
   "language": "python",
   "name": "python3"
  },
  "language_info": {
   "codemirror_mode": {
    "name": "ipython",
    "version": 3
   },
   "file_extension": ".py",
   "mimetype": "text/x-python",
   "name": "python",
   "nbconvert_exporter": "python",
   "pygments_lexer": "ipython3",
   "version": "3.10.13"
  },
  "orig_nbformat": 4,
  "vscode": {
   "interpreter": {
    "hash": "b591d187f37fd73410aa6677fb7622cf9fb1a6dcb0be9eb075fceec3f912c4c8"
   }
  }
 },
 "nbformat": 4,
 "nbformat_minor": 2
}
