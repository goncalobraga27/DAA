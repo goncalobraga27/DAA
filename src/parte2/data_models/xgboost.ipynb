{
 "cells": [
  {
   "cell_type": "markdown",
   "metadata": {},
   "source": [
    "# XGBoost"
   ]
  },
  {
   "cell_type": "code",
   "execution_count": 16,
   "metadata": {},
   "outputs": [],
   "source": [
    "import matplotlib.pyplot as plt\n",
    "import pandas as pd\n",
    "from xgboost import XGBClassifier\n",
    "from sklearn.model_selection import train_test_split, GridSearchCV\n",
    "from sklearn.metrics import classification_report, ConfusionMatrixDisplay, accuracy_score, make_scorer, f1_score"
   ]
  },
  {
   "cell_type": "markdown",
   "metadata": {},
   "source": [
    "#### Read data"
   ]
  },
  {
   "cell_type": "code",
   "execution_count": 17,
   "metadata": {},
   "outputs": [],
   "source": [
    "df = pd.read_csv('../../../datasets/parte2/treino/dataset_prepared.csv', na_filter=False)"
   ]
  },
  {
   "cell_type": "code",
   "execution_count": 18,
   "metadata": {},
   "outputs": [],
   "source": [
    "replace_map = {'None':0, 'Low':1, 'Medium':2, 'High':3, 'Very High':4}\n",
    "\n",
    "df['injection'] = df['injection'].replace(replace_map).astype(int)"
   ]
  },
  {
   "cell_type": "markdown",
   "metadata": {},
   "source": [
    "#### X and y arrays"
   ]
  },
  {
   "cell_type": "code",
   "execution_count": 19,
   "metadata": {},
   "outputs": [],
   "source": [
    "X = df.drop(['injection'], axis=1)\n",
    "y = df['injection']"
   ]
  },
  {
   "cell_type": "markdown",
   "metadata": {},
   "source": [
    "#### Train Test Split\n",
    "\n",
    "Now let's split the data into a training set and a testing set. We will train out model on the training set and then use the test set to evaluate the model."
   ]
  },
  {
   "cell_type": "code",
   "execution_count": 20,
   "metadata": {},
   "outputs": [],
   "source": [
    "X_train, X_test, y_train, y_test = train_test_split(X, y, test_size=0.25, random_state=2023, stratify=y)"
   ]
  },
  {
   "cell_type": "markdown",
   "metadata": {},
   "source": [
    "#### Training \n",
    "\n",
    "Using GridSearchCV to find the best hyperparameters"
   ]
  },
  {
   "cell_type": "code",
   "execution_count": 21,
   "metadata": {},
   "outputs": [
    {
     "name": "stdout",
     "output_type": "stream",
     "text": [
      "Fitting 15 folds for each of 24 candidates, totalling 360 fits\n",
      "[CV 5/15] END learning_rate=0.01, max_depth=3, n_estimators=100;, score=0.864 total time=   0.8s\n",
      "[CV 2/15] END learning_rate=0.01, max_depth=3, n_estimators=100;, score=0.878 total time=   0.9s\n",
      "[CV 4/15] END learning_rate=0.01, max_depth=3, n_estimators=100;, score=0.866 total time=   0.9s\n",
      "[CV 1/15] END learning_rate=0.01, max_depth=3, n_estimators=100;, score=0.869 total time=   0.9s\n",
      "[CV 7/15] END learning_rate=0.01, max_depth=3, n_estimators=100;, score=0.849 total time=   0.8s\n",
      "[CV 3/15] END learning_rate=0.01, max_depth=3, n_estimators=100;, score=0.878 total time=   0.9s\n",
      "[CV 6/15] END learning_rate=0.01, max_depth=3, n_estimators=100;, score=0.847 total time=   0.9s\n",
      "[CV 8/15] END learning_rate=0.01, max_depth=3, n_estimators=100;, score=0.877 total time=   1.0s\n",
      "[CV 9/15] END learning_rate=0.01, max_depth=3, n_estimators=100;, score=0.864 total time=   0.7s\n",
      "[CV 12/15] END learning_rate=0.01, max_depth=3, n_estimators=100;, score=0.874 total time=   0.7s\n",
      "[CV 11/15] END learning_rate=0.01, max_depth=3, n_estimators=100;, score=0.867 total time=   0.7s\n",
      "[CV 10/15] END learning_rate=0.01, max_depth=3, n_estimators=100;, score=0.867 total time=   0.7s\n",
      "[CV 13/15] END learning_rate=0.01, max_depth=3, n_estimators=100;, score=0.874 total time=   0.7s\n",
      "[CV 14/15] END learning_rate=0.01, max_depth=3, n_estimators=100;, score=0.869 total time=   0.7s\n",
      "[CV 15/15] END learning_rate=0.01, max_depth=3, n_estimators=100;, score=0.876 total time=   0.7s\n",
      "[CV 1/15] END learning_rate=0.01, max_depth=3, n_estimators=200;, score=0.881 total time=   1.5s\n",
      "[CV 5/15] END learning_rate=0.01, max_depth=3, n_estimators=200;, score=0.876 total time=   1.5s\n",
      "[CV 2/15] END learning_rate=0.01, max_depth=3, n_estimators=200;, score=0.874 total time=   1.5s\n",
      "[CV 3/15] END learning_rate=0.01, max_depth=3, n_estimators=200;, score=0.884 total time=   1.5s\n",
      "[CV 6/15] END learning_rate=0.01, max_depth=3, n_estimators=200;, score=0.864 total time=   1.5s\n",
      "[CV 4/15] END learning_rate=0.01, max_depth=3, n_estimators=200;, score=0.869 total time=   1.5s\n",
      "[CV 7/15] END learning_rate=0.01, max_depth=3, n_estimators=200;, score=0.857 total time=   1.5s\n",
      "[CV 8/15] END learning_rate=0.01, max_depth=3, n_estimators=200;, score=0.884 total time=   1.6s\n",
      "[CV 9/15] END learning_rate=0.01, max_depth=3, n_estimators=200;, score=0.876 total time=   2.1s\n",
      "[CV 11/15] END learning_rate=0.01, max_depth=3, n_estimators=200;, score=0.876 total time=   2.4s\n",
      "[CV 13/15] END learning_rate=0.01, max_depth=3, n_estimators=200;, score=0.879 total time=   2.6s\n",
      "[CV 12/15] END learning_rate=0.01, max_depth=3, n_estimators=200;, score=0.872 total time=   2.8s\n",
      "[CV 10/15] END learning_rate=0.01, max_depth=3, n_estimators=200;, score=0.877 total time=   2.9s\n",
      "[CV 14/15] END learning_rate=0.01, max_depth=3, n_estimators=200;, score=0.869 total time=   2.9s\n",
      "[CV 15/15] END learning_rate=0.01, max_depth=3, n_estimators=200;, score=0.886 total time=   3.0s\n",
      "[CV 1/15] END learning_rate=0.01, max_depth=3, n_estimators=300;, score=0.888 total time=   4.4s\n",
      "[CV 2/15] END learning_rate=0.01, max_depth=3, n_estimators=300;, score=0.879 total time=   5.1s\n",
      "[CV 3/15] END learning_rate=0.01, max_depth=3, n_estimators=300;, score=0.886 total time=   4.8s\n",
      "[CV 5/15] END learning_rate=0.01, max_depth=3, n_estimators=300;, score=0.876 total time=   5.0s\n",
      "[CV 8/15] END learning_rate=0.01, max_depth=3, n_estimators=300;, score=0.891 total time=   4.9s\n",
      "[CV 6/15] END learning_rate=0.01, max_depth=3, n_estimators=300;, score=0.874 total time=   5.0s\n",
      "[CV 7/15] END learning_rate=0.01, max_depth=3, n_estimators=300;, score=0.867 total time=   5.0s\n",
      "[CV 4/15] END learning_rate=0.01, max_depth=3, n_estimators=300;, score=0.869 total time=   5.4s\n",
      "[CV 9/15] END learning_rate=0.01, max_depth=3, n_estimators=300;, score=0.871 total time=   5.2s\n",
      "[CV 10/15] END learning_rate=0.01, max_depth=3, n_estimators=300;, score=0.882 total time=   5.5s\n",
      "[CV 11/15] END learning_rate=0.01, max_depth=3, n_estimators=300;, score=0.881 total time=   5.1s\n",
      "[CV 12/15] END learning_rate=0.01, max_depth=3, n_estimators=300;, score=0.871 total time=   5.0s\n",
      "[CV 14/15] END learning_rate=0.01, max_depth=3, n_estimators=300;, score=0.876 total time=   5.0s\n",
      "[CV 15/15] END learning_rate=0.01, max_depth=3, n_estimators=300;, score=0.891 total time=   5.0s\n",
      "[CV 13/15] END learning_rate=0.01, max_depth=3, n_estimators=300;, score=0.886 total time=   5.2s\n",
      "[CV 1/15] END learning_rate=0.01, max_depth=3, n_estimators=400;, score=0.891 total time=   7.6s\n",
      "[CV 2/15] END learning_rate=0.01, max_depth=3, n_estimators=400;, score=0.881 total time=   7.2s\n",
      "[CV 4/15] END learning_rate=0.01, max_depth=3, n_estimators=400;, score=0.876 total time=   7.2s\n",
      "[CV 3/15] END learning_rate=0.01, max_depth=3, n_estimators=400;, score=0.891 total time=   7.3s\n",
      "[CV 6/15] END learning_rate=0.01, max_depth=3, n_estimators=400;, score=0.872 total time=   6.9s\n",
      "[CV 8/15] END learning_rate=0.01, max_depth=3, n_estimators=400;, score=0.891 total time=   7.2s\n",
      "[CV 5/15] END learning_rate=0.01, max_depth=3, n_estimators=400;, score=0.881 total time=   7.5s\n",
      "[CV 7/15] END learning_rate=0.01, max_depth=3, n_estimators=400;, score=0.864 total time=   7.5s\n",
      "[CV 9/15] END learning_rate=0.01, max_depth=3, n_estimators=400;, score=0.876 total time=   6.9s\n",
      "[CV 1/15] END learning_rate=0.01, max_depth=4, n_estimators=100;, score=0.883 total time=   2.2s\n",
      "[CV 10/15] END learning_rate=0.01, max_depth=3, n_estimators=400;, score=0.882 total time=   6.6s\n",
      "[CV 2/15] END learning_rate=0.01, max_depth=4, n_estimators=100;, score=0.889 total time=   2.5s\n",
      "[CV 3/15] END learning_rate=0.01, max_depth=4, n_estimators=100;, score=0.888 total time=   2.5s\n",
      "[CV 4/15] END learning_rate=0.01, max_depth=4, n_estimators=100;, score=0.862 total time=   2.6s\n",
      "[CV 12/15] END learning_rate=0.01, max_depth=3, n_estimators=400;, score=0.877 total time=   6.9s\n",
      "[CV 13/15] END learning_rate=0.01, max_depth=3, n_estimators=400;, score=0.888 total time=   6.8s\n",
      "[CV 11/15] END learning_rate=0.01, max_depth=3, n_estimators=400;, score=0.884 total time=   7.0s\n",
      "[CV 14/15] END learning_rate=0.01, max_depth=3, n_estimators=400;, score=0.882 total time=   6.9s\n",
      "[CV 5/15] END learning_rate=0.01, max_depth=4, n_estimators=100;, score=0.878 total time=   2.3s\n",
      "[CV 15/15] END learning_rate=0.01, max_depth=3, n_estimators=400;, score=0.889 total time=   7.2s\n",
      "[CV 6/15] END learning_rate=0.01, max_depth=4, n_estimators=100;, score=0.867 total time=   2.4s\n",
      "[CV 7/15] END learning_rate=0.01, max_depth=4, n_estimators=100;, score=0.859 total time=   2.4s\n",
      "[CV 10/15] END learning_rate=0.01, max_depth=4, n_estimators=100;, score=0.877 total time=   2.2s\n",
      "[CV 9/15] END learning_rate=0.01, max_depth=4, n_estimators=100;, score=0.865 total time=   2.4s\n",
      "[CV 8/15] END learning_rate=0.01, max_depth=4, n_estimators=100;, score=0.888 total time=   2.6s\n",
      "[CV 11/15] END learning_rate=0.01, max_depth=4, n_estimators=100;, score=0.872 total time=   2.3s\n",
      "[CV 13/15] END learning_rate=0.01, max_depth=4, n_estimators=100;, score=0.877 total time=   2.3s\n",
      "[CV 12/15] END learning_rate=0.01, max_depth=4, n_estimators=100;, score=0.877 total time=   2.5s\n",
      "[CV 14/15] END learning_rate=0.01, max_depth=4, n_estimators=100;, score=0.876 total time=   2.3s\n",
      "[CV 15/15] END learning_rate=0.01, max_depth=4, n_estimators=100;, score=0.903 total time=   2.2s\n",
      "[CV 3/15] END learning_rate=0.01, max_depth=4, n_estimators=200;, score=0.888 total time=   4.1s\n",
      "[CV 1/15] END learning_rate=0.01, max_depth=4, n_estimators=200;, score=0.884 total time=   4.5s\n",
      "[CV 2/15] END learning_rate=0.01, max_depth=4, n_estimators=200;, score=0.881 total time=   4.5s\n",
      "[CV 4/15] END learning_rate=0.01, max_depth=4, n_estimators=200;, score=0.866 total time=   4.1s\n",
      "[CV 6/15] END learning_rate=0.01, max_depth=4, n_estimators=200;, score=0.869 total time=   4.3s\n",
      "[CV 5/15] END learning_rate=0.01, max_depth=4, n_estimators=200;, score=0.888 total time=   4.4s\n",
      "[CV 7/15] END learning_rate=0.01, max_depth=4, n_estimators=200;, score=0.855 total time=   4.4s\n",
      "[CV 8/15] END learning_rate=0.01, max_depth=4, n_estimators=200;, score=0.891 total time=   4.6s\n",
      "[CV 9/15] END learning_rate=0.01, max_depth=4, n_estimators=200;, score=0.879 total time=   4.9s\n",
      "[CV 11/15] END learning_rate=0.01, max_depth=4, n_estimators=200;, score=0.877 total time=   4.7s\n",
      "[CV 10/15] END learning_rate=0.01, max_depth=4, n_estimators=200;, score=0.888 total time=   4.9s\n",
      "[CV 12/15] END learning_rate=0.01, max_depth=4, n_estimators=200;, score=0.874 total time=   5.1s\n",
      "[CV 13/15] END learning_rate=0.01, max_depth=4, n_estimators=200;, score=0.882 total time=   4.9s\n",
      "[CV 14/15] END learning_rate=0.01, max_depth=4, n_estimators=200;, score=0.879 total time=   5.1s\n",
      "[CV 15/15] END learning_rate=0.01, max_depth=4, n_estimators=200;, score=0.898 total time=   5.2s\n",
      "[CV 1/15] END learning_rate=0.01, max_depth=4, n_estimators=300;, score=0.884 total time=   6.7s\n",
      "[CV 2/15] END learning_rate=0.01, max_depth=4, n_estimators=300;, score=0.881 total time=   6.5s\n",
      "[CV 3/15] END learning_rate=0.01, max_depth=4, n_estimators=300;, score=0.896 total time=   6.4s\n",
      "[CV 4/15] END learning_rate=0.01, max_depth=4, n_estimators=300;, score=0.878 total time=   6.6s\n",
      "[CV 5/15] END learning_rate=0.01, max_depth=4, n_estimators=300;, score=0.891 total time=   6.6s\n",
      "[CV 7/15] END learning_rate=0.01, max_depth=4, n_estimators=300;, score=0.867 total time=   6.7s\n",
      "[CV 6/15] END learning_rate=0.01, max_depth=4, n_estimators=300;, score=0.869 total time=   7.0s\n",
      "[CV 8/15] END learning_rate=0.01, max_depth=4, n_estimators=300;, score=0.901 total time=   6.9s\n",
      "[CV 9/15] END learning_rate=0.01, max_depth=4, n_estimators=300;, score=0.877 total time=   7.0s\n",
      "[CV 10/15] END learning_rate=0.01, max_depth=4, n_estimators=300;, score=0.889 total time=   6.9s\n",
      "[CV 12/15] END learning_rate=0.01, max_depth=4, n_estimators=300;, score=0.881 total time=   6.8s\n",
      "[CV 13/15] END learning_rate=0.01, max_depth=4, n_estimators=300;, score=0.891 total time=   7.0s\n",
      "[CV 11/15] END learning_rate=0.01, max_depth=4, n_estimators=300;, score=0.889 total time=   7.7s\n",
      "[CV 14/15] END learning_rate=0.01, max_depth=4, n_estimators=300;, score=0.884 total time=   7.0s\n",
      "[CV 15/15] END learning_rate=0.01, max_depth=4, n_estimators=300;, score=0.896 total time=   7.4s\n",
      "[CV 1/15] END learning_rate=0.01, max_depth=4, n_estimators=400;, score=0.886 total time=   9.5s\n",
      "[CV 2/15] END learning_rate=0.01, max_depth=4, n_estimators=400;, score=0.888 total time=   8.9s\n",
      "[CV 4/15] END learning_rate=0.01, max_depth=4, n_estimators=400;, score=0.881 total time=   8.7s\n",
      "[CV 3/15] END learning_rate=0.01, max_depth=4, n_estimators=400;, score=0.893 total time=   9.4s\n",
      "[CV 5/15] END learning_rate=0.01, max_depth=4, n_estimators=400;, score=0.893 total time=   9.2s\n",
      "[CV 6/15] END learning_rate=0.01, max_depth=4, n_estimators=400;, score=0.874 total time=   9.1s\n",
      "[CV 7/15] END learning_rate=0.01, max_depth=4, n_estimators=400;, score=0.867 total time=   9.7s\n",
      "[CV 8/15] END learning_rate=0.01, max_depth=4, n_estimators=400;, score=0.906 total time=   9.3s\n",
      "[CV 1/15] END learning_rate=0.1, max_depth=3, n_estimators=100;, score=0.884 total time=   1.9s\n",
      "[CV 9/15] END learning_rate=0.01, max_depth=4, n_estimators=400;, score=0.876 total time=   9.0s\n",
      "[CV 2/15] END learning_rate=0.1, max_depth=3, n_estimators=100;, score=0.886 total time=   1.9s\n",
      "[CV 10/15] END learning_rate=0.01, max_depth=4, n_estimators=400;, score=0.891 total time=   8.8s\n",
      "[CV 3/15] END learning_rate=0.1, max_depth=3, n_estimators=100;, score=0.879 total time=   2.0s\n",
      "[CV 4/15] END learning_rate=0.1, max_depth=3, n_estimators=100;, score=0.883 total time=   1.9s\n",
      "[CV 5/15] END learning_rate=0.1, max_depth=3, n_estimators=100;, score=0.886 total time=   2.0s\n",
      "[CV 6/15] END learning_rate=0.1, max_depth=3, n_estimators=100;, score=0.881 total time=   2.1s\n",
      "[CV 11/15] END learning_rate=0.01, max_depth=4, n_estimators=400;, score=0.894 total time=   9.4s\n",
      "[CV 12/15] END learning_rate=0.01, max_depth=4, n_estimators=400;, score=0.881 total time=   8.9s\n",
      "[CV 7/15] END learning_rate=0.1, max_depth=3, n_estimators=100;, score=0.869 total time=   1.7s\n",
      "[CV 13/15] END learning_rate=0.01, max_depth=4, n_estimators=400;, score=0.891 total time=   9.0s\n",
      "[CV 8/15] END learning_rate=0.1, max_depth=3, n_estimators=100;, score=0.899 total time=   1.6s\n",
      "[CV 14/15] END learning_rate=0.01, max_depth=4, n_estimators=400;, score=0.889 total time=   9.1s\n",
      "[CV 9/15] END learning_rate=0.1, max_depth=3, n_estimators=100;, score=0.872 total time=   1.6s\n",
      "[CV 10/15] END learning_rate=0.1, max_depth=3, n_estimators=100;, score=0.889 total time=   1.6s\n",
      "[CV 11/15] END learning_rate=0.1, max_depth=3, n_estimators=100;, score=0.903 total time=   1.6s\n",
      "[CV 12/15] END learning_rate=0.1, max_depth=3, n_estimators=100;, score=0.881 total time=   1.6s\n",
      "[CV 14/15] END learning_rate=0.1, max_depth=3, n_estimators=100;, score=0.874 total time=   1.6s\n",
      "[CV 15/15] END learning_rate=0.01, max_depth=4, n_estimators=400;, score=0.896 total time=   9.2s\n",
      "[CV 13/15] END learning_rate=0.1, max_depth=3, n_estimators=100;, score=0.893 total time=   1.8s\n",
      "[CV 15/15] END learning_rate=0.1, max_depth=3, n_estimators=100;, score=0.894 total time=   1.9s\n",
      "[CV 1/15] END learning_rate=0.1, max_depth=3, n_estimators=200;, score=0.884 total time=   3.0s\n",
      "[CV 2/15] END learning_rate=0.1, max_depth=3, n_estimators=200;, score=0.883 total time=   3.2s\n",
      "[CV 3/15] END learning_rate=0.1, max_depth=3, n_estimators=200;, score=0.883 total time=   3.3s\n",
      "[CV 4/15] END learning_rate=0.1, max_depth=3, n_estimators=200;, score=0.895 total time=   3.5s\n",
      "[CV 5/15] END learning_rate=0.1, max_depth=3, n_estimators=200;, score=0.896 total time=   3.5s\n",
      "[CV 6/15] END learning_rate=0.1, max_depth=3, n_estimators=200;, score=0.888 total time=   3.4s\n",
      "[CV 7/15] END learning_rate=0.1, max_depth=3, n_estimators=200;, score=0.883 total time=   3.4s\n",
      "[CV 8/15] END learning_rate=0.1, max_depth=3, n_estimators=200;, score=0.905 total time=   3.6s\n",
      "[CV 9/15] END learning_rate=0.1, max_depth=3, n_estimators=200;, score=0.876 total time=   3.5s\n",
      "[CV 10/15] END learning_rate=0.1, max_depth=3, n_estimators=200;, score=0.894 total time=   3.2s\n",
      "[CV 11/15] END learning_rate=0.1, max_depth=3, n_estimators=200;, score=0.899 total time=   3.7s\n",
      "[CV 12/15] END learning_rate=0.1, max_depth=3, n_estimators=200;, score=0.886 total time=   3.5s\n",
      "[CV 15/15] END learning_rate=0.1, max_depth=3, n_estimators=200;, score=0.903 total time=   3.6s\n",
      "[CV 14/15] END learning_rate=0.1, max_depth=3, n_estimators=200;, score=0.876 total time=   3.7s\n",
      "[CV 13/15] END learning_rate=0.1, max_depth=3, n_estimators=200;, score=0.905 total time=   4.0s\n",
      "[CV 1/15] END learning_rate=0.1, max_depth=3, n_estimators=300;, score=0.886 total time=   5.7s\n",
      "[CV 2/15] END learning_rate=0.1, max_depth=3, n_estimators=300;, score=0.886 total time=   5.6s\n",
      "[CV 3/15] END learning_rate=0.1, max_depth=3, n_estimators=300;, score=0.886 total time=   6.2s\n",
      "[CV 4/15] END learning_rate=0.1, max_depth=3, n_estimators=300;, score=0.900 total time=   6.1s\n",
      "[CV 6/15] END learning_rate=0.1, max_depth=3, n_estimators=300;, score=0.888 total time=   5.6s\n",
      "[CV 5/15] END learning_rate=0.1, max_depth=3, n_estimators=300;, score=0.903 total time=   6.0s\n",
      "[CV 8/15] END learning_rate=0.1, max_depth=3, n_estimators=300;, score=0.906 total time=   6.0s\n",
      "[CV 7/15] END learning_rate=0.1, max_depth=3, n_estimators=300;, score=0.879 total time=   6.5s\n",
      "[CV 9/15] END learning_rate=0.1, max_depth=3, n_estimators=300;, score=0.886 total time=   6.4s\n",
      "[CV 10/15] END learning_rate=0.1, max_depth=3, n_estimators=300;, score=0.899 total time=   6.9s\n",
      "[CV 11/15] END learning_rate=0.1, max_depth=3, n_estimators=300;, score=0.903 total time=   6.2s\n",
      "[CV 12/15] END learning_rate=0.1, max_depth=3, n_estimators=300;, score=0.888 total time=   6.2s\n",
      "[CV 13/15] END learning_rate=0.1, max_depth=3, n_estimators=300;, score=0.913 total time=   6.1s\n",
      "[CV 14/15] END learning_rate=0.1, max_depth=3, n_estimators=300;, score=0.879 total time=   6.3s\n",
      "[CV 15/15] END learning_rate=0.1, max_depth=3, n_estimators=300;, score=0.901 total time=   5.9s\n",
      "[CV 1/15] END learning_rate=0.1, max_depth=3, n_estimators=400;, score=0.889 total time=   7.4s\n",
      "[CV 2/15] END learning_rate=0.1, max_depth=3, n_estimators=400;, score=0.893 total time=   6.8s\n",
      "[CV 3/15] END learning_rate=0.1, max_depth=3, n_estimators=400;, score=0.888 total time=   7.5s\n",
      "[CV 4/15] END learning_rate=0.1, max_depth=3, n_estimators=400;, score=0.895 total time=   7.5s\n",
      "[CV 5/15] END learning_rate=0.1, max_depth=3, n_estimators=400;, score=0.906 total time=   7.6s\n",
      "[CV 6/15] END learning_rate=0.1, max_depth=3, n_estimators=400;, score=0.886 total time=   7.8s\n",
      "[CV 7/15] END learning_rate=0.1, max_depth=3, n_estimators=400;, score=0.883 total time=   7.6s\n",
      "[CV 8/15] END learning_rate=0.1, max_depth=3, n_estimators=400;, score=0.906 total time=   8.1s\n",
      "[CV 9/15] END learning_rate=0.1, max_depth=3, n_estimators=400;, score=0.886 total time=   8.1s\n",
      "[CV 1/15] END learning_rate=0.1, max_depth=4, n_estimators=100;, score=0.896 total time=   2.5s\n",
      "[CV 10/15] END learning_rate=0.1, max_depth=3, n_estimators=400;, score=0.894 total time=   7.8s\n",
      "[CV 2/15] END learning_rate=0.1, max_depth=4, n_estimators=100;, score=0.889 total time=   2.5s\n",
      "[CV 3/15] END learning_rate=0.1, max_depth=4, n_estimators=100;, score=0.879 total time=   2.6s\n",
      "[CV 12/15] END learning_rate=0.1, max_depth=3, n_estimators=400;, score=0.891 total time=   6.9s\n",
      "[CV 4/15] END learning_rate=0.1, max_depth=4, n_estimators=100;, score=0.888 total time=   2.5s\n",
      "[CV 11/15] END learning_rate=0.1, max_depth=3, n_estimators=400;, score=0.896 total time=   7.8s\n",
      "[CV 13/15] END learning_rate=0.1, max_depth=3, n_estimators=400;, score=0.915 total time=   7.5s\n",
      "[CV 14/15] END learning_rate=0.1, max_depth=3, n_estimators=400;, score=0.877 total time=   7.4s\n",
      "[CV 15/15] END learning_rate=0.1, max_depth=3, n_estimators=400;, score=0.893 total time=   7.6s\n",
      "[CV 5/15] END learning_rate=0.1, max_depth=4, n_estimators=100;, score=0.891 total time=   3.2s\n",
      "[CV 6/15] END learning_rate=0.1, max_depth=4, n_estimators=100;, score=0.889 total time=   3.2s\n",
      "[CV 7/15] END learning_rate=0.1, max_depth=4, n_estimators=100;, score=0.879 total time=   3.6s\n",
      "[CV 9/15] END learning_rate=0.1, max_depth=4, n_estimators=100;, score=0.876 total time=   3.1s\n",
      "[CV 8/15] END learning_rate=0.1, max_depth=4, n_estimators=100;, score=0.908 total time=   3.3s\n",
      "[CV 10/15] END learning_rate=0.1, max_depth=4, n_estimators=100;, score=0.886 total time=   3.1s\n",
      "[CV 11/15] END learning_rate=0.1, max_depth=4, n_estimators=100;, score=0.891 total time=   3.0s\n",
      "[CV 12/15] END learning_rate=0.1, max_depth=4, n_estimators=100;, score=0.888 total time=   2.7s\n",
      "[CV 13/15] END learning_rate=0.1, max_depth=4, n_estimators=100;, score=0.903 total time=   2.9s\n",
      "[CV 14/15] END learning_rate=0.1, max_depth=4, n_estimators=100;, score=0.898 total time=   2.7s\n",
      "[CV 15/15] END learning_rate=0.1, max_depth=4, n_estimators=100;, score=0.906 total time=   2.6s\n",
      "[CV 1/15] END learning_rate=0.1, max_depth=4, n_estimators=200;, score=0.898 total time=   4.7s\n",
      "[CV 2/15] END learning_rate=0.1, max_depth=4, n_estimators=200;, score=0.884 total time=   4.6s\n",
      "[CV 5/15] END learning_rate=0.1, max_depth=4, n_estimators=200;, score=0.900 total time=   4.3s\n",
      "[CV 4/15] END learning_rate=0.1, max_depth=4, n_estimators=200;, score=0.900 total time=   4.6s\n",
      "[CV 3/15] END learning_rate=0.1, max_depth=4, n_estimators=200;, score=0.886 total time=   4.6s\n",
      "[CV 6/15] END learning_rate=0.1, max_depth=4, n_estimators=200;, score=0.883 total time=   4.4s\n",
      "[CV 8/15] END learning_rate=0.1, max_depth=4, n_estimators=200;, score=0.910 total time=   4.1s\n",
      "[CV 7/15] END learning_rate=0.1, max_depth=4, n_estimators=200;, score=0.884 total time=   4.6s\n",
      "[CV 9/15] END learning_rate=0.1, max_depth=4, n_estimators=200;, score=0.881 total time=   4.2s\n",
      "[CV 10/15] END learning_rate=0.1, max_depth=4, n_estimators=200;, score=0.896 total time=   4.1s\n",
      "[CV 13/15] END learning_rate=0.1, max_depth=4, n_estimators=200;, score=0.915 total time=   3.9s\n",
      "[CV 11/15] END learning_rate=0.1, max_depth=4, n_estimators=200;, score=0.898 total time=   4.2s\n",
      "[CV 12/15] END learning_rate=0.1, max_depth=4, n_estimators=200;, score=0.893 total time=   4.1s\n",
      "[CV 14/15] END learning_rate=0.1, max_depth=4, n_estimators=200;, score=0.879 total time=   4.5s\n",
      "[CV 15/15] END learning_rate=0.1, max_depth=4, n_estimators=200;, score=0.893 total time=   4.4s\n",
      "[CV 1/15] END learning_rate=0.1, max_depth=4, n_estimators=300;, score=0.893 total time=   7.2s\n",
      "[CV 3/15] END learning_rate=0.1, max_depth=4, n_estimators=300;, score=0.883 total time=   6.6s\n",
      "[CV 2/15] END learning_rate=0.1, max_depth=4, n_estimators=300;, score=0.888 total time=   6.9s\n",
      "[CV 4/15] END learning_rate=0.1, max_depth=4, n_estimators=300;, score=0.900 total time=   6.7s\n",
      "[CV 6/15] END learning_rate=0.1, max_depth=4, n_estimators=300;, score=0.878 total time=   6.6s\n",
      "[CV 5/15] END learning_rate=0.1, max_depth=4, n_estimators=300;, score=0.901 total time=   6.7s\n",
      "[CV 7/15] END learning_rate=0.1, max_depth=4, n_estimators=300;, score=0.878 total time=   6.6s\n",
      "[CV 8/15] END learning_rate=0.1, max_depth=4, n_estimators=300;, score=0.913 total time=   6.6s\n",
      "[CV 9/15] END learning_rate=0.1, max_depth=4, n_estimators=300;, score=0.877 total time=   6.3s\n",
      "[CV 10/15] END learning_rate=0.1, max_depth=4, n_estimators=300;, score=0.901 total time=   6.7s\n",
      "[CV 11/15] END learning_rate=0.1, max_depth=4, n_estimators=300;, score=0.893 total time=   6.5s\n",
      "[CV 14/15] END learning_rate=0.1, max_depth=4, n_estimators=300;, score=0.882 total time=   6.3s\n",
      "[CV 13/15] END learning_rate=0.1, max_depth=4, n_estimators=300;, score=0.906 total time=   6.6s\n",
      "[CV 12/15] END learning_rate=0.1, max_depth=4, n_estimators=300;, score=0.898 total time=   6.8s\n",
      "[CV 15/15] END learning_rate=0.1, max_depth=4, n_estimators=300;, score=0.898 total time=   6.5s\n",
      "[CV 1/15] END learning_rate=0.1, max_depth=4, n_estimators=400;, score=0.893 total time=   9.1s\n",
      "[CV 2/15] END learning_rate=0.1, max_depth=4, n_estimators=400;, score=0.888 total time=   8.7s\n",
      "[CV 3/15] END learning_rate=0.1, max_depth=4, n_estimators=400;, score=0.884 total time=   8.8s\n",
      "[CV 4/15] END learning_rate=0.1, max_depth=4, n_estimators=400;, score=0.901 total time=   8.8s\n",
      "[CV 7/15] END learning_rate=0.1, max_depth=4, n_estimators=400;, score=0.881 total time=   8.5s\n",
      "[CV 6/15] END learning_rate=0.1, max_depth=4, n_estimators=400;, score=0.879 total time=   8.6s\n",
      "[CV 5/15] END learning_rate=0.1, max_depth=4, n_estimators=400;, score=0.905 total time=   9.0s\n",
      "[CV 8/15] END learning_rate=0.1, max_depth=4, n_estimators=400;, score=0.908 total time=   8.7s\n",
      "[CV 1/15] END learning_rate=0.2, max_depth=3, n_estimators=100;, score=0.891 total time=   1.9s\n",
      "[CV 9/15] END learning_rate=0.1, max_depth=4, n_estimators=400;, score=0.884 total time=   8.1s\n",
      "[CV 2/15] END learning_rate=0.2, max_depth=3, n_estimators=100;, score=0.888 total time=   2.1s\n",
      "[CV 3/15] END learning_rate=0.2, max_depth=3, n_estimators=100;, score=0.883 total time=   2.1s\n",
      "[CV 4/15] END learning_rate=0.2, max_depth=3, n_estimators=100;, score=0.896 total time=   2.3s\n",
      "[CV 10/15] END learning_rate=0.1, max_depth=4, n_estimators=400;, score=0.893 total time=   9.8s\n",
      "[CV 5/15] END learning_rate=0.2, max_depth=3, n_estimators=100;, score=0.898 total time=   2.0s\n",
      "[CV 11/15] END learning_rate=0.1, max_depth=4, n_estimators=400;, score=0.894 total time=   9.4s\n",
      "[CV 8/15] END learning_rate=0.2, max_depth=3, n_estimators=100;, score=0.903 total time=   1.9s\n",
      "[CV 6/15] END learning_rate=0.2, max_depth=3, n_estimators=100;, score=0.889 total time=   2.0s\n",
      "[CV 12/15] END learning_rate=0.1, max_depth=4, n_estimators=400;, score=0.891 total time=   9.8s\n",
      "[CV 14/15] END learning_rate=0.1, max_depth=4, n_estimators=400;, score=0.879 total time=   9.7s\n",
      "[CV 7/15] END learning_rate=0.2, max_depth=3, n_estimators=100;, score=0.884 total time=   2.1s\n",
      "[CV 15/15] END learning_rate=0.1, max_depth=4, n_estimators=400;, score=0.899 total time=   9.8s\n",
      "[CV 13/15] END learning_rate=0.1, max_depth=4, n_estimators=400;, score=0.905 total time=  10.2s\n",
      "[CV 9/15] END learning_rate=0.2, max_depth=3, n_estimators=100;, score=0.882 total time=   2.2s\n",
      "[CV 11/15] END learning_rate=0.2, max_depth=3, n_estimators=100;, score=0.905 total time=   1.9s\n",
      "[CV 10/15] END learning_rate=0.2, max_depth=3, n_estimators=100;, score=0.882 total time=   1.9s\n",
      "[CV 12/15] END learning_rate=0.2, max_depth=3, n_estimators=100;, score=0.888 total time=   1.9s\n",
      "[CV 13/15] END learning_rate=0.2, max_depth=3, n_estimators=100;, score=0.910 total time=   1.9s\n",
      "[CV 14/15] END learning_rate=0.2, max_depth=3, n_estimators=100;, score=0.872 total time=   2.0s\n",
      "[CV 15/15] END learning_rate=0.2, max_depth=3, n_estimators=100;, score=0.898 total time=   2.1s\n",
      "[CV 1/15] END learning_rate=0.2, max_depth=3, n_estimators=200;, score=0.888 total time=   3.7s\n",
      "[CV 2/15] END learning_rate=0.2, max_depth=3, n_estimators=200;, score=0.888 total time=   3.6s\n",
      "[CV 3/15] END learning_rate=0.2, max_depth=3, n_estimators=200;, score=0.888 total time=   3.6s\n",
      "[CV 4/15] END learning_rate=0.2, max_depth=3, n_estimators=200;, score=0.891 total time=   3.6s\n",
      "[CV 5/15] END learning_rate=0.2, max_depth=3, n_estimators=200;, score=0.906 total time=   3.6s\n",
      "[CV 6/15] END learning_rate=0.2, max_depth=3, n_estimators=200;, score=0.889 total time=   3.6s\n",
      "[CV 7/15] END learning_rate=0.2, max_depth=3, n_estimators=200;, score=0.884 total time=   3.8s\n",
      "[CV 8/15] END learning_rate=0.2, max_depth=3, n_estimators=200;, score=0.908 total time=   3.5s\n",
      "[CV 9/15] END learning_rate=0.2, max_depth=3, n_estimators=200;, score=0.881 total time=   3.7s\n",
      "[CV 10/15] END learning_rate=0.2, max_depth=3, n_estimators=200;, score=0.889 total time=   3.7s\n",
      "[CV 12/15] END learning_rate=0.2, max_depth=3, n_estimators=200;, score=0.893 total time=   3.8s\n",
      "[CV 14/15] END learning_rate=0.2, max_depth=3, n_estimators=200;, score=0.876 total time=   3.8s\n",
      "[CV 11/15] END learning_rate=0.2, max_depth=3, n_estimators=200;, score=0.903 total time=   4.0s\n",
      "[CV 13/15] END learning_rate=0.2, max_depth=3, n_estimators=200;, score=0.911 total time=   3.9s\n",
      "[CV 15/15] END learning_rate=0.2, max_depth=3, n_estimators=200;, score=0.896 total time=   4.1s\n",
      "[CV 1/15] END learning_rate=0.2, max_depth=3, n_estimators=300;, score=0.893 total time=   5.3s\n",
      "[CV 2/15] END learning_rate=0.2, max_depth=3, n_estimators=300;, score=0.893 total time=   5.3s\n",
      "[CV 3/15] END learning_rate=0.2, max_depth=3, n_estimators=300;, score=0.881 total time=   5.0s\n",
      "[CV 4/15] END learning_rate=0.2, max_depth=3, n_estimators=300;, score=0.888 total time=   4.7s\n",
      "[CV 5/15] END learning_rate=0.2, max_depth=3, n_estimators=300;, score=0.903 total time=   5.3s\n",
      "[CV 6/15] END learning_rate=0.2, max_depth=3, n_estimators=300;, score=0.881 total time=   5.5s\n",
      "[CV 7/15] END learning_rate=0.2, max_depth=3, n_estimators=300;, score=0.884 total time=   5.5s\n",
      "[CV 8/15] END learning_rate=0.2, max_depth=3, n_estimators=300;, score=0.913 total time=   5.1s\n",
      "[CV 9/15] END learning_rate=0.2, max_depth=3, n_estimators=300;, score=0.882 total time=   4.7s\n",
      "[CV 10/15] END learning_rate=0.2, max_depth=3, n_estimators=300;, score=0.882 total time=   4.8s\n",
      "[CV 11/15] END learning_rate=0.2, max_depth=3, n_estimators=300;, score=0.898 total time=   4.9s\n",
      "[CV 12/15] END learning_rate=0.2, max_depth=3, n_estimators=300;, score=0.888 total time=   5.0s\n",
      "[CV 13/15] END learning_rate=0.2, max_depth=3, n_estimators=300;, score=0.915 total time=   4.9s\n",
      "[CV 14/15] END learning_rate=0.2, max_depth=3, n_estimators=300;, score=0.872 total time=   5.2s\n",
      "[CV 15/15] END learning_rate=0.2, max_depth=3, n_estimators=300;, score=0.882 total time=   5.9s\n",
      "[CV 1/15] END learning_rate=0.2, max_depth=3, n_estimators=400;, score=0.891 total time=   7.4s\n",
      "[CV 2/15] END learning_rate=0.2, max_depth=3, n_estimators=400;, score=0.893 total time=   7.2s\n",
      "[CV 3/15] END learning_rate=0.2, max_depth=3, n_estimators=400;, score=0.881 total time=   7.4s\n",
      "[CV 4/15] END learning_rate=0.2, max_depth=3, n_estimators=400;, score=0.884 total time=   7.5s\n",
      "[CV 6/15] END learning_rate=0.2, max_depth=3, n_estimators=400;, score=0.883 total time=   6.9s\n",
      "[CV 5/15] END learning_rate=0.2, max_depth=3, n_estimators=400;, score=0.906 total time=   7.8s\n",
      "[CV 7/15] END learning_rate=0.2, max_depth=3, n_estimators=400;, score=0.874 total time=   7.2s\n",
      "[CV 8/15] END learning_rate=0.2, max_depth=3, n_estimators=400;, score=0.906 total time=   6.7s\n",
      "[CV 9/15] END learning_rate=0.2, max_depth=3, n_estimators=400;, score=0.877 total time=   6.6s\n",
      "[CV 10/15] END learning_rate=0.2, max_depth=3, n_estimators=400;, score=0.884 total time=   6.2s\n",
      "[CV 1/15] END learning_rate=0.2, max_depth=4, n_estimators=100;, score=0.895 total time=   2.1s\n",
      "[CV 2/15] END learning_rate=0.2, max_depth=4, n_estimators=100;, score=0.891 total time=   2.1s\n",
      "[CV 3/15] END learning_rate=0.2, max_depth=4, n_estimators=100;, score=0.884 total time=   2.0s\n",
      "[CV 4/15] END learning_rate=0.2, max_depth=4, n_estimators=100;, score=0.912 total time=   2.3s\n",
      "[CV 11/15] END learning_rate=0.2, max_depth=3, n_estimators=400;, score=0.901 total time=   7.1s\n",
      "[CV 13/15] END learning_rate=0.2, max_depth=3, n_estimators=400;, score=0.911 total time=   6.6s\n",
      "[CV 12/15] END learning_rate=0.2, max_depth=3, n_estimators=400;, score=0.882 total time=   6.9s\n",
      "[CV 5/15] END learning_rate=0.2, max_depth=4, n_estimators=100;, score=0.896 total time=   2.4s\n",
      "[CV 14/15] END learning_rate=0.2, max_depth=3, n_estimators=400;, score=0.876 total time=   6.7s\n",
      "[CV 6/15] END learning_rate=0.2, max_depth=4, n_estimators=100;, score=0.891 total time=   2.4s\n",
      "[CV 7/15] END learning_rate=0.2, max_depth=4, n_estimators=100;, score=0.889 total time=   2.5s\n",
      "[CV 15/15] END learning_rate=0.2, max_depth=3, n_estimators=400;, score=0.881 total time=   7.5s\n",
      "[CV 8/15] END learning_rate=0.2, max_depth=4, n_estimators=100;, score=0.911 total time=   2.6s\n",
      "[CV 10/15] END learning_rate=0.2, max_depth=4, n_estimators=100;, score=0.893 total time=   2.4s\n",
      "[CV 9/15] END learning_rate=0.2, max_depth=4, n_estimators=100;, score=0.876 total time=   2.6s\n",
      "[CV 11/15] END learning_rate=0.2, max_depth=4, n_estimators=100;, score=0.898 total time=   2.4s\n",
      "[CV 12/15] END learning_rate=0.2, max_depth=4, n_estimators=100;, score=0.888 total time=   2.8s\n",
      "[CV 13/15] END learning_rate=0.2, max_depth=4, n_estimators=100;, score=0.911 total time=   2.6s\n",
      "[CV 14/15] END learning_rate=0.2, max_depth=4, n_estimators=100;, score=0.877 total time=   2.4s\n",
      "[CV 15/15] END learning_rate=0.2, max_depth=4, n_estimators=100;, score=0.901 total time=   2.4s\n",
      "[CV 1/15] END learning_rate=0.2, max_depth=4, n_estimators=200;, score=0.891 total time=   4.4s\n",
      "[CV 3/15] END learning_rate=0.2, max_depth=4, n_estimators=200;, score=0.879 total time=   4.0s\n",
      "[CV 2/15] END learning_rate=0.2, max_depth=4, n_estimators=200;, score=0.889 total time=   4.0s\n",
      "[CV 4/15] END learning_rate=0.2, max_depth=4, n_estimators=200;, score=0.900 total time=   4.0s\n",
      "[CV 6/15] END learning_rate=0.2, max_depth=4, n_estimators=200;, score=0.884 total time=   3.8s\n",
      "[CV 5/15] END learning_rate=0.2, max_depth=4, n_estimators=200;, score=0.905 total time=   4.1s\n",
      "[CV 7/15] END learning_rate=0.2, max_depth=4, n_estimators=200;, score=0.874 total time=   3.8s\n",
      "[CV 8/15] END learning_rate=0.2, max_depth=4, n_estimators=200;, score=0.903 total time=   3.9s\n",
      "[CV 11/15] END learning_rate=0.2, max_depth=4, n_estimators=200;, score=0.893 total time=   3.8s\n",
      "[CV 10/15] END learning_rate=0.2, max_depth=4, n_estimators=200;, score=0.889 total time=   3.9s\n",
      "[CV 9/15] END learning_rate=0.2, max_depth=4, n_estimators=200;, score=0.888 total time=   3.9s\n",
      "[CV 13/15] END learning_rate=0.2, max_depth=4, n_estimators=200;, score=0.906 total time=   3.7s\n",
      "[CV 12/15] END learning_rate=0.2, max_depth=4, n_estimators=200;, score=0.898 total time=   4.0s\n",
      "[CV 14/15] END learning_rate=0.2, max_depth=4, n_estimators=200;, score=0.877 total time=   4.0s\n",
      "[CV 15/15] END learning_rate=0.2, max_depth=4, n_estimators=200;, score=0.903 total time=   4.0s\n",
      "[CV 1/15] END learning_rate=0.2, max_depth=4, n_estimators=300;, score=0.886 total time=   6.3s\n",
      "[CV 2/15] END learning_rate=0.2, max_depth=4, n_estimators=300;, score=0.895 total time=   5.9s\n",
      "[CV 4/15] END learning_rate=0.2, max_depth=4, n_estimators=300;, score=0.891 total time=   5.9s\n",
      "[CV 3/15] END learning_rate=0.2, max_depth=4, n_estimators=300;, score=0.872 total time=   6.1s\n",
      "[CV 5/15] END learning_rate=0.2, max_depth=4, n_estimators=300;, score=0.900 total time=   5.7s\n",
      "[CV 6/15] END learning_rate=0.2, max_depth=4, n_estimators=300;, score=0.883 total time=   6.0s\n",
      "[CV 7/15] END learning_rate=0.2, max_depth=4, n_estimators=300;, score=0.879 total time=   6.0s\n",
      "[CV 8/15] END learning_rate=0.2, max_depth=4, n_estimators=300;, score=0.905 total time=   6.2s\n",
      "[CV 9/15] END learning_rate=0.2, max_depth=4, n_estimators=300;, score=0.889 total time=   6.8s\n",
      "[CV 12/15] END learning_rate=0.2, max_depth=4, n_estimators=300;, score=0.891 total time=   6.9s\n",
      "[CV 11/15] END learning_rate=0.2, max_depth=4, n_estimators=300;, score=0.888 total time=   7.2s\n",
      "[CV 10/15] END learning_rate=0.2, max_depth=4, n_estimators=300;, score=0.888 total time=   7.3s\n",
      "[CV 13/15] END learning_rate=0.2, max_depth=4, n_estimators=300;, score=0.908 total time=   7.3s\n",
      "[CV 14/15] END learning_rate=0.2, max_depth=4, n_estimators=300;, score=0.871 total time=   7.3s\n",
      "[CV 15/15] END learning_rate=0.2, max_depth=4, n_estimators=300;, score=0.906 total time=   7.5s\n",
      "[CV 1/15] END learning_rate=0.2, max_depth=4, n_estimators=400;, score=0.891 total time=  10.3s\n",
      "[CV 2/15] END learning_rate=0.2, max_depth=4, n_estimators=400;, score=0.888 total time=  10.0s\n",
      "[CV 3/15] END learning_rate=0.2, max_depth=4, n_estimators=400;, score=0.883 total time=   9.3s\n",
      "[CV 4/15] END learning_rate=0.2, max_depth=4, n_estimators=400;, score=0.895 total time=   9.7s\n",
      "[CV 5/15] END learning_rate=0.2, max_depth=4, n_estimators=400;, score=0.905 total time=   9.6s\n",
      "[CV 6/15] END learning_rate=0.2, max_depth=4, n_estimators=400;, score=0.881 total time=   9.4s\n",
      "[CV 7/15] END learning_rate=0.2, max_depth=4, n_estimators=400;, score=0.881 total time=   9.7s\n",
      "[CV 8/15] END learning_rate=0.2, max_depth=4, n_estimators=400;, score=0.908 total time=   9.2s\n",
      "[CV 9/15] END learning_rate=0.2, max_depth=4, n_estimators=400;, score=0.886 total time=   8.0s\n",
      "[CV 10/15] END learning_rate=0.2, max_depth=4, n_estimators=400;, score=0.888 total time=   7.2s\n",
      "[CV 11/15] END learning_rate=0.2, max_depth=4, n_estimators=400;, score=0.891 total time=   6.5s\n",
      "[CV 12/15] END learning_rate=0.2, max_depth=4, n_estimators=400;, score=0.886 total time=   6.2s\n",
      "[CV 13/15] END learning_rate=0.2, max_depth=4, n_estimators=400;, score=0.910 total time=   6.2s\n",
      "[CV 14/15] END learning_rate=0.2, max_depth=4, n_estimators=400;, score=0.871 total time=   6.2s\n",
      "[CV 15/15] END learning_rate=0.2, max_depth=4, n_estimators=400;, score=0.899 total time=   5.9s\n"
     ]
    },
    {
     "data": {
      "text/html": [
       "<style>#sk-container-id-2 {color: black;}#sk-container-id-2 pre{padding: 0;}#sk-container-id-2 div.sk-toggleable {background-color: white;}#sk-container-id-2 label.sk-toggleable__label {cursor: pointer;display: block;width: 100%;margin-bottom: 0;padding: 0.3em;box-sizing: border-box;text-align: center;}#sk-container-id-2 label.sk-toggleable__label-arrow:before {content: \"▸\";float: left;margin-right: 0.25em;color: #696969;}#sk-container-id-2 label.sk-toggleable__label-arrow:hover:before {color: black;}#sk-container-id-2 div.sk-estimator:hover label.sk-toggleable__label-arrow:before {color: black;}#sk-container-id-2 div.sk-toggleable__content {max-height: 0;max-width: 0;overflow: hidden;text-align: left;background-color: #f0f8ff;}#sk-container-id-2 div.sk-toggleable__content pre {margin: 0.2em;color: black;border-radius: 0.25em;background-color: #f0f8ff;}#sk-container-id-2 input.sk-toggleable__control:checked~div.sk-toggleable__content {max-height: 200px;max-width: 100%;overflow: auto;}#sk-container-id-2 input.sk-toggleable__control:checked~label.sk-toggleable__label-arrow:before {content: \"▾\";}#sk-container-id-2 div.sk-estimator input.sk-toggleable__control:checked~label.sk-toggleable__label {background-color: #d4ebff;}#sk-container-id-2 div.sk-label input.sk-toggleable__control:checked~label.sk-toggleable__label {background-color: #d4ebff;}#sk-container-id-2 input.sk-hidden--visually {border: 0;clip: rect(1px 1px 1px 1px);clip: rect(1px, 1px, 1px, 1px);height: 1px;margin: -1px;overflow: hidden;padding: 0;position: absolute;width: 1px;}#sk-container-id-2 div.sk-estimator {font-family: monospace;background-color: #f0f8ff;border: 1px dotted black;border-radius: 0.25em;box-sizing: border-box;margin-bottom: 0.5em;}#sk-container-id-2 div.sk-estimator:hover {background-color: #d4ebff;}#sk-container-id-2 div.sk-parallel-item::after {content: \"\";width: 100%;border-bottom: 1px solid gray;flex-grow: 1;}#sk-container-id-2 div.sk-label:hover label.sk-toggleable__label {background-color: #d4ebff;}#sk-container-id-2 div.sk-serial::before {content: \"\";position: absolute;border-left: 1px solid gray;box-sizing: border-box;top: 0;bottom: 0;left: 50%;z-index: 0;}#sk-container-id-2 div.sk-serial {display: flex;flex-direction: column;align-items: center;background-color: white;padding-right: 0.2em;padding-left: 0.2em;position: relative;}#sk-container-id-2 div.sk-item {position: relative;z-index: 1;}#sk-container-id-2 div.sk-parallel {display: flex;align-items: stretch;justify-content: center;background-color: white;position: relative;}#sk-container-id-2 div.sk-item::before, #sk-container-id-2 div.sk-parallel-item::before {content: \"\";position: absolute;border-left: 1px solid gray;box-sizing: border-box;top: 0;bottom: 0;left: 50%;z-index: -1;}#sk-container-id-2 div.sk-parallel-item {display: flex;flex-direction: column;z-index: 1;position: relative;background-color: white;}#sk-container-id-2 div.sk-parallel-item:first-child::after {align-self: flex-end;width: 50%;}#sk-container-id-2 div.sk-parallel-item:last-child::after {align-self: flex-start;width: 50%;}#sk-container-id-2 div.sk-parallel-item:only-child::after {width: 0;}#sk-container-id-2 div.sk-dashed-wrapped {border: 1px dashed gray;margin: 0 0.4em 0.5em 0.4em;box-sizing: border-box;padding-bottom: 0.4em;background-color: white;}#sk-container-id-2 div.sk-label label {font-family: monospace;font-weight: bold;display: inline-block;line-height: 1.2em;}#sk-container-id-2 div.sk-label-container {text-align: center;}#sk-container-id-2 div.sk-container {/* jupyter's `normalize.less` sets `[hidden] { display: none; }` but bootstrap.min.css set `[hidden] { display: none !important; }` so we also need the `!important` here to be able to override the default hidden behavior on the sphinx rendered scikit-learn.org. See: https://github.com/scikit-learn/scikit-learn/issues/21755 */display: inline-block !important;position: relative;}#sk-container-id-2 div.sk-text-repr-fallback {display: none;}</style><div id=\"sk-container-id-2\" class=\"sk-top-container\"><div class=\"sk-text-repr-fallback\"><pre>GridSearchCV(cv=15, error_score=&#x27;raise&#x27;,\n",
       "             estimator=XGBClassifier(base_score=None, booster=None,\n",
       "                                     callbacks=None, colsample_bylevel=None,\n",
       "                                     colsample_bynode=None,\n",
       "                                     colsample_bytree=None, device=None,\n",
       "                                     early_stopping_rounds=None,\n",
       "                                     enable_categorical=False, eval_metric=None,\n",
       "                                     feature_types=None, gamma=None,\n",
       "                                     grow_policy=None, importance_type=None,\n",
       "                                     interaction_constraints=Non...\n",
       "                                     max_cat_threshold=None,\n",
       "                                     max_cat_to_onehot=None,\n",
       "                                     max_delta_step=None, max_depth=None,\n",
       "                                     max_leaves=None, min_child_weight=None,\n",
       "                                     missing=nan, monotone_constraints=None,\n",
       "                                     multi_strategy=None, n_estimators=None,\n",
       "                                     n_jobs=None, num_parallel_tree=None,\n",
       "                                     random_state=2023, ...),\n",
       "             n_jobs=-1,\n",
       "             param_grid={&#x27;learning_rate&#x27;: [0.01, 0.1, 0.2], &#x27;max_depth&#x27;: [3, 4],\n",
       "                         &#x27;n_estimators&#x27;: [100, 200, 300, 400]},\n",
       "             verbose=3)</pre><b>In a Jupyter environment, please rerun this cell to show the HTML representation or trust the notebook. <br />On GitHub, the HTML representation is unable to render, please try loading this page with nbviewer.org.</b></div><div class=\"sk-container\" hidden><div class=\"sk-item sk-dashed-wrapped\"><div class=\"sk-label-container\"><div class=\"sk-label sk-toggleable\"><input class=\"sk-toggleable__control sk-hidden--visually\" id=\"sk-estimator-id-4\" type=\"checkbox\" ><label for=\"sk-estimator-id-4\" class=\"sk-toggleable__label sk-toggleable__label-arrow\">GridSearchCV</label><div class=\"sk-toggleable__content\"><pre>GridSearchCV(cv=15, error_score=&#x27;raise&#x27;,\n",
       "             estimator=XGBClassifier(base_score=None, booster=None,\n",
       "                                     callbacks=None, colsample_bylevel=None,\n",
       "                                     colsample_bynode=None,\n",
       "                                     colsample_bytree=None, device=None,\n",
       "                                     early_stopping_rounds=None,\n",
       "                                     enable_categorical=False, eval_metric=None,\n",
       "                                     feature_types=None, gamma=None,\n",
       "                                     grow_policy=None, importance_type=None,\n",
       "                                     interaction_constraints=Non...\n",
       "                                     max_cat_threshold=None,\n",
       "                                     max_cat_to_onehot=None,\n",
       "                                     max_delta_step=None, max_depth=None,\n",
       "                                     max_leaves=None, min_child_weight=None,\n",
       "                                     missing=nan, monotone_constraints=None,\n",
       "                                     multi_strategy=None, n_estimators=None,\n",
       "                                     n_jobs=None, num_parallel_tree=None,\n",
       "                                     random_state=2023, ...),\n",
       "             n_jobs=-1,\n",
       "             param_grid={&#x27;learning_rate&#x27;: [0.01, 0.1, 0.2], &#x27;max_depth&#x27;: [3, 4],\n",
       "                         &#x27;n_estimators&#x27;: [100, 200, 300, 400]},\n",
       "             verbose=3)</pre></div></div></div><div class=\"sk-parallel\"><div class=\"sk-parallel-item\"><div class=\"sk-item\"><div class=\"sk-label-container\"><div class=\"sk-label sk-toggleable\"><input class=\"sk-toggleable__control sk-hidden--visually\" id=\"sk-estimator-id-5\" type=\"checkbox\" ><label for=\"sk-estimator-id-5\" class=\"sk-toggleable__label sk-toggleable__label-arrow\">estimator: XGBClassifier</label><div class=\"sk-toggleable__content\"><pre>XGBClassifier(base_score=None, booster=None, callbacks=None,\n",
       "              colsample_bylevel=None, colsample_bynode=None,\n",
       "              colsample_bytree=None, device=None, early_stopping_rounds=None,\n",
       "              enable_categorical=False, eval_metric=None, feature_types=None,\n",
       "              gamma=None, grow_policy=None, importance_type=None,\n",
       "              interaction_constraints=None, learning_rate=None, max_bin=None,\n",
       "              max_cat_threshold=None, max_cat_to_onehot=None,\n",
       "              max_delta_step=None, max_depth=None, max_leaves=None,\n",
       "              min_child_weight=None, missing=nan, monotone_constraints=None,\n",
       "              multi_strategy=None, n_estimators=None, n_jobs=None,\n",
       "              num_parallel_tree=None, random_state=2023, ...)</pre></div></div></div><div class=\"sk-serial\"><div class=\"sk-item\"><div class=\"sk-estimator sk-toggleable\"><input class=\"sk-toggleable__control sk-hidden--visually\" id=\"sk-estimator-id-6\" type=\"checkbox\" ><label for=\"sk-estimator-id-6\" class=\"sk-toggleable__label sk-toggleable__label-arrow\">XGBClassifier</label><div class=\"sk-toggleable__content\"><pre>XGBClassifier(base_score=None, booster=None, callbacks=None,\n",
       "              colsample_bylevel=None, colsample_bynode=None,\n",
       "              colsample_bytree=None, device=None, early_stopping_rounds=None,\n",
       "              enable_categorical=False, eval_metric=None, feature_types=None,\n",
       "              gamma=None, grow_policy=None, importance_type=None,\n",
       "              interaction_constraints=None, learning_rate=None, max_bin=None,\n",
       "              max_cat_threshold=None, max_cat_to_onehot=None,\n",
       "              max_delta_step=None, max_depth=None, max_leaves=None,\n",
       "              min_child_weight=None, missing=nan, monotone_constraints=None,\n",
       "              multi_strategy=None, n_estimators=None, n_jobs=None,\n",
       "              num_parallel_tree=None, random_state=2023, ...)</pre></div></div></div></div></div></div></div></div></div></div>"
      ],
      "text/plain": [
       "GridSearchCV(cv=15, error_score='raise',\n",
       "             estimator=XGBClassifier(base_score=None, booster=None,\n",
       "                                     callbacks=None, colsample_bylevel=None,\n",
       "                                     colsample_bynode=None,\n",
       "                                     colsample_bytree=None, device=None,\n",
       "                                     early_stopping_rounds=None,\n",
       "                                     enable_categorical=False, eval_metric=None,\n",
       "                                     feature_types=None, gamma=None,\n",
       "                                     grow_policy=None, importance_type=None,\n",
       "                                     interaction_constraints=Non...\n",
       "                                     max_cat_threshold=None,\n",
       "                                     max_cat_to_onehot=None,\n",
       "                                     max_delta_step=None, max_depth=None,\n",
       "                                     max_leaves=None, min_child_weight=None,\n",
       "                                     missing=nan, monotone_constraints=None,\n",
       "                                     multi_strategy=None, n_estimators=None,\n",
       "                                     n_jobs=None, num_parallel_tree=None,\n",
       "                                     random_state=2023, ...),\n",
       "             n_jobs=-1,\n",
       "             param_grid={'learning_rate': [0.01, 0.1, 0.2], 'max_depth': [3, 4],\n",
       "                         'n_estimators': [100, 200, 300, 400]},\n",
       "             verbose=3)"
      ]
     },
     "execution_count": 21,
     "metadata": {},
     "output_type": "execute_result"
    }
   ],
   "source": [
    "param_grid = {\n",
    "    'learning_rate': [0.01, 0.1, 0.2],\n",
    "    'n_estimators': [100, 200, 300, 400],\n",
    "    'max_depth': [3, 4],\n",
    "    #'min_child_weight': [5, 6, 7],\n",
    "    #'colsample_bytree': [0.7, 0.8, 0.9], # 0 ou 0,2 ou 0.7\n",
    "    #'subsample': [0.7, 0.8, 0.9],\n",
    "    #'gamma': [0.5, 1, 1.5, 2, 5],\n",
    "}\n",
    "\n",
    "model = XGBClassifier(random_state=2023)\n",
    "\n",
    "f1_scorer = make_scorer(f1_score, average='weighted')\n",
    "\n",
    "grid_search = GridSearchCV(estimator=model, param_grid=param_grid, refit=True, cv=15, verbose=3, n_jobs=-1, error_score=\"raise\") # scoring='f1'\n",
    "grid_search.fit(X_train, y_train)\n"
   ]
  },
  {
   "cell_type": "markdown",
   "metadata": {},
   "source": [
    "Inspect the best parameters"
   ]
  },
  {
   "cell_type": "code",
   "execution_count": 22,
   "metadata": {},
   "outputs": [
    {
     "data": {
      "text/plain": [
       "{'learning_rate': 0.2, 'max_depth': 4, 'n_estimators': 100}"
      ]
     },
     "execution_count": 22,
     "metadata": {},
     "output_type": "execute_result"
    }
   ],
   "source": [
    "grid_search.best_params_ # Melhor : {'learning_rate': 0.1, 'max_depth': 4, 'n_estimators': 200}"
   ]
  },
  {
   "cell_type": "code",
   "execution_count": 23,
   "metadata": {},
   "outputs": [
    {
     "data": {
      "text/plain": [
       "0.8942352636682157"
      ]
     },
     "execution_count": 23,
     "metadata": {},
     "output_type": "execute_result"
    }
   ],
   "source": [
    "grid_search.best_score_ # Melhor : 0.8828894705820277 -> 20% | 0.8818555405468975 -> 30 % | 0.8821124810057649 -> 25 %"
   ]
  },
  {
   "cell_type": "markdown",
   "metadata": {},
   "source": [
    "Get the best estimator"
   ]
  },
  {
   "cell_type": "code",
   "execution_count": 24,
   "metadata": {},
   "outputs": [],
   "source": [
    "model = grid_search.best_estimator_"
   ]
  },
  {
   "cell_type": "markdown",
   "metadata": {},
   "source": [
    "Get the predictions using the trained model"
   ]
  },
  {
   "cell_type": "code",
   "execution_count": 25,
   "metadata": {},
   "outputs": [],
   "source": [
    "predictions = model.predict(X_test)"
   ]
  },
  {
   "cell_type": "markdown",
   "metadata": {},
   "source": [
    "#### Model Evaluation"
   ]
  },
  {
   "cell_type": "markdown",
   "metadata": {},
   "source": [
    "Classification report"
   ]
  },
  {
   "cell_type": "code",
   "execution_count": 26,
   "metadata": {},
   "outputs": [
    {
     "name": "stdout",
     "output_type": "stream",
     "text": [
      "              precision    recall  f1-score   support\n",
      "\n",
      "           0       0.97      0.98      0.98      1556\n",
      "           1       0.52      0.31      0.39        86\n",
      "           2       0.66      0.71      0.69       220\n",
      "           3       0.75      0.73      0.74       221\n",
      "           4       0.81      0.85      0.83       121\n",
      "\n",
      "    accuracy                           0.90      2204\n",
      "   macro avg       0.74      0.72      0.72      2204\n",
      "weighted avg       0.89      0.90      0.89      2204\n",
      "\n"
     ]
    }
   ],
   "source": [
    "print(classification_report(y_test, predictions))"
   ]
  },
  {
   "cell_type": "markdown",
   "metadata": {},
   "source": [
    "Accuracy Score"
   ]
  },
  {
   "cell_type": "code",
   "execution_count": 27,
   "metadata": {},
   "outputs": [
    {
     "data": {
      "text/plain": [
       "0.897005444646098"
      ]
     },
     "execution_count": 27,
     "metadata": {},
     "output_type": "execute_result"
    }
   ],
   "source": [
    "accuracy_score(y_test, predictions) # Melhor : 0.8906533575317604 -> 20 % | 0.886232980332829 -> 30 % | 0.8892519970951344 -> 25 % | Binary : 0.8907044299201162 -> 25%"
   ]
  },
  {
   "cell_type": "markdown",
   "metadata": {},
   "source": [
    "Confusion Matrix"
   ]
  },
  {
   "cell_type": "code",
   "execution_count": 28,
   "metadata": {},
   "outputs": [
    {
     "data": {
      "image/png": "[encoded data removed]",
      "text/plain": [
       "<Figure size 640x480 with 2 Axes>"
      ]
     },
     "metadata": {},
     "output_type": "display_data"
    }
   ],
   "source": [
    "ConfusionMatrixDisplay.from_predictions(y_test, predictions)\n",
    "plt.show()"
   ]
  },
  {
   "cell_type": "code",
   "execution_count": 29,
   "metadata": {},
   "outputs": [],
   "source": [
    "df_test = pd.read_csv('../../../datasets/parte2/teste/dataset_prepared.csv')\n",
    "predictions_teste = model.predict(df_test)"
   ]
  },
  {
   "cell_type": "code",
   "execution_count": 30,
   "metadata": {},
   "outputs": [],
   "source": [
    "df_predictions = pd.DataFrame({'Result': predictions_teste})\n",
    "df_predictions['RowId'] = range(1, len(predictions_teste) + 1)\n",
    "df_predictions = df_predictions[['RowId', 'Result']]\n",
    "\n",
    "replace_map = { 0:'None', 1:'Low', 2:'Medium', 3:'High', 4:'Very High'} \n",
    "\n",
    "df_predictions['Result'] = df_predictions['Result'].replace(replace_map)\n",
    "\n",
    "df_predictions.to_csv('../../../datasets/parte2/teste/kaggle-xgboost-cv10-wdescription-75-stratified-binary.csv', index=False)"
   ]
  }
 ],
 "metadata": {
  "kernelspec": {
   "display_name": "Python 3.11.3 64-bit",
   "language": "python",
   "name": "python3"
  },
  "language_info": {
   "codemirror_mode": {
    "name": "ipython",
    "version": 3
   },
   "file_extension": ".py",
   "mimetype": "text/x-python",
   "name": "python",
   "nbconvert_exporter": "python",
   "pygments_lexer": "ipython3",
   "version": "3.10.13"
  },
  "orig_nbformat": 4,
  "vscode": {
   "interpreter": {
    "hash": "e7370f93d1d0cde622a1f8e1c04877d8463912d04d973331ad4851f04de6915a"
   }
  }
 },
 "nbformat": 4,
 "nbformat_minor": 2
}
