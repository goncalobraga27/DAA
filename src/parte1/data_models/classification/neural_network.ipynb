{
 "cells": [
  {
   "cell_type": "code",
   "execution_count": 136,
   "metadata": {},
   "outputs": [],
   "source": [
    "import pandas as pd \n",
    "import numpy as np \n",
    "import matplotlib.pyplot as plt \n",
    "import seaborn as sns \n",
    "import tensorflow as tf \n",
    "from tensorflow import keras \n",
    "from tensorflow.keras.models import Sequential \n",
    "from tensorflow.keras.layers import Dense\n",
    "from scikeras.wrappers import KerasClassifier\n",
    "from sklearn import metrics\n",
    "from sklearn.model_selection import GridSearchCV, KFold, train_test_split\n",
    "from sklearn.metrics import classification_report, ConfusionMatrixDisplay\n",
    "from sklearn.preprocessing import MinMaxScaler\n",
    "%matplotlib inline "
   ]
  },
  {
   "cell_type": "code",
   "execution_count": 137,
   "metadata": {},
   "outputs": [],
   "source": [
    "df = pd.read_csv('../../../../datasets/parte1/dataset_cleaned.csv')"
   ]
  },
  {
   "cell_type": "code",
   "execution_count": 138,
   "metadata": {},
   "outputs": [
    {
     "data": {
      "text/plain": [
       "(219172, 23)"
      ]
     },
     "execution_count": 138,
     "metadata": {},
     "output_type": "execute_result"
    }
   ],
   "source": [
    "df.shape"
   ]
  },
  {
   "cell_type": "code",
   "execution_count": 139,
   "metadata": {},
   "outputs": [],
   "source": [
    "X = df.drop(['RainTomorrow'], axis=1)\n",
    "y = df['RainTomorrow']"
   ]
  },
  {
   "cell_type": "code",
   "execution_count": 140,
   "metadata": {},
   "outputs": [],
   "source": [
    "X_train, X_test, y_train, y_test = train_test_split(X, y, test_size=0.3, random_state=2023)"
   ]
  },
  {
   "cell_type": "code",
   "execution_count": 141,
   "metadata": {},
   "outputs": [],
   "source": [
    "def build_model(activation = 'relu', learning_rate = 0.01):\n",
    "    model = Sequential()\n",
    "    model.add(Dense(16, input_dim = 22, activation = activation))\n",
    "    model.add(Dense(8, activation = activation))\n",
    "    model.add(Dense(1, activation = activation)) # output \n",
    "\n",
    "    #Compile the model \n",
    "    model.compile(\n",
    "        loss = 'binary_crossentropy', # Rever este loss\n",
    "        optimizer  = tf.optimizers.Adam(learning_rate),\n",
    "        metrics = ['accuracy']) # 'f1score'\n",
    "    return model \n",
    "    "
   ]
  },
  {
   "cell_type": "code",
   "execution_count": 142,
   "metadata": {},
   "outputs": [
    {
     "name": "stdout",
     "output_type": "stream",
     "text": [
      "Model: \"sequential_79\"\n",
      "_________________________________________________________________\n",
      " Layer (type)                Output Shape              Param #   \n",
      "=================================================================\n",
      " dense_237 (Dense)           (None, 16)                368       \n",
      "                                                                 \n",
      " dense_238 (Dense)           (None, 8)                 136       \n",
      "                                                                 \n",
      " dense_239 (Dense)           (None, 1)                 9         \n",
      "                                                                 \n"
     ]
    },
    {
     "name": "stdout",
     "output_type": "stream",
     "text": [
      "=================================================================\n",
      "Total params: 513\n",
      "Trainable params: 513\n",
      "Non-trainable params: 0\n",
      "_________________________________________________________________\n"
     ]
    }
   ],
   "source": [
    "model = build_model()\n",
    "model.summary()"
   ]
  },
  {
   "cell_type": "code",
   "execution_count": 143,
   "metadata": {},
   "outputs": [],
   "source": [
    "\n",
    "param_grid = {\n",
    "    'optimizer': ['SGD', 'RMSprop', 'Adagrad'] \n",
    "} "
   ]
  },
  {
   "cell_type": "code",
   "execution_count": 144,
   "metadata": {},
   "outputs": [],
   "source": [
    "kf = KFold(n_splits = 5, shuffle= True, random_state=2023)"
   ]
  },
  {
   "cell_type": "code",
   "execution_count": 145,
   "metadata": {},
   "outputs": [],
   "source": [
    "model = KerasClassifier(model=build_model, batch_size=32, validation_split=0.3, epochs = 20)"
   ]
  },
  {
   "cell_type": "code",
   "execution_count": 146,
   "metadata": {},
   "outputs": [],
   "source": [
    "grid_search = GridSearchCV(estimator=model, param_grid=param_grid, cv=kf, scoring='accuracy', refit=True, verbose=2, n_jobs=-1)"
   ]
  },
  {
   "cell_type": "code",
   "execution_count": 147,
   "metadata": {},
   "outputs": [
    {
     "name": "stdout",
     "output_type": "stream",
     "text": [
      "Fitting 5 folds for each of 3 candidates, totalling 15 fits\n"
     ]
    },
    {
     "name": "stdout",
     "output_type": "stream",
     "text": [
      "Epoch 1/20\n",
      "3357/3357 [==============================] - 6s 2ms/step - loss: 7.6060 - accuracy: 0.5012 - val_loss: 7.6306 - val_accuracy: 0.4996\n",
      "Epoch 2/20\n",
      "3357/3357 [==============================] - 5s 2ms/step - loss: 7.6060 - accuracy: 0.5012 - val_loss: 7.6306 - val_accuracy: 0.4996\n",
      "Epoch 3/20\n",
      "3357/3357 [==============================] - 5s 2ms/step - loss: 7.6060 - accuracy: 0.5012 - val_loss: 7.6306 - val_accuracy: 0.4996\n",
      "Epoch 4/20\n",
      "3357/3357 [==============================] - 5s 1ms/step - loss: 7.6060 - accuracy: 0.5012 - val_loss: 7.6306 - val_accuracy: 0.4996\n",
      "Epoch 5/20\n",
      "3357/3357 [==============================] - 5s 2ms/step - loss: 7.6060 - accuracy: 0.5012 - val_loss: 7.6306 - val_accuracy: 0.4996\n",
      "Epoch 6/20\n",
      "3357/3357 [==============================] - 5s 1ms/step - loss: 7.6060 - accuracy: 0.5012 - val_loss: 7.6306 - val_accuracy: 0.4996\n",
      "Epoch 7/20\n",
      "3357/3357 [==============================] - 5s 2ms/step - loss: 7.6060 - accuracy: 0.5012 - val_loss: 7.6306 - val_accuracy: 0.4996\n",
      "Epoch 8/20\n",
      "3357/3357 [==============================] - 5s 2ms/step - loss: 7.6060 - accuracy: 0.5012 - val_loss: 7.6306 - val_accuracy: 0.4996\n",
      "Epoch 9/20\n",
      "3357/3357 [==============================] - 5s 2ms/step - loss: 7.6060 - accuracy: 0.5012 - val_loss: 7.6306 - val_accuracy: 0.4996\n",
      "Epoch 10/20\n",
      "3357/3357 [==============================] - 6s 2ms/step - loss: 7.6060 - accuracy: 0.5012 - val_loss: 7.6306 - val_accuracy: 0.4996\n",
      "Epoch 11/20\n",
      "3357/3357 [==============================] - 5s 2ms/step - loss: 7.6060 - accuracy: 0.5012 - val_loss: 7.6306 - val_accuracy: 0.4996\n",
      "Epoch 12/20\n",
      "3357/3357 [==============================] - 7s 2ms/step - loss: 7.6060 - accuracy: 0.5012 - val_loss: 7.6306 - val_accuracy: 0.4996\n",
      "Epoch 13/20\n",
      "3357/3357 [==============================] - 7s 2ms/step - loss: 7.6060 - accuracy: 0.5012 - val_loss: 7.6306 - val_accuracy: 0.4996\n",
      "Epoch 14/20\n",
      "3357/3357 [==============================] - 6s 2ms/step - loss: 7.6060 - accuracy: 0.5012 - val_loss: 7.6306 - val_accuracy: 0.4996\n",
      "Epoch 15/20\n",
      "3357/3357 [==============================] - 6s 2ms/step - loss: 7.6060 - accuracy: 0.5012 - val_loss: 7.6306 - val_accuracy: 0.4996\n",
      "Epoch 16/20\n",
      "3357/3357 [==============================] - 5s 2ms/step - loss: 7.6060 - accuracy: 0.5012 - val_loss: 7.6306 - val_accuracy: 0.4996\n",
      "Epoch 17/20\n",
      "3357/3357 [==============================] - 5s 2ms/step - loss: 7.6060 - accuracy: 0.5012 - val_loss: 7.6306 - val_accuracy: 0.4996\n",
      "Epoch 18/20\n",
      "3357/3357 [==============================] - 5s 1ms/step - loss: 7.6060 - accuracy: 0.5012 - val_loss: 7.6306 - val_accuracy: 0.4996\n",
      "Epoch 19/20\n",
      "3357/3357 [==============================] - 5s 1ms/step - loss: 7.6060 - accuracy: 0.5012 - val_loss: 7.6306 - val_accuracy: 0.4996\n",
      "Epoch 20/20\n",
      "3357/3357 [==============================] - 5s 1ms/step - loss: 7.6060 - accuracy: 0.5012 - val_loss: 7.6306 - val_accuracy: 0.4996\n"
     ]
    },
    {
     "data": {
      "text/html": [
       "<style>#sk-container-id-7 {color: black;}#sk-container-id-7 pre{padding: 0;}#sk-container-id-7 div.sk-toggleable {background-color: white;}#sk-container-id-7 label.sk-toggleable__label {cursor: pointer;display: block;width: 100%;margin-bottom: 0;padding: 0.3em;box-sizing: border-box;text-align: center;}#sk-container-id-7 label.sk-toggleable__label-arrow:before {content: \"▸\";float: left;margin-right: 0.25em;color: #696969;}#sk-container-id-7 label.sk-toggleable__label-arrow:hover:before {color: black;}#sk-container-id-7 div.sk-estimator:hover label.sk-toggleable__label-arrow:before {color: black;}#sk-container-id-7 div.sk-toggleable__content {max-height: 0;max-width: 0;overflow: hidden;text-align: left;background-color: #f0f8ff;}#sk-container-id-7 div.sk-toggleable__content pre {margin: 0.2em;color: black;border-radius: 0.25em;background-color: #f0f8ff;}#sk-container-id-7 input.sk-toggleable__control:checked~div.sk-toggleable__content {max-height: 200px;max-width: 100%;overflow: auto;}#sk-container-id-7 input.sk-toggleable__control:checked~label.sk-toggleable__label-arrow:before {content: \"▾\";}#sk-container-id-7 div.sk-estimator input.sk-toggleable__control:checked~label.sk-toggleable__label {background-color: #d4ebff;}#sk-container-id-7 div.sk-label input.sk-toggleable__control:checked~label.sk-toggleable__label {background-color: #d4ebff;}#sk-container-id-7 input.sk-hidden--visually {border: 0;clip: rect(1px 1px 1px 1px);clip: rect(1px, 1px, 1px, 1px);height: 1px;margin: -1px;overflow: hidden;padding: 0;position: absolute;width: 1px;}#sk-container-id-7 div.sk-estimator {font-family: monospace;background-color: #f0f8ff;border: 1px dotted black;border-radius: 0.25em;box-sizing: border-box;margin-bottom: 0.5em;}#sk-container-id-7 div.sk-estimator:hover {background-color: #d4ebff;}#sk-container-id-7 div.sk-parallel-item::after {content: \"\";width: 100%;border-bottom: 1px solid gray;flex-grow: 1;}#sk-container-id-7 div.sk-label:hover label.sk-toggleable__label {background-color: #d4ebff;}#sk-container-id-7 div.sk-serial::before {content: \"\";position: absolute;border-left: 1px solid gray;box-sizing: border-box;top: 0;bottom: 0;left: 50%;z-index: 0;}#sk-container-id-7 div.sk-serial {display: flex;flex-direction: column;align-items: center;background-color: white;padding-right: 0.2em;padding-left: 0.2em;position: relative;}#sk-container-id-7 div.sk-item {position: relative;z-index: 1;}#sk-container-id-7 div.sk-parallel {display: flex;align-items: stretch;justify-content: center;background-color: white;position: relative;}#sk-container-id-7 div.sk-item::before, #sk-container-id-7 div.sk-parallel-item::before {content: \"\";position: absolute;border-left: 1px solid gray;box-sizing: border-box;top: 0;bottom: 0;left: 50%;z-index: -1;}#sk-container-id-7 div.sk-parallel-item {display: flex;flex-direction: column;z-index: 1;position: relative;background-color: white;}#sk-container-id-7 div.sk-parallel-item:first-child::after {align-self: flex-end;width: 50%;}#sk-container-id-7 div.sk-parallel-item:last-child::after {align-self: flex-start;width: 50%;}#sk-container-id-7 div.sk-parallel-item:only-child::after {width: 0;}#sk-container-id-7 div.sk-dashed-wrapped {border: 1px dashed gray;margin: 0 0.4em 0.5em 0.4em;box-sizing: border-box;padding-bottom: 0.4em;background-color: white;}#sk-container-id-7 div.sk-label label {font-family: monospace;font-weight: bold;display: inline-block;line-height: 1.2em;}#sk-container-id-7 div.sk-label-container {text-align: center;}#sk-container-id-7 div.sk-container {/* jupyter's `normalize.less` sets `[hidden] { display: none; }` but bootstrap.min.css set `[hidden] { display: none !important; }` so we also need the `!important` here to be able to override the default hidden behavior on the sphinx rendered scikit-learn.org. See: https://github.com/scikit-learn/scikit-learn/issues/21755 */display: inline-block !important;position: relative;}#sk-container-id-7 div.sk-text-repr-fallback {display: none;}</style><div id=\"sk-container-id-7\" class=\"sk-top-container\"><div class=\"sk-text-repr-fallback\"><pre>GridSearchCV(cv=KFold(n_splits=5, random_state=2023, shuffle=True),\n",
       "             estimator=KerasClassifier(batch_size=32, epochs=20, model=&lt;function build_model at 0x000001D606E57130&gt;, validation_split=0.3),\n",
       "             n_jobs=-1, param_grid={&#x27;optimizer&#x27;: [&#x27;SGD&#x27;, &#x27;RMSprop&#x27;, &#x27;Adagrad&#x27;]},\n",
       "             scoring=&#x27;accuracy&#x27;, verbose=2)</pre><b>In a Jupyter environment, please rerun this cell to show the HTML representation or trust the notebook. <br />On GitHub, the HTML representation is unable to render, please try loading this page with nbviewer.org.</b></div><div class=\"sk-container\" hidden><div class=\"sk-item sk-dashed-wrapped\"><div class=\"sk-label-container\"><div class=\"sk-label sk-toggleable\"><input class=\"sk-toggleable__control sk-hidden--visually\" id=\"sk-estimator-id-13\" type=\"checkbox\" ><label for=\"sk-estimator-id-13\" class=\"sk-toggleable__label sk-toggleable__label-arrow\">GridSearchCV</label><div class=\"sk-toggleable__content\"><pre>GridSearchCV(cv=KFold(n_splits=5, random_state=2023, shuffle=True),\n",
       "             estimator=KerasClassifier(batch_size=32, epochs=20, model=&lt;function build_model at 0x000001D606E57130&gt;, validation_split=0.3),\n",
       "             n_jobs=-1, param_grid={&#x27;optimizer&#x27;: [&#x27;SGD&#x27;, &#x27;RMSprop&#x27;, &#x27;Adagrad&#x27;]},\n",
       "             scoring=&#x27;accuracy&#x27;, verbose=2)</pre></div></div></div><div class=\"sk-parallel\"><div class=\"sk-parallel-item\"><div class=\"sk-item\"><div class=\"sk-label-container\"><div class=\"sk-label sk-toggleable\"><input class=\"sk-toggleable__control sk-hidden--visually\" id=\"sk-estimator-id-14\" type=\"checkbox\" ><label for=\"sk-estimator-id-14\" class=\"sk-toggleable__label sk-toggleable__label-arrow\">estimator: KerasClassifier</label><div class=\"sk-toggleable__content\"><pre>KerasClassifier(\n",
       "\tmodel=&lt;function build_model at 0x000001D606E57130&gt;\n",
       "\tbuild_fn=None\n",
       "\twarm_start=False\n",
       "\trandom_state=None\n",
       "\toptimizer=rmsprop\n",
       "\tloss=None\n",
       "\tmetrics=None\n",
       "\tbatch_size=32\n",
       "\tvalidation_batch_size=None\n",
       "\tverbose=1\n",
       "\tcallbacks=None\n",
       "\tvalidation_split=0.3\n",
       "\tshuffle=True\n",
       "\trun_eagerly=False\n",
       "\tepochs=20\n",
       "\tclass_weight=None\n",
       ")</pre></div></div></div><div class=\"sk-serial\"><div class=\"sk-item\"><div class=\"sk-estimator sk-toggleable\"><input class=\"sk-toggleable__control sk-hidden--visually\" id=\"sk-estimator-id-15\" type=\"checkbox\" ><label for=\"sk-estimator-id-15\" class=\"sk-toggleable__label sk-toggleable__label-arrow\">KerasClassifier</label><div class=\"sk-toggleable__content\"><pre>KerasClassifier(\n",
       "\tmodel=&lt;function build_model at 0x000001D606E57130&gt;\n",
       "\tbuild_fn=None\n",
       "\twarm_start=False\n",
       "\trandom_state=None\n",
       "\toptimizer=rmsprop\n",
       "\tloss=None\n",
       "\tmetrics=None\n",
       "\tbatch_size=32\n",
       "\tvalidation_batch_size=None\n",
       "\tverbose=1\n",
       "\tcallbacks=None\n",
       "\tvalidation_split=0.3\n",
       "\tshuffle=True\n",
       "\trun_eagerly=False\n",
       "\tepochs=20\n",
       "\tclass_weight=None\n",
       ")</pre></div></div></div></div></div></div></div></div></div></div>"
      ],
      "text/plain": [
       "GridSearchCV(cv=KFold(n_splits=5, random_state=2023, shuffle=True),\n",
       "             estimator=KerasClassifier(batch_size=32, epochs=20, model=<function build_model at 0x000001D606E57130>, validation_split=0.3),\n",
       "             n_jobs=-1, param_grid={'optimizer': ['SGD', 'RMSprop', 'Adagrad']},\n",
       "             scoring='accuracy', verbose=2)"
      ]
     },
     "execution_count": 147,
     "metadata": {},
     "output_type": "execute_result"
    }
   ],
   "source": [
    "grid_search.fit(X_train, y_train)"
   ]
  },
  {
   "cell_type": "code",
   "execution_count": 148,
   "metadata": {},
   "outputs": [
    {
     "name": "stdout",
     "output_type": "stream",
     "text": [
      "Best: 0.500750 using {'optimizer': 'Adagrad'}\n"
     ]
    }
   ],
   "source": [
    "#print(\"Best: %f using %s\" % (grid_search.best_score_, grid_search.best_params_))"
   ]
  },
  {
   "cell_type": "code",
   "execution_count": 149,
   "metadata": {},
   "outputs": [
    {
     "name": "stdout",
     "output_type": "stream",
     "text": [
      "KerasClassifier(\n",
      "\tmodel=<function build_model at 0x000001D606E57130>\n",
      "\tbuild_fn=None\n",
      "\twarm_start=False\n",
      "\trandom_state=None\n",
      "\toptimizer=Adagrad\n",
      "\tloss=None\n",
      "\tmetrics=None\n",
      "\tbatch_size=32\n",
      "\tvalidation_batch_size=None\n",
      "\tverbose=1\n",
      "\tcallbacks=None\n",
      "\tvalidation_split=0.3\n",
      "\tshuffle=True\n",
      "\trun_eagerly=False\n",
      "\tepochs=20\n",
      "\tclass_weight=None\n",
      ")\n"
     ]
    }
   ],
   "source": [
    "best_mlp_model = grid_search.best_estimator_\n",
    "print(best_mlp_model)"
   ]
  },
  {
   "cell_type": "code",
   "execution_count": 150,
   "metadata": {},
   "outputs": [
    {
     "name": "stdout",
     "output_type": "stream",
     "text": [
      "Epoch 1/20\n"
     ]
    },
    {
     "name": "stdout",
     "output_type": "stream",
     "text": [
      "4795/4795 [==============================] - 9s 2ms/step - loss: 7.7241 - accuracy: 0.4993 - val_loss: 7.6855 - val_accuracy: 0.5017\n",
      "Epoch 2/20\n",
      "4795/4795 [==============================] - 7s 2ms/step - loss: 7.7241 - accuracy: 0.4993 - val_loss: 7.6855 - val_accuracy: 0.5017\n",
      "Epoch 3/20\n",
      "4795/4795 [==============================] - 7s 1ms/step - loss: 7.7240 - accuracy: 0.4993 - val_loss: 7.6855 - val_accuracy: 0.5017\n",
      "Epoch 4/20\n",
      "4795/4795 [==============================] - 7s 1ms/step - loss: 7.7241 - accuracy: 0.4993 - val_loss: 7.6855 - val_accuracy: 0.5017\n",
      "Epoch 5/20\n",
      "4795/4795 [==============================] - 7s 1ms/step - loss: 7.7241 - accuracy: 0.4993 - val_loss: 7.6855 - val_accuracy: 0.5017\n",
      "Epoch 6/20\n",
      "4795/4795 [==============================] - 8s 2ms/step - loss: 7.7241 - accuracy: 0.4993 - val_loss: 7.6855 - val_accuracy: 0.5017\n",
      "Epoch 7/20\n",
      "4795/4795 [==============================] - 7s 2ms/step - loss: 7.7241 - accuracy: 0.4993 - val_loss: 7.6855 - val_accuracy: 0.5017\n",
      "Epoch 8/20\n",
      "4795/4795 [==============================] - 8s 2ms/step - loss: 7.7241 - accuracy: 0.4993 - val_loss: 7.6855 - val_accuracy: 0.5017\n",
      "Epoch 9/20\n",
      "4795/4795 [==============================] - 8s 2ms/step - loss: 7.7241 - accuracy: 0.4993 - val_loss: 7.6855 - val_accuracy: 0.5017\n",
      "Epoch 10/20\n",
      "4795/4795 [==============================] - 8s 2ms/step - loss: 7.7241 - accuracy: 0.4993 - val_loss: 7.6855 - val_accuracy: 0.5017\n",
      "Epoch 11/20\n",
      "4795/4795 [==============================] - 8s 2ms/step - loss: 7.7241 - accuracy: 0.4993 - val_loss: 7.6855 - val_accuracy: 0.5017\n",
      "Epoch 12/20\n",
      "4795/4795 [==============================] - 8s 2ms/step - loss: 7.7241 - accuracy: 0.4993 - val_loss: 7.6855 - val_accuracy: 0.5017\n",
      "Epoch 13/20\n",
      "4795/4795 [==============================] - 7s 2ms/step - loss: 7.7241 - accuracy: 0.4993 - val_loss: 7.6855 - val_accuracy: 0.5017\n",
      "Epoch 14/20\n",
      "4795/4795 [==============================] - 8s 2ms/step - loss: 7.7240 - accuracy: 0.4993 - val_loss: 7.6855 - val_accuracy: 0.5017\n",
      "Epoch 15/20\n",
      "4795/4795 [==============================] - 7s 2ms/step - loss: 7.7240 - accuracy: 0.4993 - val_loss: 7.6855 - val_accuracy: 0.5017\n",
      "Epoch 16/20\n",
      "4795/4795 [==============================] - 7s 2ms/step - loss: 7.7241 - accuracy: 0.4993 - val_loss: 7.6855 - val_accuracy: 0.5017\n",
      "Epoch 17/20\n",
      "4795/4795 [==============================] - 7s 2ms/step - loss: 7.7240 - accuracy: 0.4993 - val_loss: 7.6855 - val_accuracy: 0.5017\n",
      "Epoch 18/20\n",
      "4795/4795 [==============================] - 7s 2ms/step - loss: 7.7241 - accuracy: 0.4993 - val_loss: 7.6855 - val_accuracy: 0.5017\n",
      "Epoch 19/20\n",
      "4795/4795 [==============================] - 8s 2ms/step - loss: 7.7241 - accuracy: 0.4993 - val_loss: 7.6855 - val_accuracy: 0.5017\n",
      "Epoch 20/20\n",
      "4795/4795 [==============================] - 7s 2ms/step - loss: 7.7241 - accuracy: 0.4993 - val_loss: 7.6855 - val_accuracy: 0.5017\n"
     ]
    },
    {
     "data": {
      "text/html": [
       "<style>#sk-container-id-8 {color: black;}#sk-container-id-8 pre{padding: 0;}#sk-container-id-8 div.sk-toggleable {background-color: white;}#sk-container-id-8 label.sk-toggleable__label {cursor: pointer;display: block;width: 100%;margin-bottom: 0;padding: 0.3em;box-sizing: border-box;text-align: center;}#sk-container-id-8 label.sk-toggleable__label-arrow:before {content: \"▸\";float: left;margin-right: 0.25em;color: #696969;}#sk-container-id-8 label.sk-toggleable__label-arrow:hover:before {color: black;}#sk-container-id-8 div.sk-estimator:hover label.sk-toggleable__label-arrow:before {color: black;}#sk-container-id-8 div.sk-toggleable__content {max-height: 0;max-width: 0;overflow: hidden;text-align: left;background-color: #f0f8ff;}#sk-container-id-8 div.sk-toggleable__content pre {margin: 0.2em;color: black;border-radius: 0.25em;background-color: #f0f8ff;}#sk-container-id-8 input.sk-toggleable__control:checked~div.sk-toggleable__content {max-height: 200px;max-width: 100%;overflow: auto;}#sk-container-id-8 input.sk-toggleable__control:checked~label.sk-toggleable__label-arrow:before {content: \"▾\";}#sk-container-id-8 div.sk-estimator input.sk-toggleable__control:checked~label.sk-toggleable__label {background-color: #d4ebff;}#sk-container-id-8 div.sk-label input.sk-toggleable__control:checked~label.sk-toggleable__label {background-color: #d4ebff;}#sk-container-id-8 input.sk-hidden--visually {border: 0;clip: rect(1px 1px 1px 1px);clip: rect(1px, 1px, 1px, 1px);height: 1px;margin: -1px;overflow: hidden;padding: 0;position: absolute;width: 1px;}#sk-container-id-8 div.sk-estimator {font-family: monospace;background-color: #f0f8ff;border: 1px dotted black;border-radius: 0.25em;box-sizing: border-box;margin-bottom: 0.5em;}#sk-container-id-8 div.sk-estimator:hover {background-color: #d4ebff;}#sk-container-id-8 div.sk-parallel-item::after {content: \"\";width: 100%;border-bottom: 1px solid gray;flex-grow: 1;}#sk-container-id-8 div.sk-label:hover label.sk-toggleable__label {background-color: #d4ebff;}#sk-container-id-8 div.sk-serial::before {content: \"\";position: absolute;border-left: 1px solid gray;box-sizing: border-box;top: 0;bottom: 0;left: 50%;z-index: 0;}#sk-container-id-8 div.sk-serial {display: flex;flex-direction: column;align-items: center;background-color: white;padding-right: 0.2em;padding-left: 0.2em;position: relative;}#sk-container-id-8 div.sk-item {position: relative;z-index: 1;}#sk-container-id-8 div.sk-parallel {display: flex;align-items: stretch;justify-content: center;background-color: white;position: relative;}#sk-container-id-8 div.sk-item::before, #sk-container-id-8 div.sk-parallel-item::before {content: \"\";position: absolute;border-left: 1px solid gray;box-sizing: border-box;top: 0;bottom: 0;left: 50%;z-index: -1;}#sk-container-id-8 div.sk-parallel-item {display: flex;flex-direction: column;z-index: 1;position: relative;background-color: white;}#sk-container-id-8 div.sk-parallel-item:first-child::after {align-self: flex-end;width: 50%;}#sk-container-id-8 div.sk-parallel-item:last-child::after {align-self: flex-start;width: 50%;}#sk-container-id-8 div.sk-parallel-item:only-child::after {width: 0;}#sk-container-id-8 div.sk-dashed-wrapped {border: 1px dashed gray;margin: 0 0.4em 0.5em 0.4em;box-sizing: border-box;padding-bottom: 0.4em;background-color: white;}#sk-container-id-8 div.sk-label label {font-family: monospace;font-weight: bold;display: inline-block;line-height: 1.2em;}#sk-container-id-8 div.sk-label-container {text-align: center;}#sk-container-id-8 div.sk-container {/* jupyter's `normalize.less` sets `[hidden] { display: none; }` but bootstrap.min.css set `[hidden] { display: none !important; }` so we also need the `!important` here to be able to override the default hidden behavior on the sphinx rendered scikit-learn.org. See: https://github.com/scikit-learn/scikit-learn/issues/21755 */display: inline-block !important;position: relative;}#sk-container-id-8 div.sk-text-repr-fallback {display: none;}</style><div id=\"sk-container-id-8\" class=\"sk-top-container\"><div class=\"sk-text-repr-fallback\"><pre>KerasClassifier(\n",
       "\tmodel=&lt;function build_model at 0x000001D606E57130&gt;\n",
       "\tbuild_fn=None\n",
       "\twarm_start=False\n",
       "\trandom_state=None\n",
       "\toptimizer=Adagrad\n",
       "\tloss=None\n",
       "\tmetrics=None\n",
       "\tbatch_size=32\n",
       "\tvalidation_batch_size=None\n",
       "\tverbose=1\n",
       "\tcallbacks=None\n",
       "\tvalidation_split=0.3\n",
       "\tshuffle=True\n",
       "\trun_eagerly=False\n",
       "\tepochs=20\n",
       "\tclass_weight=None\n",
       ")</pre><b>In a Jupyter environment, please rerun this cell to show the HTML representation or trust the notebook. <br />On GitHub, the HTML representation is unable to render, please try loading this page with nbviewer.org.</b></div><div class=\"sk-container\" hidden><div class=\"sk-item\"><div class=\"sk-estimator sk-toggleable\"><input class=\"sk-toggleable__control sk-hidden--visually\" id=\"sk-estimator-id-16\" type=\"checkbox\" checked><label for=\"sk-estimator-id-16\" class=\"sk-toggleable__label sk-toggleable__label-arrow\">KerasClassifier</label><div class=\"sk-toggleable__content\"><pre>KerasClassifier(\n",
       "\tmodel=&lt;function build_model at 0x000001D606E57130&gt;\n",
       "\tbuild_fn=None\n",
       "\twarm_start=False\n",
       "\trandom_state=None\n",
       "\toptimizer=Adagrad\n",
       "\tloss=None\n",
       "\tmetrics=None\n",
       "\tbatch_size=32\n",
       "\tvalidation_batch_size=None\n",
       "\tverbose=1\n",
       "\tcallbacks=None\n",
       "\tvalidation_split=0.3\n",
       "\tshuffle=True\n",
       "\trun_eagerly=False\n",
       "\tepochs=20\n",
       "\tclass_weight=None\n",
       ")</pre></div></div></div></div></div>"
      ],
      "text/plain": [
       "KerasClassifier(\n",
       "\tmodel=<function build_model at 0x000001D606E57130>\n",
       "\tbuild_fn=None\n",
       "\twarm_start=False\n",
       "\trandom_state=None\n",
       "\toptimizer=Adagrad\n",
       "\tloss=None\n",
       "\tmetrics=None\n",
       "\tbatch_size=32\n",
       "\tvalidation_batch_size=None\n",
       "\tverbose=1\n",
       "\tcallbacks=None\n",
       "\tvalidation_split=0.3\n",
       "\tshuffle=True\n",
       "\trun_eagerly=False\n",
       "\tepochs=20\n",
       "\tclass_weight=None\n",
       ")"
      ]
     },
     "execution_count": 150,
     "metadata": {},
     "output_type": "execute_result"
    }
   ],
   "source": [
    "#best_mlp_model.fit(X_train, y_train, epochs = 20, validation_data = (X_test, y_test), verbose = 1)"
   ]
  },
  {
   "cell_type": "code",
   "execution_count": 155,
   "metadata": {},
   "outputs": [
    {
     "data": {
      "image/png": "[encoded data removed]",
      "text/plain": [
       "<Figure size 640x480 with 1 Axes>"
      ]
     },
     "metadata": {},
     "output_type": "display_data"
    }
   ],
   "source": [
    "#plt.plot(best_mlp_model.history_['loss'])\n",
    "#plt.plot(best_mlp_model.history_['val_loss'])\n",
    "#plt.title('Model Performance')\n",
    "#plt.ylabel('Loss values')\n",
    "#plt.xlabel('Epochs')\n",
    "#plt.legend(['train', 'val'], loc='upper left')\n",
    "#plt.show()"
   ]
  },
  {
   "cell_type": "code",
   "execution_count": 152,
   "metadata": {},
   "outputs": [
    {
     "name": "stdout",
     "output_type": "stream",
     "text": [
      "2055/2055 [==============================] - 2s 782us/step\n"
     ]
    }
   ],
   "source": [
    "predictions = best_mlp_model.predict(X_test)"
   ]
  },
  {
   "cell_type": "code",
   "execution_count": 153,
   "metadata": {},
   "outputs": [
    {
     "name": "stdout",
     "output_type": "stream",
     "text": [
      "              precision    recall  f1-score   support\n",
      "\n",
      "           0       0.50      1.00      0.67     32991\n",
      "           1       0.00      0.00      0.00     32761\n",
      "\n",
      "    accuracy                           0.50     65752\n",
      "   macro avg       0.25      0.50      0.33     65752\n",
      "weighted avg       0.25      0.50      0.34     65752\n",
      "\n"
     ]
    },
    {
     "name": "stderr",
     "output_type": "stream",
     "text": [
      "c:\\Users\\gui\\anaconda3\\envs\\DAA\\lib\\site-packages\\sklearn\\metrics\\_classification.py:1469: UndefinedMetricWarning: Precision and F-score are ill-defined and being set to 0.0 in labels with no predicted samples. Use `zero_division` parameter to control this behavior.\n",
      "  _warn_prf(average, modifier, msg_start, len(result))\n",
      "c:\\Users\\gui\\anaconda3\\envs\\DAA\\lib\\site-packages\\sklearn\\metrics\\_classification.py:1469: UndefinedMetricWarning: Precision and F-score are ill-defined and being set to 0.0 in labels with no predicted samples. Use `zero_division` parameter to control this behavior.\n",
      "  _warn_prf(average, modifier, msg_start, len(result))\n",
      "c:\\Users\\gui\\anaconda3\\envs\\DAA\\lib\\site-packages\\sklearn\\metrics\\_classification.py:1469: UndefinedMetricWarning: Precision and F-score are ill-defined and being set to 0.0 in labels with no predicted samples. Use `zero_division` parameter to control this behavior.\n",
      "  _warn_prf(average, modifier, msg_start, len(result))\n"
     ]
    }
   ],
   "source": [
    "print(classification_report(y_test,predictions))"
   ]
  },
  {
   "cell_type": "code",
   "execution_count": 154,
   "metadata": {},
   "outputs": [
    {
     "data": {
      "image/png": "[encoded data removed]",
      "text/plain": [
       "<Figure size 640x480 with 2 Axes>"
      ]
     },
     "metadata": {},
     "output_type": "display_data"
    }
   ],
   "source": [
    "ConfusionMatrixDisplay.from_predictions(y_test, predictions)\n",
    "plt.show()"
   ]
  }
 ],
 "metadata": {
  "kernelspec": {
   "display_name": "daa310",
   "language": "python",
   "name": "python3"
  },
  "language_info": {
   "codemirror_mode": {
    "name": "ipython",
    "version": 3
   },
   "file_extension": ".py",
   "mimetype": "text/x-python",
   "name": "python",
   "nbconvert_exporter": "python",
   "pygments_lexer": "ipython3",
   "version": "3.10.13"
  }
 },
 "nbformat": 4,
 "nbformat_minor": 2
}
