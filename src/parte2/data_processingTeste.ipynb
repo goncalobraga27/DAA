{
 "cells": [
  {
   "cell_type": "markdown",
   "metadata": {},
   "source": [
    "# Processamento dos dados existentes no dataset global "
   ]
  },
  {
   "cell_type": "markdown",
   "metadata": {},
   "source": [
    "### Imports das bibliotecas necessárias para o processamento de dados  "
   ]
  },
  {
   "cell_type": "code",
   "execution_count": 87,
   "metadata": {},
   "outputs": [],
   "source": [
    "import matplotlib.pyplot as plt\n",
    "import pandas as pd\n",
    "import numpy as np\n",
    "from sklearn.preprocessing import LabelEncoder"
   ]
  },
  {
   "cell_type": "markdown",
   "metadata": {},
   "source": [
    "### Leitura dos dados existentes no dataset global "
   ]
  },
  {
   "cell_type": "code",
   "execution_count": 88,
   "metadata": {},
   "outputs": [],
   "source": [
    "df = pd.read_csv(\"../../datasets/parte2/teste/datasetGlobal.csv\")"
   ]
  },
  {
   "cell_type": "markdown",
   "metadata": {},
   "source": [
    "### Visualização dos valores da coluna city_name "
   ]
  },
  {
   "cell_type": "code",
   "execution_count": 89,
   "metadata": {},
   "outputs": [
    {
     "name": "stdout",
     "output_type": "stream",
     "text": [
      "['local' nan]\n"
     ]
    }
   ],
   "source": [
    "valoresDiferentes = df['city_name'].unique()\n",
    "print(valoresDiferentes)"
   ]
  },
  {
   "cell_type": "markdown",
   "metadata": {},
   "source": [
    "### Como os valores da coluna city_name são sempre os mesmos, podem ser eliminados "
   ]
  },
  {
   "cell_type": "code",
   "execution_count": 90,
   "metadata": {},
   "outputs": [],
   "source": [
    "df = df.drop('city_name',axis= 1)"
   ]
  },
  {
   "cell_type": "markdown",
   "metadata": {},
   "source": [
    "### Criação do label encoding para codificarmos a coluna weather_description"
   ]
  },
  {
   "cell_type": "code",
   "execution_count": 91,
   "metadata": {},
   "outputs": [],
   "source": [
    "label_encoder = LabelEncoder()\n",
    "df['weather_description_encoded'] = label_encoder.fit_transform(df['weather_description'])\n",
    "df = df.drop('weather_description', axis = 1)\n",
    "df = df.drop('Data', axis = 1)"
   ]
  },
  {
   "cell_type": "markdown",
   "metadata": {},
   "source": [
    "### Tratamento dos missing values"
   ]
  },
  {
   "cell_type": "code",
   "execution_count": 92,
   "metadata": {},
   "outputs": [
    {
     "name": "stdout",
     "output_type": "stream",
     "text": [
      "temp                           0\n",
      "feels_like                     0\n",
      "temp_min                       0\n",
      "temp_max                       0\n",
      "pressure                       0\n",
      "humidity                       0\n",
      "wind_speed                     0\n",
      "rain_1h                        0\n",
      "clouds_all                     0\n",
      "Hora                           0\n",
      "Normal (kWh)                   0\n",
      "Horário Económico (kWh)        0\n",
      "Autoconsumo (kWh)              0\n",
      "weather_description_encoded    0\n",
      "dtype: int64\n"
     ]
    }
   ],
   "source": [
    "\n",
    "\n",
    "df = df.drop('sea_level', axis = 1)\n",
    "df = df.drop('grnd_level', axis = 1)\n",
    "df = df.drop('dt',axis = 1)\n",
    "\n",
    "df['rain_1h'] = df['rain_1h'].replace('', np.nan)\n",
    "df['rain_1h'] = df['rain_1h'].astype(float)\n",
    "mediana_Rain_1h = df['rain_1h'].median()\n",
    "df['rain_1h'].fillna(mediana_Rain_1h, inplace=True)\n",
    "\n",
    "mediana_Temp = df['temp'].median()\n",
    "df['temp'].fillna(mediana_Temp, inplace=True)\n",
    "\n",
    "mediana_feels_like = df['feels_like'].median()\n",
    "df['feels_like'].fillna(mediana_feels_like, inplace=True)\n",
    "\n",
    "mediana_temp_min = df['temp_min'].median()\n",
    "df['temp_min'].fillna(mediana_temp_min, inplace=True)\n",
    "\n",
    "mediana_temp_max = df['temp_max'].median()\n",
    "df['temp_max'].fillna(mediana_temp_max, inplace=True)\n",
    "\n",
    "mediana_pressure = df['pressure'].median()\n",
    "df['pressure'].fillna(mediana_pressure, inplace=True)\n",
    "\n",
    "mediana_humidity = df['humidity'].median()\n",
    "df['humidity'].fillna(mediana_humidity, inplace=True)\n",
    "\n",
    "mediana_wind_speed = df['wind_speed'].median()\n",
    "df['wind_speed'].fillna(mediana_wind_speed, inplace=True)\n",
    "\n",
    "mediana_clouds_all = df['clouds_all'].median()\n",
    "df['clouds_all'].fillna(mediana_clouds_all, inplace=True)\n",
    "\n",
    "print(df.isna().sum()) \n"
   ]
  },
  {
   "cell_type": "markdown",
   "metadata": {},
   "source": [
    "### Escrita do dataset processado num ficheiro csv "
   ]
  },
  {
   "cell_type": "code",
   "execution_count": 93,
   "metadata": {},
   "outputs": [],
   "source": [
    "df.to_csv('../../datasets/parte2/teste/datasetGlobal.csv', index=False)"
   ]
  }
 ],
 "metadata": {
  "kernelspec": {
   "display_name": "daa310",
   "language": "python",
   "name": "python3"
  },
  "language_info": {
   "codemirror_mode": {
    "name": "ipython",
    "version": 3
   },
   "file_extension": ".py",
   "mimetype": "text/x-python",
   "name": "python",
   "nbconvert_exporter": "python",
   "pygments_lexer": "ipython3",
   "version": "3.10.13"
  }
 },
 "nbformat": 4,
 "nbformat_minor": 2
}
