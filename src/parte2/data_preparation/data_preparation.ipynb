{
 "cells": [
  {
   "cell_type": "markdown",
   "metadata": {},
   "source": [
    "## Import libraries"
   ]
  },
  {
   "cell_type": "code",
   "execution_count": null,
   "metadata": {},
   "outputs": [],
   "source": [
    "import matplotlib.pyplot as plt\n",
    "import pandas as pd\n",
    "import seaborn as sns\n",
    "from sklearn.preprocessing import LabelBinarizer"
   ]
  },
  {
   "cell_type": "markdown",
   "metadata": {},
   "source": [
    "## Get the data"
   ]
  },
  {
   "cell_type": "code",
   "execution_count": null,
   "metadata": {},
   "outputs": [],
   "source": [
    "df = pd.read_csv(\"../../../datasets/parte2/test.csv\")"
   ]
  },
  {
   "cell_type": "markdown",
   "metadata": {},
   "source": [
    "## Feature engineering"
   ]
  },
  {
   "cell_type": "markdown",
   "metadata": {},
   "source": [
    "#### Split date"
   ]
  },
  {
   "cell_type": "code",
   "execution_count": null,
   "metadata": {},
   "outputs": [],
   "source": [
    "df['Data'] = pd.to_datetime(df['Data'], format=\"%Y-%m-%d\", utc=True)\n",
    "df['Ano'] = df['Data'].dt.year\n",
    "df['Mês'] = df['Data'].dt.month\n",
    "df['Dia'] = df['Data'].dt.day\n",
    "df.drop(['Data'], inplace=True, axis=1)\n",
    "\n",
    "df.head()"
   ]
  },
  {
   "cell_type": "markdown",
   "metadata": {},
   "source": [
    "#### Remove city_name"
   ]
  },
  {
   "cell_type": "code",
   "execution_count": null,
   "metadata": {},
   "outputs": [],
   "source": [
    "df.drop('city_name', axis=1, inplace=True)\n",
    "\n",
    "df.head()"
   ]
  },
  {
   "cell_type": "markdown",
   "metadata": {},
   "source": [
    "#### Remove day, month, year and hour"
   ]
  },
  {
   "cell_type": "code",
   "execution_count": null,
   "metadata": {},
   "outputs": [],
   "source": [
    "df.drop('Dia', axis=1, inplace=True)\n",
    "df.drop('Mês', axis=1, inplace=True)\n",
    "df.drop('Ano', axis=1, inplace=True)\n",
    "\n",
    "df.head()"
   ]
  },
  {
   "cell_type": "markdown",
   "metadata": {},
   "source": [
    "#### Remove dt and dt_iso"
   ]
  },
  {
   "cell_type": "code",
   "execution_count": null,
   "metadata": {},
   "outputs": [],
   "source": [
    "df.drop('dt', axis=1, inplace=True)\n",
    "df.drop('dt_iso', axis=1, inplace=True)\n",
    "\n",
    "\n",
    "df.head()"
   ]
  },
  {
   "cell_type": "markdown",
   "metadata": {},
   "source": [
    "#### Remove direct_radiation"
   ]
  },
  {
   "cell_type": "code",
   "execution_count": null,
   "metadata": {},
   "outputs": [],
   "source": [
    "#df.drop('direct_radiation', axis=1, inplace=True)\n",
    "df.drop('direct_radiation_instant', axis=1, inplace=True)\n",
    "#df.drop('shortwave_radiation', axis=1, inplace=True)\n",
    "df.drop('shortwave_radiation_instant', axis=1, inplace=True)\n",
    "#df.drop('diffuse_radiation', axis=1, inplace=True)\n",
    "df.drop('diffuse_radiation_instant', axis=1, inplace=True)\n",
    "#df.drop('direct_normal_irradiance', axis=1, inplace=True)\n",
    "df.drop('direct_normal_irradiance_instant', axis=1, inplace=True)\n",
    "#df.drop('terrestrial_radiation', axis=1, inplace=True)\n",
    "df.drop('terrestrial_radiation_instant', axis=1, inplace=True)"
   ]
  },
  {
   "cell_type": "markdown",
   "metadata": {},
   "source": [
    "#### Remove feels_like, temp_min, temp_max"
   ]
  },
  {
   "cell_type": "code",
   "execution_count": null,
   "metadata": {},
   "outputs": [],
   "source": [
    "df.drop(['feels_like', 'temp_min', 'temp_max'], axis=1, inplace=True)"
   ]
  },
  {
   "cell_type": "markdown",
   "metadata": {},
   "source": [
    "## One Hot Encoding"
   ]
  },
  {
   "cell_type": "code",
   "execution_count": null,
   "metadata": {},
   "outputs": [],
   "source": [
    "#LABEL ENCODING\n",
    "replace_map = {'heavy intensity rain': 0, 'moderate rain': 1, 'few clouds': 2, 'scattered clouds': 3, 'broken clouds': 4,'light rain': 5,'overcast clouds': 6,'sky is clear': 7, 'clear sky': 7}\n",
    "#\n",
    "df['weather_description'] = df['weather_description'].replace(replace_map).astype(int)\n",
    "\n",
    "# ONEHOT\n",
    "#lb = LabelBinarizer()\n",
    "\n",
    "#lb_results = lb.fit_transform(df['weather_description'])\n",
    "\n",
    "#lb_results_df = pd.DataFrame(lb_results, columns=lb.classes_)\n",
    "\n",
    "#df = pd.concat([df, lb_results_df], axis=1)\n",
    "\n",
    "#df.drop('weather_description', axis=1, inplace=True)\n",
    "\n",
    "# BINARY ENCODING\n",
    "#encoder = ce.BinaryEncoder(cols=['weather_description'])\n",
    "#\n",
    "#df = encoder.fit_transform(df)"
   ]
  },
  {
   "cell_type": "markdown",
   "metadata": {},
   "source": [
    "## Missing Values"
   ]
  },
  {
   "cell_type": "markdown",
   "metadata": {},
   "source": [
    "#### Remove sea_level, grnd_level and rain_1h"
   ]
  },
  {
   "cell_type": "code",
   "execution_count": null,
   "metadata": {},
   "outputs": [],
   "source": [
    "df.drop('sea_level', axis=1, inplace=True)\n",
    "df.drop('grnd_level', axis=1, inplace=True)\n",
    "df.drop('rain_1h', axis=1, inplace=True) # experimentar a media"
   ]
  },
  {
   "cell_type": "code",
   "execution_count": null,
   "metadata": {},
   "outputs": [],
   "source": [
    "print(df.isna().sum())"
   ]
  },
  {
   "cell_type": "markdown",
   "metadata": {},
   "source": [
    "## Write new csv"
   ]
  },
  {
   "cell_type": "code",
   "execution_count": null,
   "metadata": {},
   "outputs": [],
   "source": [
    "if 'Injeção na rede (kWh)' in df:\n",
    "    df['Injeção na rede (kWh)'] = df['Injeção na rede (kWh)'].fillna(\"None\")"
   ]
  },
  {
   "cell_type": "code",
   "execution_count": null,
   "metadata": {},
   "outputs": [],
   "source": [
    "df.head()"
   ]
  },
  {
   "cell_type": "code",
   "execution_count": null,
   "metadata": {},
   "outputs": [],
   "source": [
    "df.to_csv('../../../datasets/parte2/test_prepared.csv', index=False)"
   ]
  }
 ],
 "metadata": {
  "kernelspec": {
   "display_name": "Python 3.10.12 ('DAA')",
   "language": "python",
   "name": "python3"
  },
  "language_info": {
   "codemirror_mode": {
    "name": "ipython",
    "version": 3
   },
   "file_extension": ".py",
   "mimetype": "text/x-python",
   "name": "python",
   "nbconvert_exporter": "python",
   "pygments_lexer": "ipython3",
   "version": "3.10.12"
  },
  "orig_nbformat": 4,
  "vscode": {
   "interpreter": {
    "hash": "2881258984ef4296f480ce95a73330c4b38b111f7430204a8daff0049aee1dfe"
   }
  }
 },
 "nbformat": 4,
 "nbformat_minor": 2
}
