{
 "cells": [
  {
   "cell_type": "markdown",
   "metadata": {},
   "source": []
  },
  {
   "cell_type": "code",
   "execution_count": null,
   "metadata": {},
   "outputs": [],
   "source": [
    "import matplotlib.pyplot as plt\n",
    "import pandas as pd\n",
    "import numpy as np\n",
    "import seaborn as sns\n",
    "from scipy.stats import spearmanr\n",
    "%matplotlib inline"
   ]
  },
  {
   "cell_type": "markdown",
   "metadata": {},
   "source": [
    "## Get the data"
   ]
  },
  {
   "cell_type": "code",
   "execution_count": null,
   "metadata": {},
   "outputs": [],
   "source": [
    "df = pd.read_csv('../../../datasets/parte1/dataset_cleaned.csv')"
   ]
  },
  {
   "cell_type": "markdown",
   "metadata": {},
   "source": []
  },
  {
   "cell_type": "code",
   "execution_count": null,
   "metadata": {},
   "outputs": [],
   "source": [
    "df.columns\n",
    "df.shape"
   ]
  },
  {
   "cell_type": "code",
   "execution_count": null,
   "metadata": {},
   "outputs": [],
   "source": [
    "print(df.info())"
   ]
  },
  {
   "cell_type": "code",
   "execution_count": null,
   "metadata": {},
   "outputs": [],
   "source": [
    "for column in df.select_dtypes(include=['object']).columns:\n",
    "    unique_values_count = df[column].value_counts()\n",
    "    print(f\"Column: {column}\\n{unique_values_count}\\n\")"
   ]
  },
  {
   "cell_type": "code",
   "execution_count": null,
   "metadata": {},
   "outputs": [],
   "source": [
    "print(df.describe())"
   ]
  },
  {
   "cell_type": "code",
   "execution_count": null,
   "metadata": {},
   "outputs": [],
   "source": [
    "print(df.isna().sum())"
   ]
  },
  {
   "cell_type": "code",
   "execution_count": null,
   "metadata": {},
   "outputs": [],
   "source": [
    "fig, axs = plt.subplots(4, 4, figsize=(12, 15))\n",
    "fig.suptitle(\"Histograms\")\n",
    "\n",
    "sns.histplot(df[\"MinTemp\"], ax=axs[0,0], kde=True)\n",
    "sns.histplot(df[\"MaxTemp\"], ax=axs[0,1], kde=True)\n",
    "sns.histplot(df[\"Rainfall\"], ax=axs[0,2], kde=True)\n",
    "sns.histplot(df[\"Evaporation\"], ax=axs[0,3], kde=True)\n",
    "sns.histplot(df[\"Sunshine\"], ax=axs[1,0], kde=True)\n",
    "sns.histplot(df[\"WindGustSpeed\"], ax=axs[1,1], kde=True)\n",
    "sns.histplot(df[\"WindSpeed9am\"], ax=axs[1,2], kde=True)\n",
    "sns.histplot(df[\"WindSpeed3pm\"], ax=axs[1,3], kde=True)\n",
    "sns.histplot(df[\"Humidity9am\"], ax=axs[2,0], kde=True)\n",
    "sns.histplot(df[\"Humidity3pm\"], ax=axs[2,1], kde=True)\n",
    "sns.histplot(df[\"Pressure9am\"], ax=axs[2,2], kde=True)\n",
    "sns.histplot(df[\"Pressure3pm\"], ax=axs[2,3], kde=True)\n",
    "sns.histplot(df[\"Cloud9am\"], ax=axs[3,0], kde=True)\n",
    "sns.histplot(df[\"Cloud3pm\"], ax=axs[3,1], kde=True)\n",
    "sns.histplot(df[\"Temp9am\"], ax=axs[3,2], kde=True)\n",
    "sns.histplot(df[\"Temp3pm\"], ax=axs[3,3], kde=True)"
   ]
  },
  {
   "cell_type": "code",
   "execution_count": null,
   "metadata": {},
   "outputs": [],
   "source": [
    "fig = plt.figure(figsize=(20, 20))\n",
    "corr = df.corr(method='pearson', numeric_only=True)\n",
    "sns.heatmap(corr, linecolor='black', linewidths=0.5, annot=True)"
   ]
  },
  {
   "cell_type": "code",
   "execution_count": null,
   "metadata": {},
   "outputs": [],
   "source": [
    "fig = plt.figure(figsize=(20, 20))\n",
    "corr = df.corr(method='spearman', numeric_only=True)\n",
    "sns.heatmap(corr, linecolor='black', linewidths=0.5, annot=True)"
   ]
  },
  {
   "cell_type": "code",
   "execution_count": null,
   "metadata": {},
   "outputs": [],
   "source": [
    "raintomorrow_count = df['RainTomorrow'].value_counts()\n",
    "sns.set_style('darkgrid')\n",
    "sns.barplot(x=raintomorrow_count.index, y=raintomorrow_count.values)\n",
    "plt.title('Frequency Distribution of RainTomorrow')\n",
    "plt.ylabel('Number of Occurrences', fontsize=12)\n",
    "plt.xlabel('RainTomorrow', fontsize=12)\n",
    "plt.show()"
   ]
  },
  {
   "cell_type": "code",
   "execution_count": null,
   "metadata": {},
   "outputs": [],
   "source": [
    "fig, axs = plt.subplots(4, 4, figsize=(15, 15))\n",
    "fig.suptitle(\"Boxplots\")\n",
    "\n",
    "sns.boxplot(y=df[\"MinTemp\"], ax=axs[0,0])\n",
    "sns.boxplot(y=df[\"MaxTemp\"], ax=axs[0,1])\n",
    "sns.boxplot(y=df[\"Rainfall\"], ax=axs[0,2])\n",
    "sns.boxplot(y=df[\"Evaporation\"], ax=axs[0,3])\n",
    "sns.boxplot(y=df[\"Sunshine\"], ax=axs[1,0])\n",
    "sns.boxplot(y=df[\"WindGustSpeed\"], ax=axs[1,1])\n",
    "sns.boxplot(y=df[\"WindSpeed9am\"], ax=axs[1,2])\n",
    "sns.boxplot(y=df[\"WindSpeed3pm\"], ax=axs[1,3])\n",
    "sns.boxplot(y=df[\"Humidity9am\"], ax=axs[2,0])\n",
    "sns.boxplot(y=df[\"Humidity3pm\"], ax=axs[2,1])\n",
    "sns.boxplot(y=df[\"Pressure9am\"], ax=axs[2,2])\n",
    "sns.boxplot(y=df[\"Pressure3pm\"], ax=axs[2,3])\n",
    "sns.boxplot(y=df[\"Cloud9am\"], ax=axs[3,0])\n",
    "sns.boxplot(y=df[\"Cloud3pm\"], ax=axs[3,1])\n",
    "sns.boxplot(y=df[\"Temp9am\"], ax=axs[3,2])\n",
    "sns.boxplot(y=df[\"Temp3pm\"], ax=axs[3,3])"
   ]
  }
 ],
 "metadata": {
  "kernelspec": {
   "display_name": "Python 3.10.12 ('DAA')",
   "language": "python",
   "name": "python3"
  },
  "language_info": {
   "codemirror_mode": {
    "name": "ipython",
    "version": 3
   },
   "file_extension": ".py",
   "mimetype": "text/x-python",
   "name": "python",
   "nbconvert_exporter": "python",
   "pygments_lexer": "ipython3",
   "version": "3.10.13"
  },
  "orig_nbformat": 4,
  "vscode": {
   "interpreter": {
    "hash": "2881258984ef4296f480ce95a73330c4b38b111f7430204a8daff0049aee1dfe"
   }
  }
 },
 "nbformat": 4,
 "nbformat_minor": 2
}
