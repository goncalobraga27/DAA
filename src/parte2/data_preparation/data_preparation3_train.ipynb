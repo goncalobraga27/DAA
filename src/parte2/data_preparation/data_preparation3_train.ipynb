{
 "cells": [
  {
   "cell_type": "markdown",
   "metadata": {},
   "source": [
    "# Datasets preparation"
   ]
  },
  {
   "cell_type": "markdown",
   "metadata": {},
   "source": [
    "## Energy datasets"
   ]
  },
  {
   "cell_type": "markdown",
   "metadata": {},
   "source": [
    "#### Import libraries"
   ]
  },
  {
   "cell_type": "code",
   "execution_count": 13,
   "metadata": {},
   "outputs": [],
   "source": [
    "import matplotlib.pyplot as plt\n",
    "import pandas as pd\n",
    "import numpy as np"
   ]
  },
  {
   "cell_type": "markdown",
   "metadata": {},
   "source": [
    "#### Read data"
   ]
  },
  {
   "cell_type": "code",
   "execution_count": 14,
   "metadata": {},
   "outputs": [],
   "source": [
    "df_energy1 = pd.read_csv(\"../../../datasets/parte2/treino/energia_202109-202112.csv\", na_filter=False)\n",
    "df_energy2 = pd.read_csv(\"../../../datasets/parte2/treino/energia_202201-202212.csv\", na_filter=False)"
   ]
  },
  {
   "cell_type": "markdown",
   "metadata": {},
   "source": [
    "#### Concatenate datasets"
   ]
  },
  {
   "cell_type": "code",
   "execution_count": 15,
   "metadata": {},
   "outputs": [],
   "source": [
    "df_energy = pd.concat([df_energy1, df_energy2])"
   ]
  },
  {
   "cell_type": "markdown",
   "metadata": {},
   "source": [
    "#### 'Hora' column to int"
   ]
  },
  {
   "cell_type": "code",
   "execution_count": 16,
   "metadata": {},
   "outputs": [],
   "source": [
    "df_energy['Hora'] = df_energy['Hora'].astype(int)"
   ]
  },
  {
   "cell_type": "markdown",
   "metadata": {},
   "source": [
    "#### Types Visualization"
   ]
  },
  {
   "cell_type": "code",
   "execution_count": 17,
   "metadata": {},
   "outputs": [
    {
     "data": {
      "text/plain": [
       "Data                        object\n",
       "Hora                         int64\n",
       "Normal (kWh)               float64\n",
       "Horário Económico (kWh)    float64\n",
       "Autoconsumo (kWh)          float64\n",
       "Injeção na rede (kWh)       object\n",
       "dtype: object"
      ]
     },
     "execution_count": 17,
     "metadata": {},
     "output_type": "execute_result"
    }
   ],
   "source": [
    "df_energy.dtypes"
   ]
  },
  {
   "cell_type": "markdown",
   "metadata": {},
   "source": [
    "## Meteo datasets"
   ]
  },
  {
   "cell_type": "markdown",
   "metadata": {},
   "source": [
    "#### Read data"
   ]
  },
  {
   "cell_type": "code",
   "execution_count": 18,
   "metadata": {},
   "outputs": [],
   "source": [
    "df_meteo1 = pd.read_csv(\"../../../datasets/parte2/treino/meteo_202109-202112.csv\", na_filter=False)\n",
    "df_meteo2 = pd.read_csv(\"../../../datasets/parte2/treino/meteo_202201-202212.csv\", na_filter=False)"
   ]
  },
  {
   "cell_type": "markdown",
   "metadata": {},
   "source": [
    "#### Concatenate datasets"
   ]
  },
  {
   "cell_type": "code",
   "execution_count": 19,
   "metadata": {},
   "outputs": [],
   "source": [
    "df_meteo = pd.concat([df_meteo1, df_meteo2])"
   ]
  },
  {
   "cell_type": "markdown",
   "metadata": {},
   "source": [
    "#### Types Visualization"
   ]
  },
  {
   "cell_type": "code",
   "execution_count": 20,
   "metadata": {},
   "outputs": [
    {
     "data": {
      "text/plain": [
       "dt                       int64\n",
       "dt_iso                  object\n",
       "city_name               object\n",
       "temp                   float64\n",
       "feels_like             float64\n",
       "temp_min               float64\n",
       "temp_max               float64\n",
       "pressure                 int64\n",
       "sea_level               object\n",
       "grnd_level              object\n",
       "humidity                 int64\n",
       "wind_speed             float64\n",
       "rain_1h                 object\n",
       "clouds_all               int64\n",
       "weather_description     object\n",
       "dtype: object"
      ]
     },
     "execution_count": 20,
     "metadata": {},
     "output_type": "execute_result"
    }
   ],
   "source": [
    "df_meteo.dtypes"
   ]
  },
  {
   "cell_type": "markdown",
   "metadata": {},
   "source": [
    "#### Transforming 'dt_iso' column to 'Date' and 'Hora' columns"
   ]
  },
  {
   "cell_type": "code",
   "execution_count": 21,
   "metadata": {},
   "outputs": [],
   "source": [
    "df_meteo['dt_iso'] = pd.to_datetime(df_meteo['dt_iso'].str.replace(' UTC', ''), format='%Y-%m-%d %H:%M:%S %z')\n",
    "df_meteo['Data'] = df_meteo['dt_iso'].dt.strftime('%Y-%m-%d')\n",
    "df_meteo['Hora'] = df_meteo['dt_iso'].dt.strftime('%H')\n",
    "df_meteo['Hora'] = df_meteo['Hora'].astype(int)"
   ]
  },
  {
   "cell_type": "markdown",
   "metadata": {},
   "source": [
    "#### Drop 'dt_iso' column"
   ]
  },
  {
   "cell_type": "code",
   "execution_count": 22,
   "metadata": {},
   "outputs": [],
   "source": [
    "df_meteo = df_meteo.drop('dt_iso',axis = 1)"
   ]
  },
  {
   "cell_type": "markdown",
   "metadata": {},
   "source": [
    "## Merge datasets by 'Data' and 'Hora' columns"
   ]
  },
  {
   "cell_type": "code",
   "execution_count": 23,
   "metadata": {},
   "outputs": [],
   "source": [
    "df = pd.merge(df_meteo, df_energy, on=['Data','Hora'], how='inner')"
   ]
  },
  {
   "cell_type": "markdown",
   "metadata": {},
   "source": [
    "## Columns renaming"
   ]
  },
  {
   "cell_type": "code",
   "execution_count": 24,
   "metadata": {},
   "outputs": [],
   "source": [
    "df.rename(columns={'Data':'date', 'Hora':'hour', 'Normal (kWh)':'normal', 'Horário Económico (kWh)':'economic_schedule', 'Autoconsumo (kWh)':'self-consumption', 'Injeção na rede (kWh)':'injection'}, inplace=True)"
   ]
  },
  {
   "cell_type": "markdown",
   "metadata": {},
   "source": [
    "## Write new csv\n"
   ]
  },
  {
   "cell_type": "code",
   "execution_count": 25,
   "metadata": {},
   "outputs": [],
   "source": [
    "df.to_csv('../../../datasets/parte2/treino/dataset.csv', index=False)"
   ]
  }
 ],
 "metadata": {
  "kernelspec": {
   "display_name": "Python 3.10.0",
   "language": "python",
   "name": "python3"
  },
  "language_info": {
   "codemirror_mode": {
    "name": "ipython",
    "version": 3
   },
   "file_extension": ".py",
   "mimetype": "text/x-python",
   "name": "python",
   "nbconvert_exporter": "python",
   "pygments_lexer": "ipython3",
   "version": "3.10.13"
  },
  "vscode": {
   "interpreter": {
    "hash": "05bf81565941e196ff239f0f6243feac6bca6bf2a9fca4b4e0c8268152d63bce"
   }
  }
 },
 "nbformat": 4,
 "nbformat_minor": 2
}
