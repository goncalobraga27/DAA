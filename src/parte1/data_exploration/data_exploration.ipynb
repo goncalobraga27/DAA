{
 "cells": [
  {
   "cell_type": "markdown",
   "metadata": {},
   "source": []
  },
  {
   "cell_type": "code",
   "execution_count": null,
   "metadata": {},
   "outputs": [],
   "source": [
    "import matplotlib.pyplot as plt\n",
    "import pandas as pd\n",
    "import numpy as np\n",
    "import seaborn as sns\n",
    "from scipy.stats import spearmanr\n",
    "%matplotlib inline"
   ]
  },
  {
   "cell_type": "markdown",
   "metadata": {},
   "source": [
    "## Get the data"
   ]
  },
  {
   "cell_type": "code",
   "execution_count": null,
   "metadata": {},
   "outputs": [],
   "source": [
    "df = pd.read_csv('../../../datasets/parte1/weatherAUS.csv')"
   ]
  },
  {
   "cell_type": "markdown",
   "metadata": {},
   "source": []
  },
  {
   "cell_type": "code",
   "execution_count": null,
   "metadata": {},
   "outputs": [],
   "source": [
    "df.columns\n",
    "df.shape"
   ]
  },
  {
   "cell_type": "code",
   "execution_count": null,
   "metadata": {},
   "outputs": [],
   "source": [
    "print(df.info())"
   ]
  },
  {
   "cell_type": "code",
   "execution_count": null,
   "metadata": {},
   "outputs": [],
   "source": [
    "print(df[\"Location\"].unique())\n",
    "print(df[\"WindGustDir\"].unique())\n",
    "print(df[\"WindDir9am\"].unique())\n",
    "print(df[\"WindDir3pm\"].unique())\n",
    "print(df[\"RainToday\"].unique())\n",
    "print(df[\"RainTomorrow\"].unique())\n"
   ]
  },
  {
   "cell_type": "code",
   "execution_count": null,
   "metadata": {},
   "outputs": [],
   "source": [
    "print(df.describe())"
   ]
  },
  {
   "cell_type": "code",
   "execution_count": null,
   "metadata": {},
   "outputs": [],
   "source": [
    "print(df.isna().sum())"
   ]
  },
  {
   "cell_type": "code",
   "execution_count": null,
   "metadata": {},
   "outputs": [],
   "source": [
    "fig, axs = plt.subplots(4, 4, figsize=(12, 15))\n",
    "fig.suptitle(\"Histograms\")\n",
    "\n",
    "sns.histplot(df[\"MinTemp\"], ax=axs[0,0], kde=True)\n",
    "sns.histplot(df[\"MaxTemp\"], ax=axs[0,1], kde=True)\n",
    "sns.histplot(df[\"Rainfall\"], ax=axs[0,2], kde=True)\n",
    "sns.histplot(df[\"Evaporation\"], ax=axs[0,3], kde=True)\n",
    "sns.histplot(df[\"Sunshine\"], ax=axs[1,0], kde=True)\n",
    "sns.histplot(df[\"WindGustSpeed\"], ax=axs[1,1], kde=True)\n",
    "sns.histplot(df[\"WindSpeed9am\"], ax=axs[1,2], kde=True)\n",
    "sns.histplot(df[\"WindSpeed3pm\"], ax=axs[1,3], kde=True)\n",
    "sns.histplot(df[\"Humidity9am\"], ax=axs[2,0], kde=True)\n",
    "sns.histplot(df[\"Humidity3pm\"], ax=axs[2,1], kde=True)\n",
    "sns.histplot(df[\"Pressure9am\"], ax=axs[2,2], kde=True)\n",
    "sns.histplot(df[\"Pressure3pm\"], ax=axs[2,3], kde=True)\n",
    "sns.histplot(df[\"Cloud9am\"], ax=axs[3,0], kde=True)\n",
    "sns.histplot(df[\"Cloud3pm\"], ax=axs[3,1], kde=True)\n",
    "sns.histplot(df[\"Temp9am\"], ax=axs[3,2], kde=True)\n",
    "sns.histplot(df[\"Temp3pm\"], ax=axs[3,3], kde=True)"
   ]
  },
  {
   "cell_type": "code",
   "execution_count": null,
   "metadata": {},
   "outputs": [],
   "source": [
    "df_copy = df.copy()\n",
    "replace_map = {\"RainToday\": {\"Yes\": 1, \"No\": 0}}\n",
    "labels = df_copy[\"RainToday\"].astype('category').cat.categories.tolist()\n",
    "replace_map_comp = {'RainToday' : {k: v for k,v in zip(labels,list(range(1,len(labels)+1)))}}\n",
    "df_copy.replace(replace_map_comp, inplace=True)\n",
    "\n",
    "replace_map = {\"RainTomorrow\": {\"Yes\": 1, \"No\": 0}}\n",
    "labels = df_copy[\"RainTomorrow\"].astype('category').cat.categories.tolist()\n",
    "replace_map_comp = {'RainTomorrow' : {k: v for k,v in zip(labels,list(range(1,len(labels)+1)))}}\n",
    "df_copy.replace(replace_map_comp, inplace=True)"
   ]
  },
  {
   "cell_type": "code",
   "execution_count": null,
   "metadata": {},
   "outputs": [],
   "source": [
    "fig = plt.figure(figsize=(20, 20))\n",
    "satisfaction_corr = df_copy.corr(method='pearson', numeric_only=True)\n",
    "sns.heatmap(satisfaction_corr, linecolor='black', linewidths=0.5, annot=True)"
   ]
  },
  {
   "cell_type": "code",
   "execution_count": null,
   "metadata": {},
   "outputs": [],
   "source": [
    "raintomorrow_count = df['RainTomorrow'].value_counts()\n",
    "sns.set_style('darkgrid')\n",
    "sns.barplot(x=raintomorrow_count.index, y=raintomorrow_count.values)\n",
    "plt.title('Frequency Distribution of RainTomorrow')\n",
    "plt.ylabel('Number of Occurrences', fontsize=12)\n",
    "plt.xlabel('RainTomorrow', fontsize=12)\n",
    "plt.show()"
   ]
  },
  {
   "cell_type": "code",
   "execution_count": null,
   "metadata": {},
   "outputs": [],
   "source": [
    "raintoday_count = df['RainToday'].value_counts()\n",
    "sns.set_style('darkgrid')\n",
    "sns.barplot(x=raintoday_count.index, y=raintoday_count.values)\n",
    "plt.title('Frequency Distribution of RainToday')\n",
    "plt.ylabel('Number of Occurrences', fontsize=12)\n",
    "plt.xlabel('RainToday', fontsize=12)\n",
    "plt.show()"
   ]
  },
  {
   "cell_type": "code",
   "execution_count": null,
   "metadata": {},
   "outputs": [],
   "source": [
    "labels = df['RainTomorrow'].astype('category').cat.categories.tolist()\n",
    "counts = df['RainTomorrow'].value_counts()\n",
    "sizes = [counts[var_cat] for var_cat in labels]\n",
    "fig1, ax1 = plt.subplots()\n",
    "ax1.pie(sizes, labels=labels, autopct='%1.1f%%', shadow=True)\n",
    "ax1.axis('equal')\n",
    "plt.show()"
   ]
  },
  {
   "cell_type": "code",
   "execution_count": null,
   "metadata": {},
   "outputs": [],
   "source": [
    "labels = df['RainToday'].astype('category').cat.categories.tolist()\n",
    "counts = df['RainToday'].value_counts()\n",
    "sizes = [counts[var_cat] for var_cat in labels]\n",
    "fig1, ax1 = plt.subplots()\n",
    "ax1.pie(sizes, labels=labels, autopct='%1.1f%%', shadow=True)\n",
    "ax1.axis('equal')\n",
    "plt.show()"
   ]
  },
  {
   "cell_type": "code",
   "execution_count": null,
   "metadata": {},
   "outputs": [],
   "source": [
    "plt.figure(figsize=(8, 5))\n",
    "sns.scatterplot(x=df['Humidity9am'], y=df['Rainfall'], color=\"blue\", label='Humidity9am')\n",
    "sns.scatterplot(x=df['Humidity3pm'], y=df['Rainfall'], color=\"red\", label='Humidity3pm')\n",
    "plt.title(\"Comparison Humidity with Rain\")\n",
    "plt.xlabel('Humidity')\n",
    "plt.ylabel('Rain (mm)')\n",
    "plt.xticks(rotation=45)\n",
    "plt.legend(loc='best')\n",
    "plt.grid()\n",
    "plt.show()"
   ]
  },
  {
   "cell_type": "code",
   "execution_count": null,
   "metadata": {},
   "outputs": [],
   "source": [
    "plt.figure(figsize=(8, 5))\n",
    "sns.scatterplot(x=df['Temp9am'], y=df['Temp3pm'])\n",
    "plt.title(\"Temperature\")\n",
    "plt.xlabel('Temp9am')\n",
    "plt.ylabel('Temp3pm')\n",
    "plt.xticks(rotation=45)\n",
    "plt.grid()\n",
    "plt.show()"
   ]
  },
  {
   "cell_type": "code",
   "execution_count": null,
   "metadata": {},
   "outputs": [],
   "source": [
    "plt.figure(figsize=(8, 5))\n",
    "sns.scatterplot(x=df['Humidity9am'], y=df['Humidity3pm'])\n",
    "plt.title(\"Humidity\")\n",
    "plt.xlabel('Humidity9am')\n",
    "plt.ylabel('Humidity3pm')\n",
    "plt.xticks(rotation=45)\n",
    "plt.grid()\n",
    "plt.show()"
   ]
  },
  {
   "cell_type": "code",
   "execution_count": null,
   "metadata": {},
   "outputs": [],
   "source": [
    "plt.figure(figsize=(8, 5))\n",
    "sns.scatterplot(x=df['Pressure9am'], y=df['Pressure3pm'])\n",
    "plt.title(\"Pressure\")\n",
    "plt.xlabel('Pressure9am')\n",
    "plt.ylabel('Pressure3pm')\n",
    "plt.xticks(rotation=45)\n",
    "plt.grid()\n",
    "plt.show()"
   ]
  },
  {
   "cell_type": "code",
   "execution_count": null,
   "metadata": {},
   "outputs": [],
   "source": [
    "fig, axs = plt.subplots(4, 4, figsize=(15, 15))\n",
    "fig.suptitle(\"Boxplots\")\n",
    "\n",
    "sns.boxplot(y=df[\"MinTemp\"], ax=axs[0,0])\n",
    "sns.boxplot(y=df[\"MaxTemp\"], ax=axs[0,1])\n",
    "sns.boxplot(y=df[\"Rainfall\"], ax=axs[0,2])\n",
    "sns.boxplot(y=df[\"Evaporation\"], ax=axs[0,3])\n",
    "sns.boxplot(y=df[\"Sunshine\"], ax=axs[1,0])\n",
    "sns.boxplot(y=df[\"WindGustSpeed\"], ax=axs[1,1])\n",
    "sns.boxplot(y=df[\"WindSpeed9am\"], ax=axs[1,2])\n",
    "sns.boxplot(y=df[\"WindSpeed3pm\"], ax=axs[1,3])\n",
    "sns.boxplot(y=df[\"Humidity9am\"], ax=axs[2,0])\n",
    "sns.boxplot(y=df[\"Humidity3pm\"], ax=axs[2,1])\n",
    "sns.boxplot(y=df[\"Pressure9am\"], ax=axs[2,2])\n",
    "sns.boxplot(y=df[\"Pressure3pm\"], ax=axs[2,3])\n",
    "sns.boxplot(y=df[\"Cloud9am\"], ax=axs[3,0])\n",
    "sns.boxplot(y=df[\"Cloud3pm\"], ax=axs[3,1])\n",
    "sns.boxplot(y=df[\"Temp9am\"], ax=axs[3,2])\n",
    "sns.boxplot(y=df[\"Temp3pm\"], ax=axs[3,3])"
   ]
  },
  {
   "cell_type": "code",
   "execution_count": 22,
   "metadata": {},
   "outputs": [],
   "source": [
    "sns.pairplot(df, hue=\"RainTomorrow\")"
   ]
  },
  {
   "cell_type": "code",
   "execution_count": null,
   "metadata": {},
   "outputs": [],
   "source": [
    "#sns.pairplot(df, hue=\"RainToday\")"
   ]
  }
 ],
 "metadata": {
  "kernelspec": {
   "display_name": "Python 3.10.12 ('DAA')",
   "language": "python",
   "name": "python3"
  },
  "language_info": {
   "codemirror_mode": {
    "name": "ipython",
    "version": 3
   },
   "file_extension": ".py",
   "mimetype": "text/x-python",
   "name": "python",
   "nbconvert_exporter": "python",
   "pygments_lexer": "ipython3",
   "version": "3.10.12"
  },
  "orig_nbformat": 4,
  "vscode": {
   "interpreter": {
    "hash": "2881258984ef4296f480ce95a73330c4b38b111f7430204a8daff0049aee1dfe"
   }
  }
 },
 "nbformat": 4,
 "nbformat_minor": 2
}
