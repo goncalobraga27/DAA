{
 "cells": [
  {
   "cell_type": "code",
   "execution_count": 5,
   "metadata": {},
   "outputs": [
    {
     "name": "stdout",
     "output_type": "stream",
     "text": [
      "Requirement already satisfied: pymc3 in /home/goncalo/miniconda3/envs/daa310/lib/python3.10/site-packages (3.11.5)\n",
      "Requirement already satisfied: arviz>=0.11.0 in /home/goncalo/miniconda3/envs/daa310/lib/python3.10/site-packages (from pymc3) (0.12.1)\n",
      "Requirement already satisfied: cachetools>=4.2.1 in /home/goncalo/miniconda3/envs/daa310/lib/python3.10/site-packages (from pymc3) (5.3.2)\n",
      "Requirement already satisfied: deprecat in /home/goncalo/miniconda3/envs/daa310/lib/python3.10/site-packages (from pymc3) (2.1.1)\n",
      "Requirement already satisfied: dill in /home/goncalo/miniconda3/envs/daa310/lib/python3.10/site-packages (from pymc3) (0.3.7)\n",
      "Requirement already satisfied: fastprogress>=0.2.0 in /home/goncalo/miniconda3/envs/daa310/lib/python3.10/site-packages (from pymc3) (1.0.3)\n",
      "Requirement already satisfied: numpy<1.22.2,>=1.15.0 in /home/goncalo/miniconda3/envs/daa310/lib/python3.10/site-packages (from pymc3) (1.22.1)\n",
      "Requirement already satisfied: pandas>=0.24.0 in /home/goncalo/miniconda3/envs/daa310/lib/python3.10/site-packages (from pymc3) (2.0.3)\n",
      "Requirement already satisfied: patsy>=0.5.1 in /home/goncalo/miniconda3/envs/daa310/lib/python3.10/site-packages (from pymc3) (0.5.3)\n",
      "Requirement already satisfied: scipy<1.8.0,>=1.7.3 in /home/goncalo/miniconda3/envs/daa310/lib/python3.10/site-packages (from pymc3) (1.7.3)\n",
      "Requirement already satisfied: semver>=2.13.0 in /home/goncalo/miniconda3/envs/daa310/lib/python3.10/site-packages (from pymc3) (3.0.2)\n",
      "Requirement already satisfied: theano-pymc==1.1.2 in /home/goncalo/miniconda3/envs/daa310/lib/python3.10/site-packages (from pymc3) (1.1.2)\n",
      "Requirement already satisfied: typing-extensions>=3.7.4 in /home/goncalo/miniconda3/envs/daa310/lib/python3.10/site-packages (from pymc3) (4.5.0)\n",
      "Requirement already satisfied: filelock in /home/goncalo/miniconda3/envs/daa310/lib/python3.10/site-packages (from theano-pymc==1.1.2->pymc3) (3.13.1)\n",
      "Requirement already satisfied: setuptools>=38.4 in /home/goncalo/miniconda3/envs/daa310/lib/python3.10/site-packages (from arviz>=0.11.0->pymc3) (68.0.0)\n",
      "Requirement already satisfied: matplotlib>=3.0 in /home/goncalo/miniconda3/envs/daa310/lib/python3.10/site-packages (from arviz>=0.11.0->pymc3) (3.7.2)\n",
      "Requirement already satisfied: packaging in /home/goncalo/miniconda3/envs/daa310/lib/python3.10/site-packages (from arviz>=0.11.0->pymc3) (23.1)\n",
      "Requirement already satisfied: xarray>=0.16.1 in /home/goncalo/miniconda3/envs/daa310/lib/python3.10/site-packages (from arviz>=0.11.0->pymc3) (2023.11.0)\n",
      "Requirement already satisfied: netcdf4 in /home/goncalo/miniconda3/envs/daa310/lib/python3.10/site-packages (from arviz>=0.11.0->pymc3) (1.6.5)\n",
      "Requirement already satisfied: xarray-einstats>=0.2 in /home/goncalo/miniconda3/envs/daa310/lib/python3.10/site-packages (from arviz>=0.11.0->pymc3) (0.6.0)\n",
      "Requirement already satisfied: python-dateutil>=2.8.2 in /home/goncalo/.local/lib/python3.10/site-packages (from pandas>=0.24.0->pymc3) (2.8.2)\n",
      "Requirement already satisfied: pytz>=2020.1 in /home/goncalo/miniconda3/envs/daa310/lib/python3.10/site-packages (from pandas>=0.24.0->pymc3) (2023.3.post1)\n",
      "Requirement already satisfied: tzdata>=2022.1 in /home/goncalo/miniconda3/envs/daa310/lib/python3.10/site-packages (from pandas>=0.24.0->pymc3) (2023.3)\n",
      "Requirement already satisfied: six in /home/goncalo/miniconda3/envs/daa310/lib/python3.10/site-packages (from patsy>=0.5.1->pymc3) (1.16.0)\n",
      "Requirement already satisfied: wrapt<2,>=1.10 in /home/goncalo/miniconda3/envs/daa310/lib/python3.10/site-packages (from deprecat->pymc3) (1.14.1)\n",
      "Requirement already satisfied: contourpy>=1.0.1 in /home/goncalo/miniconda3/envs/daa310/lib/python3.10/site-packages (from matplotlib>=3.0->arviz>=0.11.0->pymc3) (1.0.5)\n",
      "Requirement already satisfied: cycler>=0.10 in /home/goncalo/miniconda3/envs/daa310/lib/python3.10/site-packages (from matplotlib>=3.0->arviz>=0.11.0->pymc3) (0.11.0)\n",
      "Requirement already satisfied: fonttools>=4.22.0 in /home/goncalo/miniconda3/envs/daa310/lib/python3.10/site-packages (from matplotlib>=3.0->arviz>=0.11.0->pymc3) (4.25.0)\n",
      "Requirement already satisfied: kiwisolver>=1.0.1 in /home/goncalo/miniconda3/envs/daa310/lib/python3.10/site-packages (from matplotlib>=3.0->arviz>=0.11.0->pymc3) (1.4.4)\n",
      "Requirement already satisfied: pillow>=6.2.0 in /home/goncalo/miniconda3/envs/daa310/lib/python3.10/site-packages (from matplotlib>=3.0->arviz>=0.11.0->pymc3) (9.4.0)\n",
      "Requirement already satisfied: pyparsing<3.1,>=2.3.1 in /home/goncalo/miniconda3/envs/daa310/lib/python3.10/site-packages (from matplotlib>=3.0->arviz>=0.11.0->pymc3) (3.0.9)\n",
      "Requirement already satisfied: cftime in /home/goncalo/miniconda3/envs/daa310/lib/python3.10/site-packages (from netcdf4->arviz>=0.11.0->pymc3) (1.6.3)\n",
      "Requirement already satisfied: certifi in /home/goncalo/miniconda3/envs/daa310/lib/python3.10/site-packages (from netcdf4->arviz>=0.11.0->pymc3) (2023.7.22)\n"
     ]
    }
   ],
   "source": [
    "! pip install pymc3"
   ]
  },
  {
   "cell_type": "code",
   "execution_count": 6,
   "metadata": {},
   "outputs": [],
   "source": [
    "import pandas as pd\n",
    "import numpy as np\n",
    "import pymc3 as pm\n",
    "import matplotlib.pyplot as plt"
   ]
  },
  {
   "cell_type": "code",
   "execution_count": 7,
   "metadata": {},
   "outputs": [],
   "source": [
    "df = pd.read_csv('../../../../datasets/parte1/dataset_cleaned.csv')"
   ]
  },
  {
   "cell_type": "code",
   "execution_count": 8,
   "metadata": {},
   "outputs": [
    {
     "data": {
      "image/png": "[encoded data removed]",
      "text/plain": [
       "<Figure size 640x480 with 1 Axes>"
      ]
     },
     "metadata": {},
     "output_type": "display_data"
    }
   ],
   "source": [
    "plt.scatter(df['Month'], df['MaxTemp'])\n",
    "plt.xlabel('X')\n",
    "plt.ylabel('Y')\n",
    "plt.title('Dados de Exemplo')\n",
    "plt.show()"
   ]
  },
  {
   "cell_type": "code",
   "execution_count": 9,
   "metadata": {},
   "outputs": [
    {
     "name": "stderr",
     "output_type": "stream",
     "text": [
      "/home/goncalo/miniconda3/envs/daa310/lib/python3.10/site-packages/deprecat/classic.py:215: FutureWarning: In v4.0, pm.sample will return an `arviz.InferenceData` object instead of a `MultiTrace` by default. You can pass return_inferencedata=True or return_inferencedata=False to be safe and silence this warning.\n",
      "  return wrapped_(*args_, **kwargs_)\n",
      "Auto-assigning NUTS sampler...\n",
      "Initializing NUTS using jitter+adapt_diag...\n"
     ]
    }
   ],
   "source": [
    "with pm.Model() as model:\n",
    "    # Coeficientes e intercepto\n",
    "    alpha = pm.Normal('alpha', mu=0, sd=10)\n",
    "    beta = pm.Normal('beta', mu=0, sd=10)\n",
    "    sigma = pm.HalfNormal('sigma', sd=1)\n",
    "\n",
    "    # Modelo linear\n",
    "    mu = alpha + beta * df['Month']\n",
    "\n",
    "    # Likelihood\n",
    "    likelihood = pm.Normal('MaxTemp', mu=mu, sd=sigma, observed=df['MaxTemp'])\n",
    "\n",
    "    # Inferência\n",
    "    trace = pm.sample(1000, tune=1000)"
   ]
  },
  {
   "cell_type": "code",
   "execution_count": null,
   "metadata": {},
   "outputs": [],
   "source": [
    "pm.traceplot(trace)\n",
    "plt.show()\n",
    "\n",
    "# Sumário estatístico dos parâmetros\n",
    "print(pm.summary(trace))\n",
    "\n",
    "# Visualizar a regressão\n",
    "plt.scatter(df['Month'], df['MaxTemp'], label='Dados Observados')\n",
    "plt.xlabel('Month')\n",
    "plt.ylabel('MaxTemp')\n",
    "\n",
    "for alpha_, beta_ in zip(trace['alpha'][::50], trace['beta'][::50]):\n",
    "    plt.plot(df['MaxTemp'], alpha_ + beta_ * df['X'], color='gray', alpha=0.1)\n",
    "\n",
    "plt.title('Regressão Bayesiana')\n",
    "plt.legend()\n",
    "plt.show()"
   ]
  }
 ],
 "metadata": {
  "kernelspec": {
   "display_name": "daa310",
   "language": "python",
   "name": "python3"
  },
  "language_info": {
   "codemirror_mode": {
    "name": "ipython",
    "version": 3
   },
   "file_extension": ".py",
   "mimetype": "text/x-python",
   "name": "python",
   "nbconvert_exporter": "python",
   "pygments_lexer": "ipython3",
   "version": "3.10.13"
  }
 },
 "nbformat": 4,
 "nbformat_minor": 2
}
