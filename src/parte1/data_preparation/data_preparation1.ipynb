{
 "cells": [
  {
   "cell_type": "code",
   "execution_count": null,
   "metadata": {},
   "outputs": [],
   "source": [
    "import matplotlib.pyplot as plt\n",
    "import pandas as pd\n",
    "import numpy as np\n",
    "import seaborn as sns\n",
    "from sklearn.preprocessing import LabelEncoder\n",
    "%matplotlib inline"
   ]
  },
  {
   "cell_type": "code",
   "execution_count": null,
   "metadata": {},
   "outputs": [],
   "source": [
    "df = pd.read_csv('../../../datasets/parte1/weatherAUS.csv')"
   ]
  },
  {
   "cell_type": "markdown",
   "metadata": {},
   "source": [
    "#### Split Data\n",
    "\n",
    "###### As seen in the EDA section, rainfall in Australia exhibits seasonality. Instead of using the full date from the Date column, extracting just the month is much more valuable."
   ]
  },
  {
   "cell_type": "code",
   "execution_count": null,
   "metadata": {},
   "outputs": [],
   "source": [
    "df['Date'] = pd.to_datetime(df['Date'], format=\"%Y-%m-%d\", utc=True)\n",
    "df['Month'] = df['Date'].dt.month\n",
    "df.drop(['Date'], inplace=True, axis=1)\n",
    "\n",
    "df.head()"
   ]
  },
  {
   "cell_type": "code",
   "execution_count": null,
   "metadata": {},
   "outputs": [],
   "source": [
    "#df['Year'].unique()"
   ]
  },
  {
   "cell_type": "markdown",
   "metadata": {},
   "source": [
    "### Drop columns which do not improve the model"
   ]
  },
  {
   "cell_type": "code",
   "execution_count": null,
   "metadata": {},
   "outputs": [],
   "source": [
    "#df.drop(['Location'], axis=1, inplace=True)"
   ]
  },
  {
   "cell_type": "markdown",
   "metadata": {},
   "source": [
    "# Missing Values"
   ]
  },
  {
   "cell_type": "markdown",
   "metadata": {},
   "source": [
    "\n",
    "#### Mean imputation in NA values"
   ]
  },
  {
   "cell_type": "code",
   "execution_count": null,
   "metadata": {},
   "outputs": [],
   "source": [
    "#df.drop(['Evaporation'], axis=1, inplace=True)\n",
    "#df.drop(['Sunshine'], axis=1, inplace=True)\n",
    "#df.drop(['Cloud9am'], axis=1, inplace=True)\n",
    "#df.drop(['Cloud3pm'], axis=1, inplace=True)"
   ]
  },
  {
   "cell_type": "code",
   "execution_count": null,
   "metadata": {},
   "outputs": [],
   "source": [
    "# Numeric features\n",
    "df['MinTemp'].fillna(df['MinTemp'].mean(), inplace=True)\n",
    "\n",
    "df['MaxTemp'].fillna(df['MaxTemp'].mean() , inplace=True)\n",
    "\n",
    "df['Rainfall'].fillna(df['Rainfall'].mean() , inplace=True)\n",
    "\n",
    "df['WindGustSpeed'].fillna(df['WindGustSpeed'].mean() , inplace=True)\n",
    "\n",
    "df['WindSpeed9am'].fillna(df['WindSpeed9am'].mean() , inplace=True)\n",
    "\n",
    "df['WindSpeed3pm'].fillna(df['WindSpeed3pm'].mean() , inplace=True)\n",
    "\n",
    "df['Humidity9am'].fillna(df['Humidity9am'].mean() , inplace=True)\n",
    "\n",
    "df['Humidity3pm'].fillna(df['Humidity3pm'].mean() , inplace=True)\n",
    "\n",
    "df['Pressure9am'].fillna(df['Pressure9am'].mean() , inplace=True)\n",
    "\n",
    "df['Pressure3pm'].fillna(df['Pressure3pm'].mean() , inplace=True)\n",
    "\n",
    "df['Temp9am'].fillna(df['Temp9am'].mean() , inplace=True)\n",
    "\n",
    "df['Temp3pm'].fillna(df['Temp3pm'].mean() , inplace=True)\n",
    "\n",
    "df['Evaporation'].fillna(df['Evaporation'].mean() , inplace=True)\n",
    "\n",
    "df['Sunshine'].fillna(df['Sunshine'].mean() , inplace=True)\n",
    "\n",
    "df['Cloud9am'].fillna(df['Cloud9am'].mean() , inplace=True)\n",
    "\n",
    "df['Cloud3pm'].fillna(df['Cloud3pm'].mean(), inplace=True)\n",
    "\n",
    "# Categorical features\n",
    "# FAZEMOS ISTO PORQUE AS FEATURES CATEGORIAS ESTAO BEM DISTRIBUIDAS E PORTANTO A MODA NAO REPRESENTA UMA GRANDE PARTE DOS DADOS\n",
    "categorical_features = [col for col in df.columns if df[col].dtype == object]\n",
    "categorical_features.remove('RainTomorrow')\n",
    "categorical_features.remove('RainToday')\n",
    "categorical_features.remove('Location')\n",
    "\n",
    "for col in categorical_features:\n",
    "    values = df['WindDir3pm'].value_counts().index.values\n",
    "    probs = df[col].value_counts(normalize=True).values\n",
    "    df[col].replace(np.nan, np.random.choice(a=values, p=probs), inplace=True)"
   ]
  },
  {
   "cell_type": "code",
   "execution_count": null,
   "metadata": {},
   "outputs": [],
   "source": [
    "print(df.isna().sum())\n"
   ]
  },
  {
   "cell_type": "code",
   "execution_count": null,
   "metadata": {},
   "outputs": [],
   "source": [
    "df.dropna(inplace=True)\n",
    "\n",
    "print(df.isna().sum())\n",
    "\n",
    "df.shape"
   ]
  },
  {
   "cell_type": "markdown",
   "metadata": {},
   "source": [
    "## Handling Outliers"
   ]
  },
  {
   "cell_type": "markdown",
   "metadata": {},
   "source": [
    "## Label encoding"
   ]
  },
  {
   "cell_type": "code",
   "execution_count": null,
   "metadata": {},
   "outputs": [],
   "source": [
    "label_encoder = LabelEncoder()\n",
    "\n",
    "df['Location'] = label_encoder.fit_transform(df['Location'])\n",
    "df['WindGustDir'] = label_encoder.fit_transform(df['WindGustDir'])\n",
    "df['WindDir9am'] = label_encoder.fit_transform(df['WindDir9am'])\n",
    "df['WindDir3pm'] = label_encoder.fit_transform(df['WindDir3pm'])\n",
    "df['RainToday'] = label_encoder.fit_transform(df['RainToday'])\n",
    "df['RainTomorrow'] = label_encoder.fit_transform(df['RainTomorrow'])"
   ]
  },
  {
   "cell_type": "code",
   "execution_count": null,
   "metadata": {},
   "outputs": [],
   "source": [
    "df.head()"
   ]
  },
  {
   "cell_type": "code",
   "execution_count": null,
   "metadata": {},
   "outputs": [],
   "source": [
    "df.to_csv('../../../datasets/parte1/dataset_cleaned.csv', index=False)"
   ]
  },
  {
   "cell_type": "code",
   "execution_count": null,
   "metadata": {},
   "outputs": [],
   "source": [
    "fig = plt.figure(figsize=(15, 15))\n",
    "satisfaction_corr = df.corr(method='pearson', numeric_only=True)\n",
    "sns.heatmap(satisfaction_corr, linecolor='black', linewidths=0.5, annot=True)"
   ]
  },
  {
   "cell_type": "code",
   "execution_count": null,
   "metadata": {},
   "outputs": [],
   "source": [
    "fig = plt.figure(figsize=(15, 15))\n",
    "satisfaction_corr = df.corr(method='spearman', numeric_only=True)\n",
    "sns.heatmap(satisfaction_corr, linecolor='black', linewidths=0.5, annot=True)"
   ]
  }
 ],
 "metadata": {
  "kernelspec": {
   "display_name": "Python 3.10.12 ('DAA')",
   "language": "python",
   "name": "python3"
  },
  "language_info": {
   "codemirror_mode": {
    "name": "ipython",
    "version": 3
   },
   "file_extension": ".py",
   "mimetype": "text/x-python",
   "name": "python",
   "nbconvert_exporter": "python",
   "pygments_lexer": "ipython3",
   "version": "3.10.13"
  },
  "orig_nbformat": 4,
  "vscode": {
   "interpreter": {
    "hash": "2881258984ef4296f480ce95a73330c4b38b111f7430204a8daff0049aee1dfe"
   }
  }
 },
 "nbformat": 4,
 "nbformat_minor": 2
}
