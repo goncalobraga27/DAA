{
 "cells": [
  {
   "cell_type": "markdown",
   "metadata": {},
   "source": [
    "# XGBoost"
   ]
  },
  {
   "cell_type": "code",
   "execution_count": 178,
   "metadata": {},
   "outputs": [],
   "source": [
    "import matplotlib.pyplot as plt\n",
    "import pandas as pd\n",
    "from xgboost import XGBClassifier\n",
    "from sklearn.model_selection import train_test_split, GridSearchCV\n",
    "from sklearn.metrics import classification_report, ConfusionMatrixDisplay, accuracy_score, make_scorer, f1_score"
   ]
  },
  {
   "cell_type": "markdown",
   "metadata": {},
   "source": [
    "#### Read data"
   ]
  },
  {
   "cell_type": "code",
   "execution_count": 179,
   "metadata": {},
   "outputs": [],
   "source": [
    "df = pd.read_csv('../../../datasets/parte2/treino/dataset_prepared.csv', na_filter=False)"
   ]
  },
  {
   "cell_type": "code",
   "execution_count": 180,
   "metadata": {},
   "outputs": [],
   "source": [
    "replace_map = {'None':0, 'Low':1, 'Medium':2, 'High':3, 'Very High':4}\n",
    "\n",
    "df['injection'] = df['injection'].replace(replace_map).astype(int)"
   ]
  },
  {
   "cell_type": "markdown",
   "metadata": {},
   "source": [
    "#### X and y arrays"
   ]
  },
  {
   "cell_type": "code",
   "execution_count": 181,
   "metadata": {},
   "outputs": [],
   "source": [
    "X = df.drop(['injection'], axis=1)\n",
    "y = df['injection']"
   ]
  },
  {
   "cell_type": "markdown",
   "metadata": {},
   "source": [
    "#### Train Test Split\n",
    "\n",
    "Now let's split the data into a training set and a testing set. We will train out model on the training set and then use the test set to evaluate the model."
   ]
  },
  {
   "cell_type": "code",
   "execution_count": 182,
   "metadata": {},
   "outputs": [],
   "source": [
    "X_train, X_test, y_train, y_test = train_test_split(X, y, test_size=0.2, random_state=2023, stratify=y)"
   ]
  },
  {
   "cell_type": "markdown",
   "metadata": {},
   "source": [
    "#### Training \n",
    "\n",
    "Using GridSearchCV to find the best hyperparameters"
   ]
  },
  {
   "cell_type": "code",
   "execution_count": 183,
   "metadata": {},
   "outputs": [
    {
     "name": "stdout",
     "output_type": "stream",
     "text": [
      "Fitting 10 folds for each of 24 candidates, totalling 240 fits\n",
      "[CV 10/10] END learning_rate=0.01, max_depth=3, n_estimators=100;, score=0.876 total time=   6.3s\n",
      "[CV 7/10] END learning_rate=0.01, max_depth=3, n_estimators=100;, score=0.868 total time=   6.6s\n",
      "[CV 1/10] END learning_rate=0.01, max_depth=3, n_estimators=100;, score=0.871 total time=   7.0s\n",
      "[CV 2/10] END learning_rate=0.01, max_depth=3, n_estimators=100;, score=0.880 total time=   7.3s\n",
      "[CV 5/10] END learning_rate=0.01, max_depth=3, n_estimators=100;, score=0.860 total time=   7.5s\n",
      "[CV 8/10] END learning_rate=0.01, max_depth=3, n_estimators=100;, score=0.876 total time=   7.8s\n",
      "[CV 6/10] END learning_rate=0.01, max_depth=3, n_estimators=100;, score=0.866 total time=   8.1s\n",
      "[CV 3/10] END learning_rate=0.01, max_depth=3, n_estimators=100;, score=0.865 total time=   8.3s\n",
      "[CV 9/10] END learning_rate=0.01, max_depth=3, n_estimators=100;, score=0.868 total time=   8.3s\n",
      "[CV 4/10] END learning_rate=0.01, max_depth=3, n_estimators=100;, score=0.847 total time=   8.4s\n",
      "[CV 5/10] END learning_rate=0.01, max_depth=3, n_estimators=200;, score=0.873 total time=  14.1s\n",
      "[CV 6/10] END learning_rate=0.01, max_depth=3, n_estimators=200;, score=0.867 total time=  14.5s\n",
      "[CV 4/10] END learning_rate=0.01, max_depth=3, n_estimators=200;, score=0.859 total time=  15.2s\n",
      "[CV 2/10] END learning_rate=0.01, max_depth=3, n_estimators=200;, score=0.876 total time=  15.8s\n",
      "[CV 3/10] END learning_rate=0.01, max_depth=3, n_estimators=200;, score=0.868 total time=  16.0s\n",
      "[CV 1/10] END learning_rate=0.01, max_depth=3, n_estimators=200;, score=0.878 total time=  16.1s\n",
      "[CV 7/10] END learning_rate=0.01, max_depth=3, n_estimators=200;, score=0.877 total time=  13.7s\n",
      "[CV 9/10] END learning_rate=0.01, max_depth=3, n_estimators=200;, score=0.875 total time=  14.5s\n",
      "[CV 8/10] END learning_rate=0.01, max_depth=3, n_estimators=200;, score=0.877 total time=  15.0s\n",
      "[CV 10/10] END learning_rate=0.01, max_depth=3, n_estimators=200;, score=0.883 total time=  16.8s\n",
      "[CV 2/10] END learning_rate=0.01, max_depth=3, n_estimators=300;, score=0.883 total time=  22.6s\n",
      "[CV 1/10] END learning_rate=0.01, max_depth=3, n_estimators=300;, score=0.883 total time=  23.0s\n",
      "[CV 4/10] END learning_rate=0.01, max_depth=3, n_estimators=300;, score=0.865 total time=  23.7s\n",
      "[CV 3/10] END learning_rate=0.01, max_depth=3, n_estimators=300;, score=0.874 total time=  25.3s\n",
      "[CV 6/10] END learning_rate=0.01, max_depth=3, n_estimators=300;, score=0.867 total time=  25.9s\n",
      "[CV 5/10] END learning_rate=0.01, max_depth=3, n_estimators=300;, score=0.876 total time=  26.1s\n",
      "[CV 7/10] END learning_rate=0.01, max_depth=3, n_estimators=300;, score=0.881 total time=  24.5s\n",
      "[CV 10/10] END learning_rate=0.01, max_depth=3, n_estimators=300;, score=0.886 total time=  24.7s\n",
      "[CV 9/10] END learning_rate=0.01, max_depth=3, n_estimators=300;, score=0.883 total time=  25.9s\n",
      "[CV 8/10] END learning_rate=0.01, max_depth=3, n_estimators=300;, score=0.882 total time=  26.9s\n",
      "[CV 2/10] END learning_rate=0.01, max_depth=4, n_estimators=100;, score=0.888 total time=   9.7s\n",
      "[CV 1/10] END learning_rate=0.01, max_depth=4, n_estimators=100;, score=0.878 total time=  11.2s\n",
      "[CV 2/10] END learning_rate=0.01, max_depth=3, n_estimators=400;, score=0.883 total time=  33.5s\n",
      "[CV 1/10] END learning_rate=0.01, max_depth=3, n_estimators=400;, score=0.883 total time=  34.1s\n",
      "[CV 3/10] END learning_rate=0.01, max_depth=4, n_estimators=100;, score=0.873 total time=  11.7s\n",
      "[CV 5/10] END learning_rate=0.01, max_depth=4, n_estimators=100;, score=0.874 total time=  11.9s\n",
      "[CV 4/10] END learning_rate=0.01, max_depth=4, n_estimators=100;, score=0.868 total time=  12.6s\n",
      "[CV 5/10] END learning_rate=0.01, max_depth=3, n_estimators=400;, score=0.879 total time=  32.4s\n",
      "[CV 6/10] END learning_rate=0.01, max_depth=4, n_estimators=100;, score=0.864 total time=  12.6s\n",
      "[CV 7/10] END learning_rate=0.01, max_depth=4, n_estimators=100;, score=0.877 total time=  11.0s\n",
      "[CV 4/10] END learning_rate=0.01, max_depth=3, n_estimators=400;, score=0.868 total time=  33.9s\n",
      "[CV 3/10] END learning_rate=0.01, max_depth=3, n_estimators=400;, score=0.879 total time=  35.9s\n",
      "[CV 8/10] END learning_rate=0.01, max_depth=4, n_estimators=100;, score=0.880 total time=  10.8s\n",
      "[CV 6/10] END learning_rate=0.01, max_depth=3, n_estimators=400;, score=0.872 total time=  32.7s\n",
      "[CV 9/10] END learning_rate=0.01, max_depth=4, n_estimators=100;, score=0.882 total time=  11.0s\n",
      "[CV 10/10] END learning_rate=0.01, max_depth=4, n_estimators=100;, score=0.889 total time=  11.9s\n",
      "[CV 8/10] END learning_rate=0.01, max_depth=3, n_estimators=400;, score=0.880 total time=  33.0s\n",
      "[CV 7/10] END learning_rate=0.01, max_depth=3, n_estimators=400;, score=0.883 total time=  34.4s\n",
      "[CV 9/10] END learning_rate=0.01, max_depth=3, n_estimators=400;, score=0.885 total time=  33.5s\n",
      "[CV 10/10] END learning_rate=0.01, max_depth=3, n_estimators=400;, score=0.886 total time=  35.4s\n",
      "[CV 1/10] END learning_rate=0.01, max_depth=4, n_estimators=200;, score=0.880 total time=  22.9s\n",
      "[CV 4/10] END learning_rate=0.01, max_depth=4, n_estimators=200;, score=0.868 total time=  22.0s\n",
      "[CV 3/10] END learning_rate=0.01, max_depth=4, n_estimators=200;, score=0.876 total time=  23.2s\n",
      "[CV 2/10] END learning_rate=0.01, max_depth=4, n_estimators=200;, score=0.884 total time=  23.3s\n",
      "[CV 7/10] END learning_rate=0.01, max_depth=4, n_estimators=200;, score=0.879 total time=  21.7s\n",
      "[CV 5/10] END learning_rate=0.01, max_depth=4, n_estimators=200;, score=0.881 total time=  23.5s\n",
      "[CV 9/10] END learning_rate=0.01, max_depth=4, n_estimators=200;, score=0.888 total time=  21.5s\n",
      "[CV 6/10] END learning_rate=0.01, max_depth=4, n_estimators=200;, score=0.867 total time=  22.9s\n",
      "[CV 8/10] END learning_rate=0.01, max_depth=4, n_estimators=200;, score=0.881 total time=  23.8s\n",
      "[CV 10/10] END learning_rate=0.01, max_depth=4, n_estimators=200;, score=0.892 total time=  23.1s\n",
      "[CV 2/10] END learning_rate=0.01, max_depth=4, n_estimators=300;, score=0.881 total time=  31.9s\n",
      "[CV 1/10] END learning_rate=0.01, max_depth=4, n_estimators=300;, score=0.884 total time=  33.9s\n",
      "[CV 3/10] END learning_rate=0.01, max_depth=4, n_estimators=300;, score=0.882 total time=  35.8s\n",
      "[CV 5/10] END learning_rate=0.01, max_depth=4, n_estimators=300;, score=0.882 total time=  34.7s\n",
      "[CV 4/10] END learning_rate=0.01, max_depth=4, n_estimators=300;, score=0.871 total time=  35.4s\n",
      "[CV 6/10] END learning_rate=0.01, max_depth=4, n_estimators=300;, score=0.869 total time=  32.7s\n",
      "[CV 7/10] END learning_rate=0.01, max_depth=4, n_estimators=300;, score=0.885 total time=  32.6s\n",
      "[CV 8/10] END learning_rate=0.01, max_depth=4, n_estimators=300;, score=0.883 total time=  33.1s\n",
      "[CV 1/10] END learning_rate=0.1, max_depth=3, n_estimators=100;, score=0.888 total time=   8.9s\n",
      "[CV 2/10] END learning_rate=0.1, max_depth=3, n_estimators=100;, score=0.879 total time=   7.9s\n",
      "[CV 10/10] END learning_rate=0.01, max_depth=4, n_estimators=300;, score=0.889 total time=  34.6s\n",
      "[CV 9/10] END learning_rate=0.01, max_depth=4, n_estimators=300;, score=0.889 total time=  34.9s\n",
      "[CV 3/10] END learning_rate=0.1, max_depth=3, n_estimators=100;, score=0.884 total time=   8.4s\n",
      "[CV 1/10] END learning_rate=0.01, max_depth=4, n_estimators=400;, score=0.890 total time=  40.6s\n",
      "[CV 6/10] END learning_rate=0.1, max_depth=3, n_estimators=100;, score=0.879 total time=   9.4s\n",
      "[CV 5/10] END learning_rate=0.1, max_depth=3, n_estimators=100;, score=0.880 total time=   9.6s\n",
      "[CV 4/10] END learning_rate=0.1, max_depth=3, n_estimators=100;, score=0.884 total time=  10.1s\n",
      "[CV 8/10] END learning_rate=0.1, max_depth=3, n_estimators=100;, score=0.884 total time=   9.1s\n",
      "[CV 7/10] END learning_rate=0.1, max_depth=3, n_estimators=100;, score=0.889 total time=  10.0s\n",
      "[CV 4/10] END learning_rate=0.01, max_depth=4, n_estimators=400;, score=0.874 total time=  44.1s\n",
      "[CV 9/10] END learning_rate=0.1, max_depth=3, n_estimators=100;, score=0.882 total time=   8.3s\n",
      "[CV 3/10] END learning_rate=0.01, max_depth=4, n_estimators=400;, score=0.885 total time=  46.9s\n",
      "[CV 6/10] END learning_rate=0.01, max_depth=4, n_estimators=400;, score=0.871 total time=  45.3s\n",
      "[CV 5/10] END learning_rate=0.01, max_depth=4, n_estimators=400;, score=0.880 total time=  45.5s\n",
      "[CV 10/10] END learning_rate=0.1, max_depth=3, n_estimators=100;, score=0.894 total time=   8.9s\n",
      "[CV 2/10] END learning_rate=0.01, max_depth=4, n_estimators=400;, score=0.878 total time=  49.8s\n",
      "[CV 2/10] END learning_rate=0.1, max_depth=3, n_estimators=200;, score=0.879 total time=  15.2s\n",
      "[CV 1/10] END learning_rate=0.1, max_depth=3, n_estimators=200;, score=0.891 total time=  17.2s\n",
      "[CV 3/10] END learning_rate=0.1, max_depth=3, n_estimators=200;, score=0.896 total time=  17.3s\n",
      "[CV 4/10] END learning_rate=0.1, max_depth=3, n_estimators=200;, score=0.889 total time=  16.5s\n",
      "[CV 6/10] END learning_rate=0.1, max_depth=3, n_estimators=200;, score=0.884 total time=  15.7s\n",
      "[CV 5/10] END learning_rate=0.1, max_depth=3, n_estimators=200;, score=0.885 total time=  16.8s\n",
      "[CV 7/10] END learning_rate=0.1, max_depth=3, n_estimators=200;, score=0.882 total time=  15.4s\n",
      "[CV 8/10] END learning_rate=0.01, max_depth=4, n_estimators=400;, score=0.882 total time=  44.6s\n",
      "[CV 9/10] END learning_rate=0.1, max_depth=3, n_estimators=200;, score=0.885 total time=  14.8s\n",
      "[CV 8/10] END learning_rate=0.1, max_depth=3, n_estimators=200;, score=0.885 total time=  15.6s\n",
      "[CV 10/10] END learning_rate=0.1, max_depth=3, n_estimators=200;, score=0.890 total time=  16.0s\n",
      "[CV 7/10] END learning_rate=0.01, max_depth=4, n_estimators=400;, score=0.886 total time=  47.5s\n",
      "[CV 10/10] END learning_rate=0.01, max_depth=4, n_estimators=400;, score=0.889 total time=  42.4s\n",
      "[CV 9/10] END learning_rate=0.01, max_depth=4, n_estimators=400;, score=0.884 total time=  43.4s\n",
      "[CV 1/10] END learning_rate=0.1, max_depth=3, n_estimators=300;, score=0.892 total time=  22.1s\n",
      "[CV 2/10] END learning_rate=0.1, max_depth=3, n_estimators=300;, score=0.883 total time=  24.9s\n",
      "[CV 3/10] END learning_rate=0.1, max_depth=3, n_estimators=300;, score=0.902 total time=  21.3s\n",
      "[CV 5/10] END learning_rate=0.1, max_depth=3, n_estimators=300;, score=0.884 total time=  19.2s\n",
      "[CV 4/10] END learning_rate=0.1, max_depth=3, n_estimators=300;, score=0.889 total time=  20.1s\n",
      "[CV 7/10] END learning_rate=0.1, max_depth=3, n_estimators=300;, score=0.886 total time=  18.8s\n",
      "[CV 6/10] END learning_rate=0.1, max_depth=3, n_estimators=300;, score=0.886 total time=  20.6s\n",
      "[CV 10/10] END learning_rate=0.1, max_depth=3, n_estimators=300;, score=0.896 total time=  19.0s\n",
      "[CV 9/10] END learning_rate=0.1, max_depth=3, n_estimators=300;, score=0.890 total time=  20.6s\n",
      "[CV 8/10] END learning_rate=0.1, max_depth=3, n_estimators=300;, score=0.882 total time=  20.8s\n",
      "[CV 1/10] END learning_rate=0.1, max_depth=4, n_estimators=100;, score=0.897 total time=   7.3s\n",
      "[CV 3/10] END learning_rate=0.1, max_depth=3, n_estimators=400;, score=0.900 total time=  22.8s\n",
      "[CV 2/10] END learning_rate=0.1, max_depth=4, n_estimators=100;, score=0.878 total time=   7.6s\n",
      "[CV 1/10] END learning_rate=0.1, max_depth=3, n_estimators=400;, score=0.893 total time=  24.4s\n",
      "[CV 3/10] END learning_rate=0.1, max_depth=4, n_estimators=100;, score=0.896 total time=   8.0s\n",
      "[CV 4/10] END learning_rate=0.1, max_depth=3, n_estimators=400;, score=0.890 total time=  24.1s\n",
      "[CV 5/10] END learning_rate=0.1, max_depth=3, n_estimators=400;, score=0.880 total time=  23.3s\n",
      "[CV 2/10] END learning_rate=0.1, max_depth=3, n_estimators=400;, score=0.880 total time=  25.9s\n",
      "[CV 6/10] END learning_rate=0.1, max_depth=3, n_estimators=400;, score=0.880 total time=  24.0s\n",
      "[CV 6/10] END learning_rate=0.1, max_depth=4, n_estimators=100;, score=0.884 total time=   8.0s\n",
      "[CV 4/10] END learning_rate=0.1, max_depth=4, n_estimators=100;, score=0.886 total time=   8.5s[CV 5/10] END learning_rate=0.1, max_depth=4, n_estimators=100;, score=0.886 total time=   8.1s\n",
      "\n",
      "[CV 7/10] END learning_rate=0.1, max_depth=3, n_estimators=400;, score=0.883 total time=  21.9s\n",
      "[CV 7/10] END learning_rate=0.1, max_depth=4, n_estimators=100;, score=0.892 total time=   7.7s\n",
      "[CV 10/10] END learning_rate=0.1, max_depth=4, n_estimators=100;, score=0.892 total time=   6.9s\n",
      "[CV 9/10] END learning_rate=0.1, max_depth=4, n_estimators=100;, score=0.883 total time=   7.3s\n",
      "[CV 8/10] END learning_rate=0.1, max_depth=4, n_estimators=100;, score=0.888 total time=   8.2s\n",
      "[CV 8/10] END learning_rate=0.1, max_depth=3, n_estimators=400;, score=0.883 total time=  23.4s\n",
      "[CV 9/10] END learning_rate=0.1, max_depth=3, n_estimators=400;, score=0.891 total time=  21.8s\n",
      "[CV 10/10] END learning_rate=0.1, max_depth=3, n_estimators=400;, score=0.888 total time=  22.6s\n",
      "[CV 2/10] END learning_rate=0.1, max_depth=4, n_estimators=200;, score=0.880 total time=  14.2s\n",
      "[CV 3/10] END learning_rate=0.1, max_depth=4, n_estimators=200;, score=0.905 total time=  14.8s\n",
      "[CV 1/10] END learning_rate=0.1, max_depth=4, n_estimators=200;, score=0.901 total time=  15.5s\n",
      "[CV 4/10] END learning_rate=0.1, max_depth=4, n_estimators=200;, score=0.884 total time=  15.0s\n",
      "[CV 6/10] END learning_rate=0.1, max_depth=4, n_estimators=200;, score=0.881 total time=  14.8s\n",
      "[CV 7/10] END learning_rate=0.1, max_depth=4, n_estimators=200;, score=0.894 total time=  14.8s\n",
      "[CV 5/10] END learning_rate=0.1, max_depth=4, n_estimators=200;, score=0.882 total time=  15.6s\n",
      "[CV 8/10] END learning_rate=0.1, max_depth=4, n_estimators=200;, score=0.886 total time=  16.0s\n",
      "[CV 9/10] END learning_rate=0.1, max_depth=4, n_estimators=200;, score=0.891 total time=  13.2s\n",
      "[CV 10/10] END learning_rate=0.1, max_depth=4, n_estimators=200;, score=0.897 total time=  13.7s\n",
      "[CV 1/10] END learning_rate=0.1, max_depth=4, n_estimators=300;, score=0.897 total time=  22.0s\n",
      "[CV 2/10] END learning_rate=0.1, max_depth=4, n_estimators=300;, score=0.883 total time=  22.2s\n",
      "[CV 3/10] END learning_rate=0.1, max_depth=4, n_estimators=300;, score=0.901 total time=  21.9s\n",
      "[CV 5/10] END learning_rate=0.1, max_depth=4, n_estimators=300;, score=0.886 total time=  19.1s\n",
      "[CV 4/10] END learning_rate=0.1, max_depth=4, n_estimators=300;, score=0.884 total time=  22.2s\n",
      "[CV 6/10] END learning_rate=0.1, max_depth=4, n_estimators=300;, score=0.883 total time=  21.3s\n",
      "[CV 7/10] END learning_rate=0.1, max_depth=4, n_estimators=300;, score=0.885 total time=  21.3s\n",
      "[CV 10/10] END learning_rate=0.1, max_depth=4, n_estimators=300;, score=0.897 total time=  20.7s\n",
      "[CV 8/10] END learning_rate=0.1, max_depth=4, n_estimators=300;, score=0.877 total time=  22.4s\n",
      "[CV 9/10] END learning_rate=0.1, max_depth=4, n_estimators=300;, score=0.891 total time=  22.3s\n",
      "[CV 1/10] END learning_rate=0.2, max_depth=3, n_estimators=100;, score=0.892 total time=   5.6s\n",
      "[CV 2/10] END learning_rate=0.2, max_depth=3, n_estimators=100;, score=0.876 total time=   5.6s\n",
      "[CV 3/10] END learning_rate=0.2, max_depth=3, n_estimators=100;, score=0.896 total time=   5.3s\n",
      "[CV 4/10] END learning_rate=0.2, max_depth=3, n_estimators=100;, score=0.880 total time=   5.4s\n",
      "[CV 7/10] END learning_rate=0.2, max_depth=3, n_estimators=100;, score=0.884 total time=   5.2s\n",
      "[CV 2/10] END learning_rate=0.1, max_depth=4, n_estimators=400;, score=0.887 total time=  27.9s\n",
      "[CV 6/10] END learning_rate=0.2, max_depth=3, n_estimators=100;, score=0.888 total time=   6.2s\n",
      "[CV 5/10] END learning_rate=0.2, max_depth=3, n_estimators=100;, score=0.885 total time=   6.3s\n",
      "[CV 1/10] END learning_rate=0.1, max_depth=4, n_estimators=400;, score=0.899 total time=  28.1s\n",
      "[CV 8/10] END learning_rate=0.2, max_depth=3, n_estimators=100;, score=0.886 total time=   5.5s\n",
      "[CV 3/10] END learning_rate=0.1, max_depth=4, n_estimators=400;, score=0.905 total time=  28.9s\n",
      "[CV 9/10] END learning_rate=0.2, max_depth=3, n_estimators=100;, score=0.883 total time=   5.1s\n",
      "[CV 6/10] END learning_rate=0.1, max_depth=4, n_estimators=400;, score=0.884 total time=  27.9s\n",
      "[CV 4/10] END learning_rate=0.1, max_depth=4, n_estimators=400;, score=0.880 total time=  30.0s\n",
      "[CV 10/10] END learning_rate=0.2, max_depth=3, n_estimators=100;, score=0.890 total time=   5.6s\n",
      "[CV 5/10] END learning_rate=0.1, max_depth=4, n_estimators=400;, score=0.880 total time=  29.6s\n",
      "[CV 1/10] END learning_rate=0.2, max_depth=3, n_estimators=200;, score=0.897 total time=  10.6s\n",
      "[CV 2/10] END learning_rate=0.2, max_depth=3, n_estimators=200;, score=0.882 total time=  10.4s\n",
      "[CV 3/10] END learning_rate=0.2, max_depth=3, n_estimators=200;, score=0.901 total time=  10.9s\n",
      "[CV 5/10] END learning_rate=0.2, max_depth=3, n_estimators=200;, score=0.886 total time=  10.7s\n",
      "[CV 6/10] END learning_rate=0.2, max_depth=3, n_estimators=200;, score=0.884 total time=   9.6s\n",
      "[CV 4/10] END learning_rate=0.2, max_depth=3, n_estimators=200;, score=0.875 total time=  11.3s\n",
      "[CV 7/10] END learning_rate=0.2, max_depth=3, n_estimators=200;, score=0.882 total time=  10.1s\n",
      "[CV 7/10] END learning_rate=0.1, max_depth=4, n_estimators=400;, score=0.883 total time=  28.6s\n",
      "[CV 8/10] END learning_rate=0.2, max_depth=3, n_estimators=200;, score=0.885 total time=  10.3s\n",
      "[CV 9/10] END learning_rate=0.1, max_depth=4, n_estimators=400;, score=0.890 total time=  28.0s\n",
      "[CV 9/10] END learning_rate=0.2, max_depth=3, n_estimators=200;, score=0.890 total time=  10.2s\n",
      "[CV 8/10] END learning_rate=0.1, max_depth=4, n_estimators=400;, score=0.883 total time=  29.4s\n",
      "[CV 10/10] END learning_rate=0.2, max_depth=3, n_estimators=200;, score=0.892 total time=  11.5s\n",
      "[CV 10/10] END learning_rate=0.1, max_depth=4, n_estimators=400;, score=0.892 total time=  30.2s\n",
      "[CV 1/10] END learning_rate=0.2, max_depth=3, n_estimators=300;, score=0.891 total time=  15.6s\n",
      "[CV 2/10] END learning_rate=0.2, max_depth=3, n_estimators=300;, score=0.881 total time=  16.9s\n",
      "[CV 4/10] END learning_rate=0.2, max_depth=3, n_estimators=300;, score=0.882 total time=  16.7s\n",
      "[CV 5/10] END learning_rate=0.2, max_depth=3, n_estimators=300;, score=0.885 total time=  16.2s\n",
      "[CV 3/10] END learning_rate=0.2, max_depth=3, n_estimators=300;, score=0.893 total time=  17.3s\n",
      "[CV 7/10] END learning_rate=0.2, max_depth=3, n_estimators=300;, score=0.881 total time=  16.6s\n",
      "[CV 10/10] END learning_rate=0.2, max_depth=3, n_estimators=300;, score=0.892 total time=  15.4s\n",
      "[CV 9/10] END learning_rate=0.2, max_depth=3, n_estimators=300;, score=0.890 total time=  16.6s\n",
      "[CV 8/10] END learning_rate=0.2, max_depth=3, n_estimators=300;, score=0.890 total time=  17.7s\n",
      "[CV 6/10] END learning_rate=0.2, max_depth=3, n_estimators=300;, score=0.877 total time=  18.4s\n",
      "[CV 1/10] END learning_rate=0.2, max_depth=3, n_estimators=400;, score=0.891 total time=  21.1s\n",
      "[CV 2/10] END learning_rate=0.2, max_depth=3, n_estimators=400;, score=0.882 total time=  20.8s\n",
      "[CV 3/10] END learning_rate=0.2, max_depth=3, n_estimators=400;, score=0.894 total time=  20.4s\n",
      "[CV 3/10] END learning_rate=0.2, max_depth=4, n_estimators=100;, score=0.898 total time=   6.3s\n",
      "[CV 4/10] END learning_rate=0.2, max_depth=3, n_estimators=400;, score=0.877 total time=  20.4s\n",
      "[CV 2/10] END learning_rate=0.2, max_depth=4, n_estimators=100;, score=0.878 total time=   6.5s\n",
      "[CV 1/10] END learning_rate=0.2, max_depth=4, n_estimators=100;, score=0.899 total time=   7.2s\n",
      "[CV 4/10] END learning_rate=0.2, max_depth=4, n_estimators=100;, score=0.883 total time=   7.6s\n",
      "[CV 5/10] END learning_rate=0.2, max_depth=4, n_estimators=100;, score=0.891 total time=   7.9s\n",
      "[CV 6/10] END learning_rate=0.2, max_depth=4, n_estimators=100;, score=0.886 total time=   7.8s\n",
      "[CV 5/10] END learning_rate=0.2, max_depth=3, n_estimators=400;, score=0.881 total time=  23.0s\n",
      "[CV 6/10] END learning_rate=0.2, max_depth=3, n_estimators=400;, score=0.880 total time=  21.8s\n",
      "[CV 7/10] END learning_rate=0.2, max_depth=3, n_estimators=400;, score=0.877 total time=  21.1s\n",
      "[CV 10/10] END learning_rate=0.2, max_depth=4, n_estimators=100;, score=0.893 total time=   6.3s\n",
      "[CV 8/10] END learning_rate=0.2, max_depth=4, n_estimators=100;, score=0.891 total time=   6.8s\n",
      "[CV 7/10] END learning_rate=0.2, max_depth=4, n_estimators=100;, score=0.891 total time=   8.2s\n",
      "[CV 9/10] END learning_rate=0.2, max_depth=4, n_estimators=100;, score=0.886 total time=   7.9s\n",
      "[CV 8/10] END learning_rate=0.2, max_depth=3, n_estimators=400;, score=0.888 total time=  22.0s\n",
      "[CV 10/10] END learning_rate=0.2, max_depth=3, n_estimators=400;, score=0.889 total time=  20.6s\n",
      "[CV 9/10] END learning_rate=0.2, max_depth=3, n_estimators=400;, score=0.889 total time=  20.9s\n",
      "[CV 2/10] END learning_rate=0.2, max_depth=4, n_estimators=200;, score=0.883 total time=  13.9s\n",
      "[CV 3/10] END learning_rate=0.2, max_depth=4, n_estimators=200;, score=0.900 total time=  14.2s\n",
      "[CV 1/10] END learning_rate=0.2, max_depth=4, n_estimators=200;, score=0.900 total time=  15.0s\n",
      "[CV 5/10] END learning_rate=0.2, max_depth=4, n_estimators=200;, score=0.883 total time=  13.1s\n",
      "[CV 7/10] END learning_rate=0.2, max_depth=4, n_estimators=200;, score=0.879 total time=  12.9s\n",
      "[CV 4/10] END learning_rate=0.2, max_depth=4, n_estimators=200;, score=0.882 total time=  14.8s\n",
      "[CV 6/10] END learning_rate=0.2, max_depth=4, n_estimators=200;, score=0.882 total time=  13.9s\n",
      "[CV 8/10] END learning_rate=0.2, max_depth=4, n_estimators=200;, score=0.891 total time=  13.9s\n",
      "[CV 9/10] END learning_rate=0.2, max_depth=4, n_estimators=200;, score=0.890 total time=  14.1s\n",
      "[CV 10/10] END learning_rate=0.2, max_depth=4, n_estimators=200;, score=0.883 total time=  14.3s\n",
      "[CV 3/10] END learning_rate=0.2, max_depth=4, n_estimators=300;, score=0.893 total time=  19.2s\n",
      "[CV 2/10] END learning_rate=0.2, max_depth=4, n_estimators=300;, score=0.883 total time=  19.3s\n",
      "[CV 1/10] END learning_rate=0.2, max_depth=4, n_estimators=300;, score=0.897 total time=  21.0s\n",
      "[CV 4/10] END learning_rate=0.2, max_depth=4, n_estimators=300;, score=0.876 total time=  22.1s\n",
      "[CV 6/10] END learning_rate=0.2, max_depth=4, n_estimators=300;, score=0.875 total time=  20.1s\n",
      "[CV 7/10] END learning_rate=0.2, max_depth=4, n_estimators=300;, score=0.882 total time=  20.1s\n",
      "[CV 5/10] END learning_rate=0.2, max_depth=4, n_estimators=300;, score=0.881 total time=  20.6s\n",
      "[CV 10/10] END learning_rate=0.2, max_depth=4, n_estimators=300;, score=0.894 total time=  18.7s\n",
      "[CV 8/10] END learning_rate=0.2, max_depth=4, n_estimators=300;, score=0.885 total time=  20.3s\n",
      "[CV 9/10] END learning_rate=0.2, max_depth=4, n_estimators=300;, score=0.891 total time=  20.3s\n",
      "[CV 2/10] END learning_rate=0.2, max_depth=4, n_estimators=400;, score=0.883 total time=  24.1s\n",
      "[CV 3/10] END learning_rate=0.2, max_depth=4, n_estimators=400;, score=0.900 total time=  24.4s\n",
      "[CV 4/10] END learning_rate=0.2, max_depth=4, n_estimators=400;, score=0.876 total time=  23.4s\n",
      "[CV 1/10] END learning_rate=0.2, max_depth=4, n_estimators=400;, score=0.898 total time=  26.5s\n",
      "[CV 5/10] END learning_rate=0.2, max_depth=4, n_estimators=400;, score=0.880 total time=  23.0s\n",
      "[CV 6/10] END learning_rate=0.2, max_depth=4, n_estimators=400;, score=0.874 total time=  23.1s\n",
      "[CV 8/10] END learning_rate=0.2, max_depth=4, n_estimators=400;, score=0.885 total time=  19.7s\n",
      "[CV 7/10] END learning_rate=0.2, max_depth=4, n_estimators=400;, score=0.876 total time=  20.7s\n",
      "[CV 9/10] END learning_rate=0.2, max_depth=4, n_estimators=400;, score=0.896 total time=  20.3s\n",
      "[CV 10/10] END learning_rate=0.2, max_depth=4, n_estimators=400;, score=0.891 total time=  18.4s\n"
     ]
    },
    {
     "data": {
      "text/html": [
       "<style>#sk-container-id-13 {color: black;}#sk-container-id-13 pre{padding: 0;}#sk-container-id-13 div.sk-toggleable {background-color: white;}#sk-container-id-13 label.sk-toggleable__label {cursor: pointer;display: block;width: 100%;margin-bottom: 0;padding: 0.3em;box-sizing: border-box;text-align: center;}#sk-container-id-13 label.sk-toggleable__label-arrow:before {content: \"▸\";float: left;margin-right: 0.25em;color: #696969;}#sk-container-id-13 label.sk-toggleable__label-arrow:hover:before {color: black;}#sk-container-id-13 div.sk-estimator:hover label.sk-toggleable__label-arrow:before {color: black;}#sk-container-id-13 div.sk-toggleable__content {max-height: 0;max-width: 0;overflow: hidden;text-align: left;background-color: #f0f8ff;}#sk-container-id-13 div.sk-toggleable__content pre {margin: 0.2em;color: black;border-radius: 0.25em;background-color: #f0f8ff;}#sk-container-id-13 input.sk-toggleable__control:checked~div.sk-toggleable__content {max-height: 200px;max-width: 100%;overflow: auto;}#sk-container-id-13 input.sk-toggleable__control:checked~label.sk-toggleable__label-arrow:before {content: \"▾\";}#sk-container-id-13 div.sk-estimator input.sk-toggleable__control:checked~label.sk-toggleable__label {background-color: #d4ebff;}#sk-container-id-13 div.sk-label input.sk-toggleable__control:checked~label.sk-toggleable__label {background-color: #d4ebff;}#sk-container-id-13 input.sk-hidden--visually {border: 0;clip: rect(1px 1px 1px 1px);clip: rect(1px, 1px, 1px, 1px);height: 1px;margin: -1px;overflow: hidden;padding: 0;position: absolute;width: 1px;}#sk-container-id-13 div.sk-estimator {font-family: monospace;background-color: #f0f8ff;border: 1px dotted black;border-radius: 0.25em;box-sizing: border-box;margin-bottom: 0.5em;}#sk-container-id-13 div.sk-estimator:hover {background-color: #d4ebff;}#sk-container-id-13 div.sk-parallel-item::after {content: \"\";width: 100%;border-bottom: 1px solid gray;flex-grow: 1;}#sk-container-id-13 div.sk-label:hover label.sk-toggleable__label {background-color: #d4ebff;}#sk-container-id-13 div.sk-serial::before {content: \"\";position: absolute;border-left: 1px solid gray;box-sizing: border-box;top: 0;bottom: 0;left: 50%;z-index: 0;}#sk-container-id-13 div.sk-serial {display: flex;flex-direction: column;align-items: center;background-color: white;padding-right: 0.2em;padding-left: 0.2em;position: relative;}#sk-container-id-13 div.sk-item {position: relative;z-index: 1;}#sk-container-id-13 div.sk-parallel {display: flex;align-items: stretch;justify-content: center;background-color: white;position: relative;}#sk-container-id-13 div.sk-item::before, #sk-container-id-13 div.sk-parallel-item::before {content: \"\";position: absolute;border-left: 1px solid gray;box-sizing: border-box;top: 0;bottom: 0;left: 50%;z-index: -1;}#sk-container-id-13 div.sk-parallel-item {display: flex;flex-direction: column;z-index: 1;position: relative;background-color: white;}#sk-container-id-13 div.sk-parallel-item:first-child::after {align-self: flex-end;width: 50%;}#sk-container-id-13 div.sk-parallel-item:last-child::after {align-self: flex-start;width: 50%;}#sk-container-id-13 div.sk-parallel-item:only-child::after {width: 0;}#sk-container-id-13 div.sk-dashed-wrapped {border: 1px dashed gray;margin: 0 0.4em 0.5em 0.4em;box-sizing: border-box;padding-bottom: 0.4em;background-color: white;}#sk-container-id-13 div.sk-label label {font-family: monospace;font-weight: bold;display: inline-block;line-height: 1.2em;}#sk-container-id-13 div.sk-label-container {text-align: center;}#sk-container-id-13 div.sk-container {/* jupyter's `normalize.less` sets `[hidden] { display: none; }` but bootstrap.min.css set `[hidden] { display: none !important; }` so we also need the `!important` here to be able to override the default hidden behavior on the sphinx rendered scikit-learn.org. See: https://github.com/scikit-learn/scikit-learn/issues/21755 */display: inline-block !important;position: relative;}#sk-container-id-13 div.sk-text-repr-fallback {display: none;}</style><div id=\"sk-container-id-13\" class=\"sk-top-container\"><div class=\"sk-text-repr-fallback\"><pre>GridSearchCV(cv=10, error_score=&#x27;raise&#x27;,\n",
       "             estimator=XGBClassifier(base_score=None, booster=None,\n",
       "                                     callbacks=None, colsample_bylevel=None,\n",
       "                                     colsample_bynode=None,\n",
       "                                     colsample_bytree=None,\n",
       "                                     early_stopping_rounds=None,\n",
       "                                     enable_categorical=False, eval_metric=None,\n",
       "                                     feature_types=None, gamma=None,\n",
       "                                     gpu_id=None, grow_policy=None,\n",
       "                                     importance_type=None,\n",
       "                                     interaction_constraints=Non...\n",
       "                                     max_cat_threshold=None,\n",
       "                                     max_cat_to_onehot=None,\n",
       "                                     max_delta_step=None, max_depth=None,\n",
       "                                     max_leaves=None, min_child_weight=None,\n",
       "                                     missing=nan, monotone_constraints=None,\n",
       "                                     n_estimators=100, n_jobs=None,\n",
       "                                     num_parallel_tree=None, predictor=None,\n",
       "                                     random_state=2023, ...),\n",
       "             n_jobs=-1,\n",
       "             param_grid={&#x27;learning_rate&#x27;: [0.01, 0.1, 0.2], &#x27;max_depth&#x27;: [3, 4],\n",
       "                         &#x27;n_estimators&#x27;: [100, 200, 300, 400]},\n",
       "             verbose=3)</pre><b>In a Jupyter environment, please rerun this cell to show the HTML representation or trust the notebook. <br />On GitHub, the HTML representation is unable to render, please try loading this page with nbviewer.org.</b></div><div class=\"sk-container\" hidden><div class=\"sk-item sk-dashed-wrapped\"><div class=\"sk-label-container\"><div class=\"sk-label sk-toggleable\"><input class=\"sk-toggleable__control sk-hidden--visually\" id=\"sk-estimator-id-37\" type=\"checkbox\" ><label for=\"sk-estimator-id-37\" class=\"sk-toggleable__label sk-toggleable__label-arrow\">GridSearchCV</label><div class=\"sk-toggleable__content\"><pre>GridSearchCV(cv=10, error_score=&#x27;raise&#x27;,\n",
       "             estimator=XGBClassifier(base_score=None, booster=None,\n",
       "                                     callbacks=None, colsample_bylevel=None,\n",
       "                                     colsample_bynode=None,\n",
       "                                     colsample_bytree=None,\n",
       "                                     early_stopping_rounds=None,\n",
       "                                     enable_categorical=False, eval_metric=None,\n",
       "                                     feature_types=None, gamma=None,\n",
       "                                     gpu_id=None, grow_policy=None,\n",
       "                                     importance_type=None,\n",
       "                                     interaction_constraints=Non...\n",
       "                                     max_cat_threshold=None,\n",
       "                                     max_cat_to_onehot=None,\n",
       "                                     max_delta_step=None, max_depth=None,\n",
       "                                     max_leaves=None, min_child_weight=None,\n",
       "                                     missing=nan, monotone_constraints=None,\n",
       "                                     n_estimators=100, n_jobs=None,\n",
       "                                     num_parallel_tree=None, predictor=None,\n",
       "                                     random_state=2023, ...),\n",
       "             n_jobs=-1,\n",
       "             param_grid={&#x27;learning_rate&#x27;: [0.01, 0.1, 0.2], &#x27;max_depth&#x27;: [3, 4],\n",
       "                         &#x27;n_estimators&#x27;: [100, 200, 300, 400]},\n",
       "             verbose=3)</pre></div></div></div><div class=\"sk-parallel\"><div class=\"sk-parallel-item\"><div class=\"sk-item\"><div class=\"sk-label-container\"><div class=\"sk-label sk-toggleable\"><input class=\"sk-toggleable__control sk-hidden--visually\" id=\"sk-estimator-id-38\" type=\"checkbox\" ><label for=\"sk-estimator-id-38\" class=\"sk-toggleable__label sk-toggleable__label-arrow\">estimator: XGBClassifier</label><div class=\"sk-toggleable__content\"><pre>XGBClassifier(base_score=None, booster=None, callbacks=None,\n",
       "              colsample_bylevel=None, colsample_bynode=None,\n",
       "              colsample_bytree=None, early_stopping_rounds=None,\n",
       "              enable_categorical=False, eval_metric=None, feature_types=None,\n",
       "              gamma=None, gpu_id=None, grow_policy=None, importance_type=None,\n",
       "              interaction_constraints=None, learning_rate=None, max_bin=None,\n",
       "              max_cat_threshold=None, max_cat_to_onehot=None,\n",
       "              max_delta_step=None, max_depth=None, max_leaves=None,\n",
       "              min_child_weight=None, missing=nan, monotone_constraints=None,\n",
       "              n_estimators=100, n_jobs=None, num_parallel_tree=None,\n",
       "              predictor=None, random_state=2023, ...)</pre></div></div></div><div class=\"sk-serial\"><div class=\"sk-item\"><div class=\"sk-estimator sk-toggleable\"><input class=\"sk-toggleable__control sk-hidden--visually\" id=\"sk-estimator-id-39\" type=\"checkbox\" ><label for=\"sk-estimator-id-39\" class=\"sk-toggleable__label sk-toggleable__label-arrow\">XGBClassifier</label><div class=\"sk-toggleable__content\"><pre>XGBClassifier(base_score=None, booster=None, callbacks=None,\n",
       "              colsample_bylevel=None, colsample_bynode=None,\n",
       "              colsample_bytree=None, early_stopping_rounds=None,\n",
       "              enable_categorical=False, eval_metric=None, feature_types=None,\n",
       "              gamma=None, gpu_id=None, grow_policy=None, importance_type=None,\n",
       "              interaction_constraints=None, learning_rate=None, max_bin=None,\n",
       "              max_cat_threshold=None, max_cat_to_onehot=None,\n",
       "              max_delta_step=None, max_depth=None, max_leaves=None,\n",
       "              min_child_weight=None, missing=nan, monotone_constraints=None,\n",
       "              n_estimators=100, n_jobs=None, num_parallel_tree=None,\n",
       "              predictor=None, random_state=2023, ...)</pre></div></div></div></div></div></div></div></div></div></div>"
      ],
      "text/plain": [
       "GridSearchCV(cv=10, error_score='raise',\n",
       "             estimator=XGBClassifier(base_score=None, booster=None,\n",
       "                                     callbacks=None, colsample_bylevel=None,\n",
       "                                     colsample_bynode=None,\n",
       "                                     colsample_bytree=None,\n",
       "                                     early_stopping_rounds=None,\n",
       "                                     enable_categorical=False, eval_metric=None,\n",
       "                                     feature_types=None, gamma=None,\n",
       "                                     gpu_id=None, grow_policy=None,\n",
       "                                     importance_type=None,\n",
       "                                     interaction_constraints=Non...\n",
       "                                     max_cat_threshold=None,\n",
       "                                     max_cat_to_onehot=None,\n",
       "                                     max_delta_step=None, max_depth=None,\n",
       "                                     max_leaves=None, min_child_weight=None,\n",
       "                                     missing=nan, monotone_constraints=None,\n",
       "                                     n_estimators=100, n_jobs=None,\n",
       "                                     num_parallel_tree=None, predictor=None,\n",
       "                                     random_state=2023, ...),\n",
       "             n_jobs=-1,\n",
       "             param_grid={'learning_rate': [0.01, 0.1, 0.2], 'max_depth': [3, 4],\n",
       "                         'n_estimators': [100, 200, 300, 400]},\n",
       "             verbose=3)"
      ]
     },
     "execution_count": 183,
     "metadata": {},
     "output_type": "execute_result"
    }
   ],
   "source": [
    "param_grid = {\n",
    "    'learning_rate': [0.01, 0.1, 0.2],\n",
    "    'n_estimators': [100, 200, 300, 400],\n",
    "    'max_depth': [3, 4],\n",
    "    #'min_child_weight': [5, 6, 7],\n",
    "    #'colsample_bytree': [0.7, 0.8, 0.9], # 0 ou 0,2 ou 0.7\n",
    "    #'subsample': [0.7, 0.8, 0.9],\n",
    "    #'gamma': [0.5, 1, 1.5, 2, 5],\n",
    "}\n",
    "\n",
    "model = XGBClassifier(random_state=2023)\n",
    "\n",
    "f1_scorer = make_scorer(f1_score, average='weighted')\n",
    "\n",
    "grid_search = GridSearchCV(estimator=model, param_grid=param_grid, refit=True, cv=10, verbose=3, n_jobs=-1, error_score=\"raise\") # scoring='f1'\n",
    "grid_search.fit(X_train, y_train)\n"
   ]
  },
  {
   "cell_type": "markdown",
   "metadata": {},
   "source": [
    "Inspect the best parameters"
   ]
  },
  {
   "cell_type": "code",
   "execution_count": 184,
   "metadata": {},
   "outputs": [
    {
     "data": {
      "text/plain": [
       "{'learning_rate': 0.1, 'max_depth': 4, 'n_estimators': 200}"
      ]
     },
     "execution_count": 184,
     "metadata": {},
     "output_type": "execute_result"
    }
   ],
   "source": [
    "grid_search.best_params_ # Melhor : {'learning_rate': 0.1, 'max_depth': 4, 'n_estimators': 200}"
   ]
  },
  {
   "cell_type": "code",
   "execution_count": 185,
   "metadata": {},
   "outputs": [
    {
     "data": {
      "text/plain": [
       "0.8901496958980338"
      ]
     },
     "execution_count": 185,
     "metadata": {},
     "output_type": "execute_result"
    }
   ],
   "source": [
    "grid_search.best_score_ # Melhor : 0.8828894705820277 -> 20% | 0.8818555405468975 -> 30 % | 0.8821124810057649 -> 25 %"
   ]
  },
  {
   "cell_type": "markdown",
   "metadata": {},
   "source": [
    "Get the best estimator"
   ]
  },
  {
   "cell_type": "code",
   "execution_count": 186,
   "metadata": {},
   "outputs": [],
   "source": [
    "model = grid_search.best_estimator_"
   ]
  },
  {
   "cell_type": "markdown",
   "metadata": {},
   "source": [
    "Get the predictions using the trained model"
   ]
  },
  {
   "cell_type": "code",
   "execution_count": 187,
   "metadata": {},
   "outputs": [],
   "source": [
    "predictions = model.predict(X_test)"
   ]
  },
  {
   "cell_type": "markdown",
   "metadata": {},
   "source": [
    "#### Model Evaluation"
   ]
  },
  {
   "cell_type": "markdown",
   "metadata": {},
   "source": [
    "Classification report"
   ]
  },
  {
   "cell_type": "code",
   "execution_count": 188,
   "metadata": {},
   "outputs": [
    {
     "name": "stdout",
     "output_type": "stream",
     "text": [
      "              precision    recall  f1-score   support\n",
      "\n",
      "           0       0.97      0.98      0.98      1556\n",
      "           1       0.49      0.30      0.37        86\n",
      "           2       0.65      0.67      0.66       220\n",
      "           3       0.73      0.77      0.75       221\n",
      "           4       0.84      0.83      0.83       121\n",
      "\n",
      "    accuracy                           0.89      2204\n",
      "   macro avg       0.74      0.71      0.72      2204\n",
      "weighted avg       0.89      0.89      0.89      2204\n",
      "\n"
     ]
    }
   ],
   "source": [
    "print(classification_report(y_test, predictions))"
   ]
  },
  {
   "cell_type": "markdown",
   "metadata": {},
   "source": [
    "Accuracy Score"
   ]
  },
  {
   "cell_type": "code",
   "execution_count": 189,
   "metadata": {},
   "outputs": [
    {
     "data": {
      "text/plain": [
       "0.8938294010889292"
      ]
     },
     "execution_count": 189,
     "metadata": {},
     "output_type": "execute_result"
    }
   ],
   "source": [
    "accuracy_score(y_test, predictions) # Melhor : 0.8906533575317604 -> 20 % | 0.886232980332829 -> 30 % | 0.8892519970951344 -> 25 % | Binary : 0.8907044299201162 -> 25%"
   ]
  },
  {
   "cell_type": "markdown",
   "metadata": {},
   "source": [
    "Confusion Matrix"
   ]
  },
  {
   "cell_type": "code",
   "execution_count": 190,
   "metadata": {},
   "outputs": [
    {
     "data": {
      "image/png": "[encoded data removed]",
      "text/plain": [
       "<Figure size 640x480 with 2 Axes>"
      ]
     },
     "metadata": {},
     "output_type": "display_data"
    }
   ],
   "source": [
    "ConfusionMatrixDisplay.from_predictions(y_test, predictions)\n",
    "plt.show()"
   ]
  },
  {
   "cell_type": "code",
   "execution_count": 191,
   "metadata": {},
   "outputs": [],
   "source": [
    "df_test = pd.read_csv('../../../datasets/parte2/teste/dataset_prepared.csv')\n",
    "predictions_teste = model.predict(df_test)"
   ]
  },
  {
   "cell_type": "code",
   "execution_count": 192,
   "metadata": {},
   "outputs": [],
   "source": [
    "df_predictions = pd.DataFrame({'Result': predictions_teste})\n",
    "df_predictions['RowId'] = range(1, len(predictions_teste) + 1)\n",
    "df_predictions = df_predictions[['RowId', 'Result']]\n",
    "\n",
    "replace_map = { 0:'None', 1:'Low', 2:'Medium', 3:'High', 4:'Very High'} \n",
    "\n",
    "df_predictions['Result'] = df_predictions['Result'].replace(replace_map)\n",
    "\n",
    "df_predictions.to_csv('../../../datasets/parte2/teste/kaggle-xgboost-cv10-wdescription-80-stratified-ohe.csv', index=False)"
   ]
  }
 ],
 "metadata": {
  "kernelspec": {
   "display_name": "Python 3.10.13 ('daa1')",
   "language": "python",
   "name": "python3"
  },
  "language_info": {
   "codemirror_mode": {
    "name": "ipython",
    "version": 3
   },
   "file_extension": ".py",
   "mimetype": "text/x-python",
   "name": "python",
   "nbconvert_exporter": "python",
   "pygments_lexer": "ipython3",
   "version": "3.10.13"
  },
  "orig_nbformat": 4,
  "vscode": {
   "interpreter": {
    "hash": "b591d187f37fd73410aa6677fb7622cf9fb1a6dcb0be9eb075fceec3f912c4c8"
   }
  }
 },
 "nbformat": 4,
 "nbformat_minor": 2
}
