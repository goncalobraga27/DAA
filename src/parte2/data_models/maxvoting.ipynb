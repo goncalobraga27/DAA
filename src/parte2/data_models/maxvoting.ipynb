{
 "cells": [
  {
   "cell_type": "markdown",
   "metadata": {},
   "source": [
    "# Max Voting"
   ]
  },
  {
   "cell_type": "code",
   "execution_count": 180,
   "metadata": {},
   "outputs": [],
   "source": [
    "import matplotlib.pyplot as plt\n",
    "import pandas as pd\n",
    "from xgboost import XGBClassifier\n",
    "import tensorflow as tf \n",
    "from tensorflow import keras \n",
    "from tensorflow.keras.models import Sequential\n",
    "from tensorflow.keras.layers import Dense, Dropout\n",
    "from scikeras.wrappers import KerasClassifier\n",
    "from sklearn.preprocessing import MinMaxScaler\n",
    "from sklearn.model_selection import train_test_split\n",
    "from sklearn.metrics import classification_report\n",
    "from sklearn.ensemble import VotingClassifier"
   ]
  },
  {
   "cell_type": "markdown",
   "metadata": {},
   "source": [
    "#### Read data"
   ]
  },
  {
   "cell_type": "code",
   "execution_count": 181,
   "metadata": {},
   "outputs": [],
   "source": [
    "df = pd.read_csv('../../../datasets/parte2/treino/dataset_prepared.csv', na_filter=False)"
   ]
  },
  {
   "cell_type": "code",
   "execution_count": 182,
   "metadata": {},
   "outputs": [],
   "source": [
    "replace_map = {'None':0, 'Low':1, 'Medium':2, 'High':3, 'Very High':4}\n",
    "\n",
    "df['injection'] = df['injection'].replace(replace_map).astype(int)"
   ]
  },
  {
   "cell_type": "markdown",
   "metadata": {},
   "source": [
    "#### X and y arrays"
   ]
  },
  {
   "cell_type": "code",
   "execution_count": 183,
   "metadata": {},
   "outputs": [],
   "source": [
    "X = df.drop(['injection'], axis=1)\n",
    "y = df[['injection']]"
   ]
  },
  {
   "cell_type": "markdown",
   "metadata": {},
   "source": [
    "#### Train Test Split\n",
    "\n",
    "Now let's split the data into a training set and a testing set. We will train out model on the training set and then use the test set to evaluate the model."
   ]
  },
  {
   "cell_type": "code",
   "execution_count": 184,
   "metadata": {},
   "outputs": [],
   "source": [
    "X_train, X_test, y_train, y_test = train_test_split(X, y, test_size=0.25, random_state=2023, stratify=y)"
   ]
  },
  {
   "cell_type": "markdown",
   "metadata": {},
   "source": [
    "## XGBoost"
   ]
  },
  {
   "cell_type": "markdown",
   "metadata": {},
   "source": [
    "#### Training \n",
    "\n",
    "Using GridSearchCV to find the best hyperparameters"
   ]
  },
  {
   "cell_type": "code",
   "execution_count": 185,
   "metadata": {},
   "outputs": [],
   "source": [
    "xgb_model = XGBClassifier(random_state=2023, learning_rate=0.1, max_depth=4, n_estimators=200)"
   ]
  },
  {
   "cell_type": "code",
   "execution_count": 186,
   "metadata": {},
   "outputs": [
    {
     "data": {
      "text/html": [
       "<style>#sk-container-id-14 {color: black;}#sk-container-id-14 pre{padding: 0;}#sk-container-id-14 div.sk-toggleable {background-color: white;}#sk-container-id-14 label.sk-toggleable__label {cursor: pointer;display: block;width: 100%;margin-bottom: 0;padding: 0.3em;box-sizing: border-box;text-align: center;}#sk-container-id-14 label.sk-toggleable__label-arrow:before {content: \"▸\";float: left;margin-right: 0.25em;color: #696969;}#sk-container-id-14 label.sk-toggleable__label-arrow:hover:before {color: black;}#sk-container-id-14 div.sk-estimator:hover label.sk-toggleable__label-arrow:before {color: black;}#sk-container-id-14 div.sk-toggleable__content {max-height: 0;max-width: 0;overflow: hidden;text-align: left;background-color: #f0f8ff;}#sk-container-id-14 div.sk-toggleable__content pre {margin: 0.2em;color: black;border-radius: 0.25em;background-color: #f0f8ff;}#sk-container-id-14 input.sk-toggleable__control:checked~div.sk-toggleable__content {max-height: 200px;max-width: 100%;overflow: auto;}#sk-container-id-14 input.sk-toggleable__control:checked~label.sk-toggleable__label-arrow:before {content: \"▾\";}#sk-container-id-14 div.sk-estimator input.sk-toggleable__control:checked~label.sk-toggleable__label {background-color: #d4ebff;}#sk-container-id-14 div.sk-label input.sk-toggleable__control:checked~label.sk-toggleable__label {background-color: #d4ebff;}#sk-container-id-14 input.sk-hidden--visually {border: 0;clip: rect(1px 1px 1px 1px);clip: rect(1px, 1px, 1px, 1px);height: 1px;margin: -1px;overflow: hidden;padding: 0;position: absolute;width: 1px;}#sk-container-id-14 div.sk-estimator {font-family: monospace;background-color: #f0f8ff;border: 1px dotted black;border-radius: 0.25em;box-sizing: border-box;margin-bottom: 0.5em;}#sk-container-id-14 div.sk-estimator:hover {background-color: #d4ebff;}#sk-container-id-14 div.sk-parallel-item::after {content: \"\";width: 100%;border-bottom: 1px solid gray;flex-grow: 1;}#sk-container-id-14 div.sk-label:hover label.sk-toggleable__label {background-color: #d4ebff;}#sk-container-id-14 div.sk-serial::before {content: \"\";position: absolute;border-left: 1px solid gray;box-sizing: border-box;top: 0;bottom: 0;left: 50%;z-index: 0;}#sk-container-id-14 div.sk-serial {display: flex;flex-direction: column;align-items: center;background-color: white;padding-right: 0.2em;padding-left: 0.2em;position: relative;}#sk-container-id-14 div.sk-item {position: relative;z-index: 1;}#sk-container-id-14 div.sk-parallel {display: flex;align-items: stretch;justify-content: center;background-color: white;position: relative;}#sk-container-id-14 div.sk-item::before, #sk-container-id-14 div.sk-parallel-item::before {content: \"\";position: absolute;border-left: 1px solid gray;box-sizing: border-box;top: 0;bottom: 0;left: 50%;z-index: -1;}#sk-container-id-14 div.sk-parallel-item {display: flex;flex-direction: column;z-index: 1;position: relative;background-color: white;}#sk-container-id-14 div.sk-parallel-item:first-child::after {align-self: flex-end;width: 50%;}#sk-container-id-14 div.sk-parallel-item:last-child::after {align-self: flex-start;width: 50%;}#sk-container-id-14 div.sk-parallel-item:only-child::after {width: 0;}#sk-container-id-14 div.sk-dashed-wrapped {border: 1px dashed gray;margin: 0 0.4em 0.5em 0.4em;box-sizing: border-box;padding-bottom: 0.4em;background-color: white;}#sk-container-id-14 div.sk-label label {font-family: monospace;font-weight: bold;display: inline-block;line-height: 1.2em;}#sk-container-id-14 div.sk-label-container {text-align: center;}#sk-container-id-14 div.sk-container {/* jupyter's `normalize.less` sets `[hidden] { display: none; }` but bootstrap.min.css set `[hidden] { display: none !important; }` so we also need the `!important` here to be able to override the default hidden behavior on the sphinx rendered scikit-learn.org. See: https://github.com/scikit-learn/scikit-learn/issues/21755 */display: inline-block !important;position: relative;}#sk-container-id-14 div.sk-text-repr-fallback {display: none;}</style><div id=\"sk-container-id-14\" class=\"sk-top-container\"><div class=\"sk-text-repr-fallback\"><pre>XGBClassifier(base_score=None, booster=None, callbacks=None,\n",
       "              colsample_bylevel=None, colsample_bynode=None,\n",
       "              colsample_bytree=None, early_stopping_rounds=None,\n",
       "              enable_categorical=False, eval_metric=None, feature_types=None,\n",
       "              gamma=None, gpu_id=None, grow_policy=None, importance_type=None,\n",
       "              interaction_constraints=None, learning_rate=0.1, max_bin=None,\n",
       "              max_cat_threshold=None, max_cat_to_onehot=None,\n",
       "              max_delta_step=None, max_depth=4, max_leaves=None,\n",
       "              min_child_weight=None, missing=nan, monotone_constraints=None,\n",
       "              n_estimators=200, n_jobs=None, num_parallel_tree=None,\n",
       "              objective=&#x27;multi:softprob&#x27;, predictor=None, ...)</pre><b>In a Jupyter environment, please rerun this cell to show the HTML representation or trust the notebook. <br />On GitHub, the HTML representation is unable to render, please try loading this page with nbviewer.org.</b></div><div class=\"sk-container\" hidden><div class=\"sk-item\"><div class=\"sk-estimator sk-toggleable\"><input class=\"sk-toggleable__control sk-hidden--visually\" id=\"sk-estimator-id-14\" type=\"checkbox\" checked><label for=\"sk-estimator-id-14\" class=\"sk-toggleable__label sk-toggleable__label-arrow\">XGBClassifier</label><div class=\"sk-toggleable__content\"><pre>XGBClassifier(base_score=None, booster=None, callbacks=None,\n",
       "              colsample_bylevel=None, colsample_bynode=None,\n",
       "              colsample_bytree=None, early_stopping_rounds=None,\n",
       "              enable_categorical=False, eval_metric=None, feature_types=None,\n",
       "              gamma=None, gpu_id=None, grow_policy=None, importance_type=None,\n",
       "              interaction_constraints=None, learning_rate=0.1, max_bin=None,\n",
       "              max_cat_threshold=None, max_cat_to_onehot=None,\n",
       "              max_delta_step=None, max_depth=4, max_leaves=None,\n",
       "              min_child_weight=None, missing=nan, monotone_constraints=None,\n",
       "              n_estimators=200, n_jobs=None, num_parallel_tree=None,\n",
       "              objective=&#x27;multi:softprob&#x27;, predictor=None, ...)</pre></div></div></div></div></div>"
      ],
      "text/plain": [
       "XGBClassifier(base_score=None, booster=None, callbacks=None,\n",
       "              colsample_bylevel=None, colsample_bynode=None,\n",
       "              colsample_bytree=None, early_stopping_rounds=None,\n",
       "              enable_categorical=False, eval_metric=None, feature_types=None,\n",
       "              gamma=None, gpu_id=None, grow_policy=None, importance_type=None,\n",
       "              interaction_constraints=None, learning_rate=0.1, max_bin=None,\n",
       "              max_cat_threshold=None, max_cat_to_onehot=None,\n",
       "              max_delta_step=None, max_depth=4, max_leaves=None,\n",
       "              min_child_weight=None, missing=nan, monotone_constraints=None,\n",
       "              n_estimators=200, n_jobs=None, num_parallel_tree=None,\n",
       "              objective='multi:softprob', predictor=None, ...)"
      ]
     },
     "execution_count": 186,
     "metadata": {},
     "output_type": "execute_result"
    }
   ],
   "source": [
    "xgb_model.fit(X_train, y_train)"
   ]
  },
  {
   "cell_type": "markdown",
   "metadata": {},
   "source": [
    "## Neural Networks"
   ]
  },
  {
   "cell_type": "markdown",
   "metadata": {},
   "source": [
    "### Normalization"
   ]
  },
  {
   "cell_type": "code",
   "execution_count": 187,
   "metadata": {},
   "outputs": [],
   "source": [
    "scaler_X = MinMaxScaler(feature_range=(0, 1)).fit(X)\n",
    "X_train = pd.DataFrame(scaler_X.transform(X_train[X_train.columns]), columns=X_train.columns)\n",
    "\n",
    "#y = pd.DataFrame(scaler_y.transform(y[y.columns]), columns=y.columns)\n",
    "\n",
    "X_test = pd.DataFrame(scaler_X.transform(X_test[X_test.columns]), columns=X_test.columns)"
   ]
  },
  {
   "cell_type": "markdown",
   "metadata": {},
   "source": [
    "#### Train Test Split\n",
    "\n",
    "Now let's split the data into a training set and a testing set. We will train out model on the training set and then use the test set to evaluate the model."
   ]
  },
  {
   "cell_type": "code",
   "execution_count": 188,
   "metadata": {},
   "outputs": [],
   "source": [
    "num_classes = 5\n",
    "y_train = tf.keras.utils.to_categorical(y_train, num_classes)\n",
    "y_test = tf.keras.utils.to_categorical(y_test, num_classes)"
   ]
  },
  {
   "cell_type": "code",
   "execution_count": 189,
   "metadata": {},
   "outputs": [],
   "source": [
    "def build_model(activation='relu', learning_rate=0.005, dropout_rate=0.1):\n",
    "    ann_model = Sequential()\n",
    "    ann_model.add(Dense(64, input_dim=X_train.shape[1], activation=activation))\n",
    "    ann_model.add(Dropout(dropout_rate))  # Adiciona Dropout após a primeira camada densa\n",
    "    ann_model.add(Dense(32, activation=activation))\n",
    "    ann_model.add(Dropout(dropout_rate))  # Adiciona Dropout após a segunda camada densa\n",
    "    ann_model.add(Dense(5, activation='softmax')) # output \n",
    "    \n",
    "    #Compile the model\n",
    "    ann_model.compile(\n",
    "    loss = 'categorical_crossentropy',\n",
    "    optimizer = 'adam',\n",
    "    metrics = ['accuracy'])\n",
    "\n",
    "    return ann_model "
   ]
  },
  {
   "cell_type": "code",
   "execution_count": 190,
   "metadata": {},
   "outputs": [
    {
     "name": "stdout",
     "output_type": "stream",
     "text": [
      "Model: \"sequential_20\"\n",
      "_________________________________________________________________\n",
      " Layer (type)                Output Shape              Param #   \n",
      "=================================================================\n",
      " dense_60 (Dense)            (None, 64)                1408      \n",
      "                                                                 \n",
      " dropout_40 (Dropout)        (None, 64)                0         \n",
      "                                                                 \n",
      " dense_61 (Dense)            (None, 32)                2080      \n",
      "                                                                 \n",
      " dropout_41 (Dropout)        (None, 32)                0         \n",
      "                                                                 \n",
      " dense_62 (Dense)            (None, 5)                 165       \n",
      "                                                                 \n",
      "=================================================================\n",
      "Total params: 3,653\n",
      "Trainable params: 3,653\n",
      "Non-trainable params: 0\n",
      "_________________________________________________________________\n"
     ]
    }
   ],
   "source": [
    "ann_model = build_model()\n",
    "ann_model.summary()"
   ]
  },
  {
   "cell_type": "code",
   "execution_count": 191,
   "metadata": {},
   "outputs": [],
   "source": [
    "ann_model = KerasClassifier(build_fn=build_model, batch_size=32, validation_split=0.2, epochs=100)"
   ]
  },
  {
   "cell_type": "code",
   "execution_count": 192,
   "metadata": {},
   "outputs": [
    {
     "name": "stdout",
     "output_type": "stream",
     "text": [
      "Epoch 1/100\n"
     ]
    },
    {
     "name": "stderr",
     "output_type": "stream",
     "text": [
      "/home/gabs/.conda/envs/daa1/lib/python3.10/site-packages/scikeras/wrappers.py:915: UserWarning: ``build_fn`` will be renamed to ``model`` in a future release, at which point use of ``build_fn`` will raise an Error instead.\n",
      "  X, y = self._initialize(X, y)\n"
     ]
    },
    {
     "name": "stdout",
     "output_type": "stream",
     "text": [
      "259/259 [==============================] - 1s 4ms/step - loss: 0.8021 - accuracy: 0.7274 - val_loss: 0.5713 - val_accuracy: 0.7683\n",
      "Epoch 2/100\n",
      "259/259 [==============================] - 1s 4ms/step - loss: 0.5331 - accuracy: 0.7866 - val_loss: 0.4668 - val_accuracy: 0.8057\n",
      "Epoch 3/100\n",
      "259/259 [==============================] - 1s 5ms/step - loss: 0.4778 - accuracy: 0.8023 - val_loss: 0.4359 - val_accuracy: 0.8174\n",
      "Epoch 4/100\n",
      "259/259 [==============================] - 1s 3ms/step - loss: 0.4565 - accuracy: 0.8088 - val_loss: 0.4342 - val_accuracy: 0.8199\n",
      "Epoch 5/100\n",
      "259/259 [==============================] - 1s 5ms/step - loss: 0.4428 - accuracy: 0.8142 - val_loss: 0.4126 - val_accuracy: 0.8268\n",
      "Epoch 6/100\n",
      "259/259 [==============================] - 1s 3ms/step - loss: 0.4292 - accuracy: 0.8160 - val_loss: 0.4015 - val_accuracy: 0.8315\n",
      "Epoch 7/100\n",
      "259/259 [==============================] - 1s 4ms/step - loss: 0.4205 - accuracy: 0.8204 - val_loss: 0.3925 - val_accuracy: 0.8330\n",
      "Epoch 8/100\n",
      "259/259 [==============================] - 1s 5ms/step - loss: 0.4124 - accuracy: 0.8200 - val_loss: 0.3860 - val_accuracy: 0.8413\n",
      "Epoch 9/100\n",
      "259/259 [==============================] - 1s 3ms/step - loss: 0.4004 - accuracy: 0.8262 - val_loss: 0.3827 - val_accuracy: 0.8370\n",
      "Epoch 10/100\n",
      "259/259 [==============================] - 1s 4ms/step - loss: 0.3986 - accuracy: 0.8235 - val_loss: 0.3745 - val_accuracy: 0.8424\n",
      "Epoch 11/100\n",
      "259/259 [==============================] - 2s 6ms/step - loss: 0.3878 - accuracy: 0.8284 - val_loss: 0.3787 - val_accuracy: 0.8399\n",
      "Epoch 12/100\n",
      "259/259 [==============================] - 1s 5ms/step - loss: 0.3853 - accuracy: 0.8279 - val_loss: 0.3754 - val_accuracy: 0.8388\n",
      "Epoch 13/100\n",
      "259/259 [==============================] - 1s 5ms/step - loss: 0.3778 - accuracy: 0.8312 - val_loss: 0.3678 - val_accuracy: 0.8420\n",
      "Epoch 14/100\n",
      "259/259 [==============================] - 2s 6ms/step - loss: 0.3768 - accuracy: 0.8297 - val_loss: 0.3637 - val_accuracy: 0.8464\n",
      "Epoch 15/100\n",
      "259/259 [==============================] - 2s 6ms/step - loss: 0.3703 - accuracy: 0.8365 - val_loss: 0.3611 - val_accuracy: 0.8413\n",
      "Epoch 16/100\n",
      "259/259 [==============================] - 1s 5ms/step - loss: 0.3695 - accuracy: 0.8342 - val_loss: 0.3645 - val_accuracy: 0.8453\n",
      "Epoch 17/100\n",
      "259/259 [==============================] - 2s 7ms/step - loss: 0.3689 - accuracy: 0.8361 - val_loss: 0.3661 - val_accuracy: 0.8402\n",
      "Epoch 18/100\n",
      "259/259 [==============================] - 1s 5ms/step - loss: 0.3627 - accuracy: 0.8389 - val_loss: 0.3630 - val_accuracy: 0.8420\n",
      "Epoch 19/100\n",
      "259/259 [==============================] - 1s 5ms/step - loss: 0.3599 - accuracy: 0.8419 - val_loss: 0.3615 - val_accuracy: 0.8435\n",
      "Epoch 20/100\n",
      "259/259 [==============================] - 1s 4ms/step - loss: 0.3609 - accuracy: 0.8402 - val_loss: 0.3490 - val_accuracy: 0.8566\n",
      "Epoch 21/100\n",
      "259/259 [==============================] - 1s 4ms/step - loss: 0.3545 - accuracy: 0.8425 - val_loss: 0.3542 - val_accuracy: 0.8526\n",
      "Epoch 22/100\n",
      "259/259 [==============================] - 1s 5ms/step - loss: 0.3524 - accuracy: 0.8425 - val_loss: 0.3495 - val_accuracy: 0.8489\n",
      "Epoch 23/100\n",
      "259/259 [==============================] - 2s 6ms/step - loss: 0.3486 - accuracy: 0.8476 - val_loss: 0.3432 - val_accuracy: 0.8508\n",
      "Epoch 24/100\n",
      "259/259 [==============================] - 1s 5ms/step - loss: 0.3419 - accuracy: 0.8479 - val_loss: 0.3433 - val_accuracy: 0.8504\n",
      "Epoch 25/100\n",
      "259/259 [==============================] - 1s 5ms/step - loss: 0.3408 - accuracy: 0.8496 - val_loss: 0.3415 - val_accuracy: 0.8500\n",
      "Epoch 26/100\n",
      "259/259 [==============================] - 1s 5ms/step - loss: 0.3432 - accuracy: 0.8511 - val_loss: 0.3435 - val_accuracy: 0.8515\n",
      "Epoch 27/100\n",
      "259/259 [==============================] - 2s 6ms/step - loss: 0.3422 - accuracy: 0.8469 - val_loss: 0.3403 - val_accuracy: 0.8551\n",
      "Epoch 28/100\n",
      "259/259 [==============================] - 1s 5ms/step - loss: 0.3336 - accuracy: 0.8510 - val_loss: 0.3371 - val_accuracy: 0.8573\n",
      "Epoch 29/100\n",
      "259/259 [==============================] - 1s 5ms/step - loss: 0.3340 - accuracy: 0.8525 - val_loss: 0.3358 - val_accuracy: 0.8569\n",
      "Epoch 30/100\n",
      "259/259 [==============================] - 1s 6ms/step - loss: 0.3278 - accuracy: 0.8585 - val_loss: 0.3394 - val_accuracy: 0.8508\n",
      "Epoch 31/100\n",
      "259/259 [==============================] - 1s 5ms/step - loss: 0.3266 - accuracy: 0.8586 - val_loss: 0.3288 - val_accuracy: 0.8566\n",
      "Epoch 32/100\n",
      "259/259 [==============================] - 1s 6ms/step - loss: 0.3240 - accuracy: 0.8588 - val_loss: 0.3260 - val_accuracy: 0.8602\n",
      "Epoch 33/100\n",
      "259/259 [==============================] - 2s 6ms/step - loss: 0.3292 - accuracy: 0.8543 - val_loss: 0.3286 - val_accuracy: 0.8609\n",
      "Epoch 34/100\n",
      "259/259 [==============================] - 1s 4ms/step - loss: 0.3180 - accuracy: 0.8624 - val_loss: 0.3241 - val_accuracy: 0.8551\n",
      "Epoch 35/100\n",
      "259/259 [==============================] - 1s 4ms/step - loss: 0.3212 - accuracy: 0.8563 - val_loss: 0.3242 - val_accuracy: 0.8591\n",
      "Epoch 36/100\n",
      "259/259 [==============================] - 1s 5ms/step - loss: 0.3208 - accuracy: 0.8579 - val_loss: 0.3252 - val_accuracy: 0.8577\n",
      "Epoch 37/100\n",
      "259/259 [==============================] - 1s 5ms/step - loss: 0.3132 - accuracy: 0.8608 - val_loss: 0.3215 - val_accuracy: 0.8613\n",
      "Epoch 38/100\n",
      "259/259 [==============================] - 1s 5ms/step - loss: 0.3175 - accuracy: 0.8638 - val_loss: 0.3230 - val_accuracy: 0.8595\n",
      "Epoch 39/100\n",
      "259/259 [==============================] - 1s 4ms/step - loss: 0.3117 - accuracy: 0.8640 - val_loss: 0.3157 - val_accuracy: 0.8617\n",
      "Epoch 40/100\n",
      "259/259 [==============================] - 1s 4ms/step - loss: 0.3101 - accuracy: 0.8667 - val_loss: 0.3148 - val_accuracy: 0.8620\n",
      "Epoch 41/100\n",
      "259/259 [==============================] - 1s 5ms/step - loss: 0.3085 - accuracy: 0.8673 - val_loss: 0.3159 - val_accuracy: 0.8595\n",
      "Epoch 42/100\n",
      "259/259 [==============================] - 2s 7ms/step - loss: 0.3071 - accuracy: 0.8659 - val_loss: 0.3267 - val_accuracy: 0.8606\n",
      "Epoch 43/100\n",
      "259/259 [==============================] - 1s 5ms/step - loss: 0.3040 - accuracy: 0.8649 - val_loss: 0.3100 - val_accuracy: 0.8638\n",
      "Epoch 44/100\n",
      "259/259 [==============================] - 2s 7ms/step - loss: 0.3056 - accuracy: 0.8663 - val_loss: 0.3142 - val_accuracy: 0.8642\n",
      "Epoch 45/100\n",
      "259/259 [==============================] - 1s 5ms/step - loss: 0.3030 - accuracy: 0.8684 - val_loss: 0.3102 - val_accuracy: 0.8689\n",
      "Epoch 46/100\n",
      "259/259 [==============================] - 1s 5ms/step - loss: 0.2964 - accuracy: 0.8741 - val_loss: 0.3082 - val_accuracy: 0.8671\n",
      "Epoch 47/100\n",
      "259/259 [==============================] - 1s 5ms/step - loss: 0.3019 - accuracy: 0.8699 - val_loss: 0.3078 - val_accuracy: 0.8638\n",
      "Epoch 48/100\n",
      "259/259 [==============================] - 1s 5ms/step - loss: 0.3011 - accuracy: 0.8707 - val_loss: 0.3054 - val_accuracy: 0.8707\n",
      "Epoch 49/100\n",
      "259/259 [==============================] - 1s 5ms/step - loss: 0.2956 - accuracy: 0.8725 - val_loss: 0.3131 - val_accuracy: 0.8725\n",
      "Epoch 50/100\n",
      "259/259 [==============================] - 1s 5ms/step - loss: 0.2971 - accuracy: 0.8730 - val_loss: 0.3069 - val_accuracy: 0.8664\n",
      "Epoch 51/100\n",
      "259/259 [==============================] - 1s 5ms/step - loss: 0.3005 - accuracy: 0.8672 - val_loss: 0.3041 - val_accuracy: 0.8671\n",
      "Epoch 52/100\n",
      "259/259 [==============================] - 1s 5ms/step - loss: 0.2941 - accuracy: 0.8683 - val_loss: 0.3128 - val_accuracy: 0.8686\n",
      "Epoch 53/100\n",
      "259/259 [==============================] - 2s 7ms/step - loss: 0.2932 - accuracy: 0.8710 - val_loss: 0.3246 - val_accuracy: 0.8653\n",
      "Epoch 54/100\n",
      "259/259 [==============================] - 2s 6ms/step - loss: 0.2965 - accuracy: 0.8699 - val_loss: 0.3068 - val_accuracy: 0.8678\n",
      "Epoch 55/100\n",
      "259/259 [==============================] - 2s 8ms/step - loss: 0.2972 - accuracy: 0.8701 - val_loss: 0.3097 - val_accuracy: 0.8689\n",
      "Epoch 56/100\n",
      "259/259 [==============================] - 2s 8ms/step - loss: 0.2907 - accuracy: 0.8763 - val_loss: 0.2964 - val_accuracy: 0.8711\n",
      "Epoch 57/100\n",
      "259/259 [==============================] - 2s 6ms/step - loss: 0.2901 - accuracy: 0.8786 - val_loss: 0.3059 - val_accuracy: 0.8744\n",
      "Epoch 58/100\n",
      "259/259 [==============================] - 2s 6ms/step - loss: 0.2885 - accuracy: 0.8734 - val_loss: 0.3075 - val_accuracy: 0.8700\n",
      "Epoch 59/100\n",
      "259/259 [==============================] - 1s 6ms/step - loss: 0.2889 - accuracy: 0.8757 - val_loss: 0.3018 - val_accuracy: 0.8696\n",
      "Epoch 60/100\n",
      "259/259 [==============================] - 2s 7ms/step - loss: 0.2872 - accuracy: 0.8759 - val_loss: 0.3030 - val_accuracy: 0.8656\n",
      "Epoch 61/100\n",
      "259/259 [==============================] - 2s 7ms/step - loss: 0.2837 - accuracy: 0.8788 - val_loss: 0.3050 - val_accuracy: 0.8715\n",
      "Epoch 62/100\n",
      "259/259 [==============================] - 2s 7ms/step - loss: 0.2853 - accuracy: 0.8776 - val_loss: 0.3123 - val_accuracy: 0.8617\n",
      "Epoch 63/100\n",
      "259/259 [==============================] - 1s 5ms/step - loss: 0.2841 - accuracy: 0.8769 - val_loss: 0.2982 - val_accuracy: 0.8707\n",
      "Epoch 64/100\n",
      "259/259 [==============================] - 1s 4ms/step - loss: 0.2830 - accuracy: 0.8742 - val_loss: 0.3022 - val_accuracy: 0.8667\n",
      "Epoch 65/100\n",
      "259/259 [==============================] - 1s 5ms/step - loss: 0.2830 - accuracy: 0.8765 - val_loss: 0.3133 - val_accuracy: 0.8664\n",
      "Epoch 66/100\n",
      "259/259 [==============================] - 2s 7ms/step - loss: 0.2859 - accuracy: 0.8794 - val_loss: 0.2988 - val_accuracy: 0.8675\n",
      "Epoch 67/100\n",
      "259/259 [==============================] - 1s 5ms/step - loss: 0.2832 - accuracy: 0.8781 - val_loss: 0.2998 - val_accuracy: 0.8736\n",
      "Epoch 68/100\n",
      "259/259 [==============================] - 2s 6ms/step - loss: 0.2805 - accuracy: 0.8791 - val_loss: 0.3006 - val_accuracy: 0.8711\n",
      "Epoch 69/100\n",
      "259/259 [==============================] - 1s 5ms/step - loss: 0.2779 - accuracy: 0.8799 - val_loss: 0.2973 - val_accuracy: 0.8689\n",
      "Epoch 70/100\n",
      "259/259 [==============================] - 1s 5ms/step - loss: 0.2785 - accuracy: 0.8801 - val_loss: 0.2997 - val_accuracy: 0.8762\n",
      "Epoch 71/100\n",
      "259/259 [==============================] - 1s 5ms/step - loss: 0.2826 - accuracy: 0.8742 - val_loss: 0.2980 - val_accuracy: 0.8733\n",
      "Epoch 72/100\n",
      "259/259 [==============================] - 1s 5ms/step - loss: 0.2785 - accuracy: 0.8805 - val_loss: 0.2928 - val_accuracy: 0.8729\n",
      "Epoch 73/100\n",
      "259/259 [==============================] - 1s 5ms/step - loss: 0.2755 - accuracy: 0.8819 - val_loss: 0.3003 - val_accuracy: 0.8725\n",
      "Epoch 74/100\n",
      "259/259 [==============================] - 1s 5ms/step - loss: 0.2738 - accuracy: 0.8801 - val_loss: 0.2995 - val_accuracy: 0.8696\n",
      "Epoch 75/100\n",
      "259/259 [==============================] - 2s 7ms/step - loss: 0.2742 - accuracy: 0.8799 - val_loss: 0.2975 - val_accuracy: 0.8696\n",
      "Epoch 76/100\n",
      "259/259 [==============================] - 2s 8ms/step - loss: 0.2753 - accuracy: 0.8802 - val_loss: 0.3012 - val_accuracy: 0.8733\n",
      "Epoch 77/100\n",
      "259/259 [==============================] - 1s 5ms/step - loss: 0.2730 - accuracy: 0.8793 - val_loss: 0.3068 - val_accuracy: 0.8675\n",
      "Epoch 78/100\n",
      "259/259 [==============================] - 2s 6ms/step - loss: 0.2721 - accuracy: 0.8805 - val_loss: 0.3240 - val_accuracy: 0.8624\n",
      "Epoch 79/100\n",
      "259/259 [==============================] - 1s 6ms/step - loss: 0.2738 - accuracy: 0.8813 - val_loss: 0.2959 - val_accuracy: 0.8762\n",
      "Epoch 80/100\n",
      "259/259 [==============================] - 1s 5ms/step - loss: 0.2737 - accuracy: 0.8804 - val_loss: 0.2971 - val_accuracy: 0.8736\n",
      "Epoch 81/100\n",
      "259/259 [==============================] - 1s 6ms/step - loss: 0.2693 - accuracy: 0.8821 - val_loss: 0.3005 - val_accuracy: 0.8696\n",
      "Epoch 82/100\n",
      "259/259 [==============================] - 1s 4ms/step - loss: 0.2672 - accuracy: 0.8834 - val_loss: 0.2931 - val_accuracy: 0.8718\n",
      "Epoch 83/100\n",
      "259/259 [==============================] - 1s 6ms/step - loss: 0.2682 - accuracy: 0.8831 - val_loss: 0.2928 - val_accuracy: 0.8769\n",
      "Epoch 84/100\n",
      "259/259 [==============================] - 2s 8ms/step - loss: 0.2658 - accuracy: 0.8861 - val_loss: 0.2917 - val_accuracy: 0.8711\n",
      "Epoch 85/100\n",
      "259/259 [==============================] - 2s 8ms/step - loss: 0.2657 - accuracy: 0.8867 - val_loss: 0.2942 - val_accuracy: 0.8715\n",
      "Epoch 86/100\n",
      "259/259 [==============================] - 1s 5ms/step - loss: 0.2676 - accuracy: 0.8867 - val_loss: 0.2940 - val_accuracy: 0.8740\n",
      "Epoch 87/100\n",
      "259/259 [==============================] - 2s 6ms/step - loss: 0.2660 - accuracy: 0.8838 - val_loss: 0.2995 - val_accuracy: 0.8722\n",
      "Epoch 88/100\n",
      "259/259 [==============================] - 1s 5ms/step - loss: 0.2654 - accuracy: 0.8884 - val_loss: 0.2969 - val_accuracy: 0.8722\n",
      "Epoch 89/100\n",
      "259/259 [==============================] - 2s 6ms/step - loss: 0.2657 - accuracy: 0.8828 - val_loss: 0.2954 - val_accuracy: 0.8740\n",
      "Epoch 90/100\n",
      "259/259 [==============================] - 1s 5ms/step - loss: 0.2652 - accuracy: 0.8839 - val_loss: 0.2948 - val_accuracy: 0.8802\n",
      "Epoch 91/100\n",
      "259/259 [==============================] - 1s 5ms/step - loss: 0.2656 - accuracy: 0.8861 - val_loss: 0.2958 - val_accuracy: 0.8765\n",
      "Epoch 92/100\n",
      "259/259 [==============================] - 2s 7ms/step - loss: 0.2622 - accuracy: 0.8848 - val_loss: 0.2936 - val_accuracy: 0.8794\n",
      "Epoch 93/100\n",
      "259/259 [==============================] - 2s 7ms/step - loss: 0.2607 - accuracy: 0.8865 - val_loss: 0.2931 - val_accuracy: 0.8762\n",
      "Epoch 94/100\n",
      "259/259 [==============================] - 2s 6ms/step - loss: 0.2593 - accuracy: 0.8897 - val_loss: 0.2984 - val_accuracy: 0.8733\n",
      "Epoch 95/100\n",
      "259/259 [==============================] - 1s 4ms/step - loss: 0.2621 - accuracy: 0.8893 - val_loss: 0.3039 - val_accuracy: 0.8682\n",
      "Epoch 96/100\n",
      "259/259 [==============================] - 1s 5ms/step - loss: 0.2591 - accuracy: 0.8873 - val_loss: 0.2950 - val_accuracy: 0.8780\n",
      "Epoch 97/100\n",
      "259/259 [==============================] - 2s 6ms/step - loss: 0.2633 - accuracy: 0.8860 - val_loss: 0.2936 - val_accuracy: 0.8765\n",
      "Epoch 98/100\n",
      "259/259 [==============================] - 1s 4ms/step - loss: 0.2583 - accuracy: 0.8866 - val_loss: 0.2913 - val_accuracy: 0.8747\n",
      "Epoch 99/100\n",
      "259/259 [==============================] - 1s 5ms/step - loss: 0.2581 - accuracy: 0.8896 - val_loss: 0.2913 - val_accuracy: 0.8776\n",
      "Epoch 100/100\n",
      "259/259 [==============================] - 1s 6ms/step - loss: 0.2564 - accuracy: 0.8894 - val_loss: 0.2977 - val_accuracy: 0.8715\n"
     ]
    },
    {
     "data": {
      "text/html": [
       "<style>#sk-container-id-15 {color: black;}#sk-container-id-15 pre{padding: 0;}#sk-container-id-15 div.sk-toggleable {background-color: white;}#sk-container-id-15 label.sk-toggleable__label {cursor: pointer;display: block;width: 100%;margin-bottom: 0;padding: 0.3em;box-sizing: border-box;text-align: center;}#sk-container-id-15 label.sk-toggleable__label-arrow:before {content: \"▸\";float: left;margin-right: 0.25em;color: #696969;}#sk-container-id-15 label.sk-toggleable__label-arrow:hover:before {color: black;}#sk-container-id-15 div.sk-estimator:hover label.sk-toggleable__label-arrow:before {color: black;}#sk-container-id-15 div.sk-toggleable__content {max-height: 0;max-width: 0;overflow: hidden;text-align: left;background-color: #f0f8ff;}#sk-container-id-15 div.sk-toggleable__content pre {margin: 0.2em;color: black;border-radius: 0.25em;background-color: #f0f8ff;}#sk-container-id-15 input.sk-toggleable__control:checked~div.sk-toggleable__content {max-height: 200px;max-width: 100%;overflow: auto;}#sk-container-id-15 input.sk-toggleable__control:checked~label.sk-toggleable__label-arrow:before {content: \"▾\";}#sk-container-id-15 div.sk-estimator input.sk-toggleable__control:checked~label.sk-toggleable__label {background-color: #d4ebff;}#sk-container-id-15 div.sk-label input.sk-toggleable__control:checked~label.sk-toggleable__label {background-color: #d4ebff;}#sk-container-id-15 input.sk-hidden--visually {border: 0;clip: rect(1px 1px 1px 1px);clip: rect(1px, 1px, 1px, 1px);height: 1px;margin: -1px;overflow: hidden;padding: 0;position: absolute;width: 1px;}#sk-container-id-15 div.sk-estimator {font-family: monospace;background-color: #f0f8ff;border: 1px dotted black;border-radius: 0.25em;box-sizing: border-box;margin-bottom: 0.5em;}#sk-container-id-15 div.sk-estimator:hover {background-color: #d4ebff;}#sk-container-id-15 div.sk-parallel-item::after {content: \"\";width: 100%;border-bottom: 1px solid gray;flex-grow: 1;}#sk-container-id-15 div.sk-label:hover label.sk-toggleable__label {background-color: #d4ebff;}#sk-container-id-15 div.sk-serial::before {content: \"\";position: absolute;border-left: 1px solid gray;box-sizing: border-box;top: 0;bottom: 0;left: 50%;z-index: 0;}#sk-container-id-15 div.sk-serial {display: flex;flex-direction: column;align-items: center;background-color: white;padding-right: 0.2em;padding-left: 0.2em;position: relative;}#sk-container-id-15 div.sk-item {position: relative;z-index: 1;}#sk-container-id-15 div.sk-parallel {display: flex;align-items: stretch;justify-content: center;background-color: white;position: relative;}#sk-container-id-15 div.sk-item::before, #sk-container-id-15 div.sk-parallel-item::before {content: \"\";position: absolute;border-left: 1px solid gray;box-sizing: border-box;top: 0;bottom: 0;left: 50%;z-index: -1;}#sk-container-id-15 div.sk-parallel-item {display: flex;flex-direction: column;z-index: 1;position: relative;background-color: white;}#sk-container-id-15 div.sk-parallel-item:first-child::after {align-self: flex-end;width: 50%;}#sk-container-id-15 div.sk-parallel-item:last-child::after {align-self: flex-start;width: 50%;}#sk-container-id-15 div.sk-parallel-item:only-child::after {width: 0;}#sk-container-id-15 div.sk-dashed-wrapped {border: 1px dashed gray;margin: 0 0.4em 0.5em 0.4em;box-sizing: border-box;padding-bottom: 0.4em;background-color: white;}#sk-container-id-15 div.sk-label label {font-family: monospace;font-weight: bold;display: inline-block;line-height: 1.2em;}#sk-container-id-15 div.sk-label-container {text-align: center;}#sk-container-id-15 div.sk-container {/* jupyter's `normalize.less` sets `[hidden] { display: none; }` but bootstrap.min.css set `[hidden] { display: none !important; }` so we also need the `!important` here to be able to override the default hidden behavior on the sphinx rendered scikit-learn.org. See: https://github.com/scikit-learn/scikit-learn/issues/21755 */display: inline-block !important;position: relative;}#sk-container-id-15 div.sk-text-repr-fallback {display: none;}</style><div id=\"sk-container-id-15\" class=\"sk-top-container\"><div class=\"sk-text-repr-fallback\"><pre>KerasClassifier(\n",
       "\tmodel=None\n",
       "\tbuild_fn=&lt;function build_model at 0x7f0ae46704c0&gt;\n",
       "\twarm_start=False\n",
       "\trandom_state=None\n",
       "\toptimizer=rmsprop\n",
       "\tloss=None\n",
       "\tmetrics=None\n",
       "\tbatch_size=32\n",
       "\tvalidation_batch_size=None\n",
       "\tverbose=1\n",
       "\tcallbacks=None\n",
       "\tvalidation_split=0.2\n",
       "\tshuffle=True\n",
       "\trun_eagerly=False\n",
       "\tepochs=100\n",
       "\tclass_weight=None\n",
       ")</pre><b>In a Jupyter environment, please rerun this cell to show the HTML representation or trust the notebook. <br />On GitHub, the HTML representation is unable to render, please try loading this page with nbviewer.org.</b></div><div class=\"sk-container\" hidden><div class=\"sk-item\"><div class=\"sk-estimator sk-toggleable\"><input class=\"sk-toggleable__control sk-hidden--visually\" id=\"sk-estimator-id-15\" type=\"checkbox\" checked><label for=\"sk-estimator-id-15\" class=\"sk-toggleable__label sk-toggleable__label-arrow\">KerasClassifier</label><div class=\"sk-toggleable__content\"><pre>KerasClassifier(\n",
       "\tmodel=None\n",
       "\tbuild_fn=&lt;function build_model at 0x7f0ae46704c0&gt;\n",
       "\twarm_start=False\n",
       "\trandom_state=None\n",
       "\toptimizer=rmsprop\n",
       "\tloss=None\n",
       "\tmetrics=None\n",
       "\tbatch_size=32\n",
       "\tvalidation_batch_size=None\n",
       "\tverbose=1\n",
       "\tcallbacks=None\n",
       "\tvalidation_split=0.2\n",
       "\tshuffle=True\n",
       "\trun_eagerly=False\n",
       "\tepochs=100\n",
       "\tclass_weight=None\n",
       ")</pre></div></div></div></div></div>"
      ],
      "text/plain": [
       "KerasClassifier(\n",
       "\tmodel=None\n",
       "\tbuild_fn=<function build_model at 0x7f0ae46704c0>\n",
       "\twarm_start=False\n",
       "\trandom_state=None\n",
       "\toptimizer=rmsprop\n",
       "\tloss=None\n",
       "\tmetrics=None\n",
       "\tbatch_size=32\n",
       "\tvalidation_batch_size=None\n",
       "\tverbose=1\n",
       "\tcallbacks=None\n",
       "\tvalidation_split=0.2\n",
       "\tshuffle=True\n",
       "\trun_eagerly=False\n",
       "\tepochs=100\n",
       "\tclass_weight=None\n",
       ")"
      ]
     },
     "execution_count": 192,
     "metadata": {},
     "output_type": "execute_result"
    }
   ],
   "source": [
    "ann_model.fit(X_train, y_train, epochs=100, validation_data=(X_test, y_test))"
   ]
  },
  {
   "cell_type": "markdown",
   "metadata": {},
   "source": [
    "## Max Voting"
   ]
  },
  {
   "cell_type": "code",
   "execution_count": 193,
   "metadata": {},
   "outputs": [],
   "source": [
    "hvt_model = VotingClassifier(estimators=[(\"ann\", ann_model), (\"xgb\", xgb_model)], voting='hard', weights=[1,2])"
   ]
  },
  {
   "cell_type": "code",
   "execution_count": 194,
   "metadata": {},
   "outputs": [
    {
     "ename": "NotImplementedError",
     "evalue": "Multilabel and multi-output classification is not supported.",
     "output_type": "error",
     "traceback": [
      "\u001b[0;31m---------------------------------------------------------------------------\u001b[0m",
      "\u001b[0;31mNotImplementedError\u001b[0m                       Traceback (most recent call last)",
      "Cell \u001b[0;32mIn[194], line 1\u001b[0m\n\u001b[0;32m----> 1\u001b[0m \u001b[43mhvt_model\u001b[49m\u001b[38;5;241;43m.\u001b[39;49m\u001b[43mfit\u001b[49m\u001b[43m(\u001b[49m\u001b[43mX_train\u001b[49m\u001b[43m,\u001b[49m\u001b[43m \u001b[49m\u001b[43my_train\u001b[49m\u001b[43m)\u001b[49m\n",
      "File \u001b[0;32m~/.conda/envs/daa1/lib/python3.10/site-packages/sklearn/base.py:1151\u001b[0m, in \u001b[0;36m_fit_context.<locals>.decorator.<locals>.wrapper\u001b[0;34m(estimator, *args, **kwargs)\u001b[0m\n\u001b[1;32m   1144\u001b[0m     estimator\u001b[39m.\u001b[39m_validate_params()\n\u001b[1;32m   1146\u001b[0m \u001b[39mwith\u001b[39;00m config_context(\n\u001b[1;32m   1147\u001b[0m     skip_parameter_validation\u001b[39m=\u001b[39m(\n\u001b[1;32m   1148\u001b[0m         prefer_skip_nested_validation \u001b[39mor\u001b[39;00m global_skip_validation\n\u001b[1;32m   1149\u001b[0m     )\n\u001b[1;32m   1150\u001b[0m ):\n\u001b[0;32m-> 1151\u001b[0m     \u001b[39mreturn\u001b[39;00m fit_method(estimator, \u001b[39m*\u001b[39;49margs, \u001b[39m*\u001b[39;49m\u001b[39m*\u001b[39;49mkwargs)\n",
      "File \u001b[0;32m~/.conda/envs/daa1/lib/python3.10/site-packages/sklearn/ensemble/_voting.py:341\u001b[0m, in \u001b[0;36mVotingClassifier.fit\u001b[0;34m(self, X, y, sample_weight)\u001b[0m\n\u001b[1;32m    339\u001b[0m check_classification_targets(y)\n\u001b[1;32m    340\u001b[0m \u001b[39mif\u001b[39;00m \u001b[39misinstance\u001b[39m(y, np\u001b[39m.\u001b[39mndarray) \u001b[39mand\u001b[39;00m \u001b[39mlen\u001b[39m(y\u001b[39m.\u001b[39mshape) \u001b[39m>\u001b[39m \u001b[39m1\u001b[39m \u001b[39mand\u001b[39;00m y\u001b[39m.\u001b[39mshape[\u001b[39m1\u001b[39m] \u001b[39m>\u001b[39m \u001b[39m1\u001b[39m:\n\u001b[0;32m--> 341\u001b[0m     \u001b[39mraise\u001b[39;00m \u001b[39mNotImplementedError\u001b[39;00m(\n\u001b[1;32m    342\u001b[0m         \u001b[39m\"\u001b[39m\u001b[39mMultilabel and multi-output classification is not supported.\u001b[39m\u001b[39m\"\u001b[39m\n\u001b[1;32m    343\u001b[0m     )\n\u001b[1;32m    345\u001b[0m \u001b[39mself\u001b[39m\u001b[39m.\u001b[39mle_ \u001b[39m=\u001b[39m LabelEncoder()\u001b[39m.\u001b[39mfit(y)\n\u001b[1;32m    346\u001b[0m \u001b[39mself\u001b[39m\u001b[39m.\u001b[39mclasses_ \u001b[39m=\u001b[39m \u001b[39mself\u001b[39m\u001b[39m.\u001b[39mle_\u001b[39m.\u001b[39mclasses_\n",
      "\u001b[0;31mNotImplementedError\u001b[0m: Multilabel and multi-output classification is not supported."
     ]
    }
   ],
   "source": [
    "hvt_model.fit(X_train, y_train)"
   ]
  },
  {
   "cell_type": "code",
   "execution_count": null,
   "metadata": {},
   "outputs": [],
   "source": [
    "hvt_score = hvt_model.score(X_test, y_test)\n",
    "print(\"Accuracy: %.2f%%\" % (hvt_score*100))"
   ]
  },
  {
   "cell_type": "code",
   "execution_count": null,
   "metadata": {},
   "outputs": [],
   "source": [
    "hvt_predictions = hvt_model.predict(X_test)"
   ]
  },
  {
   "cell_type": "code",
   "execution_count": null,
   "metadata": {},
   "outputs": [],
   "source": [
    "print(classification_report(y_test, hvt_predictions))"
   ]
  },
  {
   "cell_type": "code",
   "execution_count": null,
   "metadata": {},
   "outputs": [],
   "source": [
    "hvt_predictions.to_csv('../../../datasets/parte2/teste/ensemble_results.csv', index=False)"
   ]
  },
  {
   "cell_type": "code",
   "execution_count": null,
   "metadata": {},
   "outputs": [],
   "source": [
    "#for model, label in zip([ann_model, xgb_model, hvt_model], ['ann', 'xgb', 'ensemble']):\n",
    "#    hvt_score = cross_val_score(model, X_test, y_test, scoring='accuracy', cv=10)\n",
    "#    print(\"Accuracy: %0.2f (+/- %0.2f) [%s]\")"
   ]
  }
 ],
 "metadata": {
  "kernelspec": {
   "display_name": "Python 3.10.13 ('daa1')",
   "language": "python",
   "name": "python3"
  },
  "language_info": {
   "codemirror_mode": {
    "name": "ipython",
    "version": 3
   },
   "file_extension": ".py",
   "mimetype": "text/x-python",
   "name": "python",
   "nbconvert_exporter": "python",
   "pygments_lexer": "ipython3",
   "version": "3.10.13"
  },
  "orig_nbformat": 4,
  "vscode": {
   "interpreter": {
    "hash": "b591d187f37fd73410aa6677fb7622cf9fb1a6dcb0be9eb075fceec3f912c4c8"
   }
  }
 },
 "nbformat": 4,
 "nbformat_minor": 2
}
